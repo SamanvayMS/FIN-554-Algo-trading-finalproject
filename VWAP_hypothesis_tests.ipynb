{
  "nbformat": 4,
  "nbformat_minor": 0,
  "metadata": {
    "colab": {
      "provenance": [],
      "authorship_tag": "ABX9TyMk5/cF4iVtv7O3+eMB1F5T",
      "include_colab_link": true
    },
    "kernelspec": {
      "name": "python3",
      "display_name": "Python 3"
    },
    "language_info": {
      "name": "python"
    }
  },
  "cells": [
    {
      "cell_type": "markdown",
      "metadata": {
        "id": "view-in-github",
        "colab_type": "text"
      },
      "source": [
        "<a href=\"https://colab.research.google.com/github/SamanvayMS/FIN-554-Algo-trading-finalproject/blob/main/VWAP_hypothesis_tests.ipynb\" target=\"_parent\"><img src=\"https://colab.research.google.com/assets/colab-badge.svg\" alt=\"Open In Colab\"/></a>"
      ]
    },
    {
      "cell_type": "code",
      "execution_count": 1,
      "metadata": {
        "colab": {
          "base_uri": "https://localhost:8080/"
        },
        "id": "WV4Z65nQhEvM",
        "outputId": "286ac05e-72c9-42f1-817b-41c8b0866bc6"
      },
      "outputs": [
        {
          "output_type": "stream",
          "name": "stdout",
          "text": [
            "Looking in indexes: https://pypi.org/simple, https://us-python.pkg.dev/colab-wheels/public/simple/\n",
            "Requirement already satisfied: yfinance in /usr/local/lib/python3.10/dist-packages (0.2.18)\n",
            "Requirement already satisfied: lxml>=4.9.1 in /usr/local/lib/python3.10/dist-packages (from yfinance) (4.9.2)\n",
            "Requirement already satisfied: requests>=2.26 in /usr/local/lib/python3.10/dist-packages (from yfinance) (2.27.1)\n",
            "Requirement already satisfied: html5lib>=1.1 in /usr/local/lib/python3.10/dist-packages (from yfinance) (1.1)\n",
            "Requirement already satisfied: pytz>=2022.5 in /usr/local/lib/python3.10/dist-packages (from yfinance) (2022.7.1)\n",
            "Requirement already satisfied: multitasking>=0.0.7 in /usr/local/lib/python3.10/dist-packages (from yfinance) (0.0.11)\n",
            "Requirement already satisfied: beautifulsoup4>=4.11.1 in /usr/local/lib/python3.10/dist-packages (from yfinance) (4.11.2)\n",
            "Requirement already satisfied: pandas>=1.3.0 in /usr/local/lib/python3.10/dist-packages (from yfinance) (1.5.3)\n",
            "Requirement already satisfied: numpy>=1.16.5 in /usr/local/lib/python3.10/dist-packages (from yfinance) (1.22.4)\n",
            "Requirement already satisfied: frozendict>=2.3.4 in /usr/local/lib/python3.10/dist-packages (from yfinance) (2.3.7)\n",
            "Requirement already satisfied: cryptography>=3.3.2 in /usr/local/lib/python3.10/dist-packages (from yfinance) (40.0.2)\n",
            "Requirement already satisfied: appdirs>=1.4.4 in /usr/local/lib/python3.10/dist-packages (from yfinance) (1.4.4)\n",
            "Requirement already satisfied: soupsieve>1.2 in /usr/local/lib/python3.10/dist-packages (from beautifulsoup4>=4.11.1->yfinance) (2.4.1)\n",
            "Requirement already satisfied: cffi>=1.12 in /usr/local/lib/python3.10/dist-packages (from cryptography>=3.3.2->yfinance) (1.15.1)\n",
            "Requirement already satisfied: webencodings in /usr/local/lib/python3.10/dist-packages (from html5lib>=1.1->yfinance) (0.5.1)\n",
            "Requirement already satisfied: six>=1.9 in /usr/local/lib/python3.10/dist-packages (from html5lib>=1.1->yfinance) (1.16.0)\n",
            "Requirement already satisfied: python-dateutil>=2.8.1 in /usr/local/lib/python3.10/dist-packages (from pandas>=1.3.0->yfinance) (2.8.2)\n",
            "Requirement already satisfied: charset-normalizer~=2.0.0 in /usr/local/lib/python3.10/dist-packages (from requests>=2.26->yfinance) (2.0.12)\n",
            "Requirement already satisfied: urllib3<1.27,>=1.21.1 in /usr/local/lib/python3.10/dist-packages (from requests>=2.26->yfinance) (1.26.15)\n",
            "Requirement already satisfied: certifi>=2017.4.17 in /usr/local/lib/python3.10/dist-packages (from requests>=2.26->yfinance) (2022.12.7)\n",
            "Requirement already satisfied: idna<4,>=2.5 in /usr/local/lib/python3.10/dist-packages (from requests>=2.26->yfinance) (3.4)\n",
            "Requirement already satisfied: pycparser in /usr/local/lib/python3.10/dist-packages (from cffi>=1.12->cryptography>=3.3.2->yfinance) (2.21)\n"
          ]
        }
      ],
      "source": [
        "pip install yfinance"
      ]
    },
    {
      "cell_type": "code",
      "source": [
        "pip install update pandas_datareader"
      ],
      "metadata": {
        "colab": {
          "base_uri": "https://localhost:8080/"
        },
        "id": "nfok15NGhF_U",
        "outputId": "f3b4c2e3-549e-4694-915d-11bcd381e7ff"
      },
      "execution_count": 2,
      "outputs": [
        {
          "output_type": "stream",
          "name": "stdout",
          "text": [
            "Looking in indexes: https://pypi.org/simple, https://us-python.pkg.dev/colab-wheels/public/simple/\n",
            "Collecting update\n",
            "  Downloading update-0.0.1-py2.py3-none-any.whl (2.9 kB)\n",
            "Requirement already satisfied: pandas_datareader in /usr/local/lib/python3.10/dist-packages (0.10.0)\n",
            "Collecting style==1.1.0\n",
            "  Downloading style-1.1.0-py2.py3-none-any.whl (6.4 kB)\n",
            "Requirement already satisfied: lxml in /usr/local/lib/python3.10/dist-packages (from pandas_datareader) (4.9.2)\n",
            "Requirement already satisfied: pandas>=0.23 in /usr/local/lib/python3.10/dist-packages (from pandas_datareader) (1.5.3)\n",
            "Requirement already satisfied: requests>=2.19.0 in /usr/local/lib/python3.10/dist-packages (from pandas_datareader) (2.27.1)\n",
            "Requirement already satisfied: python-dateutil>=2.8.1 in /usr/local/lib/python3.10/dist-packages (from pandas>=0.23->pandas_datareader) (2.8.2)\n",
            "Requirement already satisfied: pytz>=2020.1 in /usr/local/lib/python3.10/dist-packages (from pandas>=0.23->pandas_datareader) (2022.7.1)\n",
            "Requirement already satisfied: numpy>=1.21.0 in /usr/local/lib/python3.10/dist-packages (from pandas>=0.23->pandas_datareader) (1.22.4)\n",
            "Requirement already satisfied: certifi>=2017.4.17 in /usr/local/lib/python3.10/dist-packages (from requests>=2.19.0->pandas_datareader) (2022.12.7)\n",
            "Requirement already satisfied: urllib3<1.27,>=1.21.1 in /usr/local/lib/python3.10/dist-packages (from requests>=2.19.0->pandas_datareader) (1.26.15)\n",
            "Requirement already satisfied: idna<4,>=2.5 in /usr/local/lib/python3.10/dist-packages (from requests>=2.19.0->pandas_datareader) (3.4)\n",
            "Requirement already satisfied: charset-normalizer~=2.0.0 in /usr/local/lib/python3.10/dist-packages (from requests>=2.19.0->pandas_datareader) (2.0.12)\n",
            "Requirement already satisfied: six>=1.5 in /usr/local/lib/python3.10/dist-packages (from python-dateutil>=2.8.1->pandas>=0.23->pandas_datareader) (1.16.0)\n",
            "Installing collected packages: style, update\n",
            "Successfully installed style-1.1.0 update-0.0.1\n"
          ]
        }
      ]
    },
    {
      "cell_type": "code",
      "source": [
        "import pandas as pd\n",
        "import yfinance as yf\n",
        "import numpy as np\n",
        "import matplotlib.pyplot as plt\n",
        "\n",
        "%matplotlib inline"
      ],
      "metadata": {
        "id": "LVL1_sDihH5z"
      },
      "execution_count": 3,
      "outputs": []
    },
    {
      "cell_type": "code",
      "source": [
        "yf.pdr_override()"
      ],
      "metadata": {
        "id": "uyJdO0dDhJyr"
      },
      "execution_count": 4,
      "outputs": []
    },
    {
      "cell_type": "code",
      "source": [
        "start='2000-01-01'\n",
        "end='2010-01-01'\n",
        "df = yf.download('SPY',start,end)"
      ],
      "metadata": {
        "colab": {
          "base_uri": "https://localhost:8080/"
        },
        "id": "fyuZEuY_hLks",
        "outputId": "c1db17cf-f902-438e-91d4-ce1df9cdc060"
      },
      "execution_count": 5,
      "outputs": [
        {
          "output_type": "stream",
          "name": "stdout",
          "text": [
            "\r[*********************100%***********************]  1 of 1 completed\n"
          ]
        }
      ]
    },
    {
      "cell_type": "code",
      "source": [
        "df.columns"
      ],
      "metadata": {
        "colab": {
          "base_uri": "https://localhost:8080/"
        },
        "id": "X6ptHit4hNpM",
        "outputId": "d2b883ee-cb04-4650-832b-775b14b0e079"
      },
      "execution_count": 6,
      "outputs": [
        {
          "output_type": "execute_result",
          "data": {
            "text/plain": [
              "Index(['Open', 'High', 'Low', 'Close', 'Adj Close', 'Volume'], dtype='object')"
            ]
          },
          "metadata": {},
          "execution_count": 6
        }
      ]
    },
    {
      "cell_type": "code",
      "source": [
        "tech_stocks=['AAPL','MSFT','NVDA','V','MA','CSCO','ACN','CRM','ADBE','AMD']"
      ],
      "metadata": {
        "id": "ieNxLOj_zdA-"
      },
      "execution_count": null,
      "outputs": []
    },
    {
      "cell_type": "code",
      "source": [
        "def data_prep_VWAP(symbol,lookback,start,end):\n",
        "  # Calculate the cumulative sum of price times volume\n",
        "  df = yf.download(symbol,start,end)\n",
        "  df['PV'] = df['Close'] * df['Volume']\n",
        "  df['CumulativePV'] = df['PV'].rolling(lookback).sum()\n",
        "\n",
        "  # Calculate the cumulative sum of volume\n",
        "  df['CumulativeVolume'] = df['Volume'].rolling(lookback).sum()\n",
        "\n",
        "  # Calculate the rolling VWAP\n",
        "  df['RollingVWAP'] = df['CumulativePV'] / df['CumulativeVolume']\n",
        "  df['signal']=np.where(df['Open']>df['RollingVWAP'].shift(1),1,0)\n",
        "  df['returns']=(df['Close']-df['Open'])/df['Open']\n",
        "  df['shifted_returns']=df['returns'].shift(-1)\n",
        "  df['direction'] = [1 if x>0 else 0 for x in df['returns']]\n",
        "  df=df.dropna(axis=0)\n",
        "  return df"
      ],
      "metadata": {
        "id": "Ar4mIFOKhQck"
      },
      "execution_count": 7,
      "outputs": []
    },
    {
      "cell_type": "markdown",
      "source": [
        "# Hypothesis Tests \n"
      ],
      "metadata": {
        "id": "VvW349sLvZyB"
      }
    },
    {
      "cell_type": "markdown",
      "source": [
        "chi_squared test"
      ],
      "metadata": {
        "id": "gpUvbY0Qc81N"
      }
    },
    {
      "cell_type": "code",
      "source": [
        "from scipy.stats import chi2_contingency"
      ],
      "metadata": {
        "id": "TbzGsI8wwApx"
      },
      "execution_count": 8,
      "outputs": []
    },
    {
      "cell_type": "markdown",
      "source": [
        "H0 :- null hypothesis assumes no significant relationship between opening price and the previous rolling VWAP value\n",
        "\n",
        "H1 :- significant relationship with the previous VWAP value bullish when above VWAP and bearish when below VWAP"
      ],
      "metadata": {
        "id": "J3r4QVwChk1S"
      }
    },
    {
      "cell_type": "code",
      "source": [
        "def chi_2(Symbol,start,end):\n",
        "  df = data_prep_VWAP(Symbol,lookback=22,start=start,end=end)\n",
        "  observed=pd.crosstab(df['direction'],df['signal'])\n",
        "  result = chi2_contingency(observed)\n",
        "  print(f\"p value for {Symbol} is {result[1]}\")\n",
        "  if result[1]>0.01:\n",
        "    print(\"null hypothesis cannot be rejected\")\n",
        "  else:\n",
        "    print(\"null hypothesis is rejected\")"
      ],
      "metadata": {
        "id": "uyRVt7mgkdKW"
      },
      "execution_count": 9,
      "outputs": []
    },
    {
      "cell_type": "code",
      "source": [
        "stocks=['SPY','AAPL','MSFT','GOOG','AMZN','JPM','JNJ','CSCO','NKE','DIS']\n",
        "for stock in stocks:\n",
        "  chi_2(stock,start,end)"
      ],
      "metadata": {
        "id": "2Bhp9jsdlmqK",
        "colab": {
          "base_uri": "https://localhost:8080/"
        },
        "outputId": "6091feaf-1f25-4287-fc0d-f8029450d2e4"
      },
      "execution_count": 10,
      "outputs": [
        {
          "output_type": "stream",
          "name": "stdout",
          "text": [
            "\r[*********************100%***********************]  1 of 1 completed\n",
            "p value for SPY is 0.8831203192190378\n",
            "null hypothesis cannot be rejected\n",
            "[*********************100%***********************]  1 of 1 completed\n",
            "p value for AAPL is 0.5138359538518882\n",
            "null hypothesis cannot be rejected\n",
            "[*********************100%***********************]  1 of 1 completed\n",
            "p value for MSFT is 0.025630048985128294\n",
            "null hypothesis cannot be rejected\n",
            "[*********************100%***********************]  1 of 1 completed\n",
            "p value for GOOG is 0.5220185240058981\n",
            "null hypothesis cannot be rejected\n",
            "[*********************100%***********************]  1 of 1 completed\n",
            "p value for AMZN is 0.7900193952763703\n",
            "null hypothesis cannot be rejected\n",
            "[*********************100%***********************]  1 of 1 completed\n",
            "p value for JPM is 0.6846315675708875\n",
            "null hypothesis cannot be rejected\n",
            "[*********************100%***********************]  1 of 1 completed\n",
            "p value for JNJ is 0.48938170126414116\n",
            "null hypothesis cannot be rejected\n",
            "[*********************100%***********************]  1 of 1 completed\n",
            "p value for CSCO is 0.8407421455329392\n",
            "null hypothesis cannot be rejected\n",
            "[*********************100%***********************]  1 of 1 completed\n",
            "p value for NKE is 0.844198940695985\n",
            "null hypothesis cannot be rejected\n",
            "[*********************100%***********************]  1 of 1 completed\n",
            "p value for DIS is 0.13848200734700505\n",
            "null hypothesis cannot be rejected\n"
          ]
        }
      ]
    },
    {
      "cell_type": "markdown",
      "source": [
        "wilcox rank test"
      ],
      "metadata": {
        "id": "RGkML7JHc_vc"
      }
    },
    {
      "cell_type": "code",
      "source": [
        "from scipy.stats import ranksums\n",
        "from scipy.stats import shapiro\n",
        "from scipy.stats import ttest_ind"
      ],
      "metadata": {
        "id": "gy32_4jSdBys"
      },
      "execution_count": 11,
      "outputs": []
    },
    {
      "cell_type": "markdown",
      "source": [
        "H0:-There is no significant relationship between the returns and the price's position relative to the VWAP.\n",
        "\n",
        "H1:-The returns are significantly positive when the price is above the VWAP and significantly negative when the price is below the VWAP."
      ],
      "metadata": {
        "id": "SK32pflOgvyU"
      }
    },
    {
      "cell_type": "code",
      "source": [
        "def tests(Symbol,start,end):\n",
        "  df = data_prep_VWAP(Symbol,lookback=22,start=start,end=end)\n",
        "  above_vwap = df[df['Open'] > df['RollingVWAP'].shift(1)]['returns']\n",
        "  below_vwap = df[df['Open'] < df['RollingVWAP'].shift(1)]['returns']\n",
        "\n",
        "  plt.hist(above_vwap,bins=30,color=\"green\",alpha=0.5)\n",
        "  plt.hist(below_vwap,bins=30,color=\"red\",alpha=0.5)\n",
        "  plt.show()\n",
        "  _, p_value1 = shapiro(above_vwap)\n",
        "  _, p_value2 = shapiro(below_vwap)\n",
        "  if p_value1 > 0.01 and p_value2 > 0.01:\n",
        "    print(\"returns are normally distributed\")\n",
        "    print(\"we can run a t-test\")\n",
        "    stat, p_value = ttest_ind(above_vwap, below_vwap, equal_var=True)\n",
        "  else:\n",
        "    print(\"returns are not normally distributed\")\n",
        "    print(\"we can run a Wilcox Rank Sum test\")    \n",
        "    stat, p_value = ranksums(above_vwap, below_vwap)\n",
        "  print(f\"p value for {Symbol} is {p_value}\")\n",
        "  if p_value>0.01:\n",
        "    print(\"null hypothesis cannot be rejected\")\n",
        "  else:\n",
        "    print(\"null hypothesis is rejected\")"
      ],
      "metadata": {
        "id": "C7x5O2XWdoLp"
      },
      "execution_count": 12,
      "outputs": []
    },
    {
      "cell_type": "code",
      "source": [
        "stocks=['SPY','AAPL','MSFT','GOOG','AMZN','JPM','JNJ','CSCO','NKE','DIS']\n",
        "for stock in stocks:\n",
        "  tests(stock,start,end)"
      ],
      "metadata": {
        "colab": {
          "base_uri": "https://localhost:8080/",
          "height": 1000
        },
        "id": "7QNEnD1veS0e",
        "outputId": "3824663e-b91d-417a-f660-dba0697f2f73"
      },
      "execution_count": 13,
      "outputs": [
        {
          "output_type": "stream",
          "name": "stdout",
          "text": [
            "\r[*********************100%***********************]  1 of 1 completed\n"
          ]
        },
        {
          "output_type": "display_data",
          "data": {
            "text/plain": [
              "<Figure size 640x480 with 1 Axes>"
            ],
            "image/png": "[encoded data removed]"
          },
          "metadata": {}
        },
        {
          "output_type": "stream",
          "name": "stdout",
          "text": [
            "returns are not normally distributed\n",
            "we can run a Wilcox Rank Sum test\n",
            "p value for SPY is 0.9342154723716692\n",
            "null hypothesis cannot be rejected\n",
            "[*********************100%***********************]  1 of 1 completed\n"
          ]
        },
        {
          "output_type": "display_data",
          "data": {
            "text/plain": [
              "<Figure size 640x480 with 1 Axes>"
            ],
            "image/png": "[encoded data removed]"
          },
          "metadata": {}
        },
        {
          "output_type": "stream",
          "name": "stdout",
          "text": [
            "returns are not normally distributed\n",
            "we can run a Wilcox Rank Sum test\n",
            "p value for AAPL is 0.42120802228683074\n",
            "null hypothesis cannot be rejected\n",
            "[*********************100%***********************]  1 of 1 completed\n"
          ]
        },
        {
          "output_type": "display_data",
          "data": {
            "text/plain": [
              "<Figure size 640x480 with 1 Axes>"
            ],
            "image/png": "[encoded data removed]"
          },
          "metadata": {}
        },
        {
          "output_type": "stream",
          "name": "stdout",
          "text": [
            "returns are not normally distributed\n",
            "we can run a Wilcox Rank Sum test\n",
            "p value for MSFT is 0.049846146606800874\n",
            "null hypothesis cannot be rejected\n",
            "\r[*********************100%***********************]  1 of 1 completed\n"
          ]
        },
        {
          "output_type": "display_data",
          "data": {
            "text/plain": [
              "<Figure size 640x480 with 1 Axes>"
            ],
            "image/png": "[encoded data removed]"
          },
          "metadata": {}
        },
        {
          "output_type": "stream",
          "name": "stdout",
          "text": [
            "returns are not normally distributed\n",
            "we can run a Wilcox Rank Sum test\n",
            "p value for GOOG is 0.433778040754765\n",
            "null hypothesis cannot be rejected\n",
            "[*********************100%***********************]  1 of 1 completed\n"
          ]
        },
        {
          "output_type": "display_data",
          "data": {
            "text/plain": [
              "<Figure size 640x480 with 1 Axes>"
            ],
            "image/png": "[encoded data removed]"
          },
          "metadata": {}
        },
        {
          "output_type": "stream",
          "name": "stdout",
          "text": [
            "returns are not normally distributed\n",
            "we can run a Wilcox Rank Sum test\n",
            "p value for AMZN is 0.6044021885366164\n",
            "null hypothesis cannot be rejected\n",
            "[*********************100%***********************]  1 of 1 completed\n"
          ]
        },
        {
          "output_type": "display_data",
          "data": {
            "text/plain": [
              "<Figure size 640x480 with 1 Axes>"
            ],
            "image/png": "[encoded data removed]"
          },
          "metadata": {}
        },
        {
          "output_type": "stream",
          "name": "stdout",
          "text": [
            "returns are not normally distributed\n",
            "we can run a Wilcox Rank Sum test\n",
            "p value for JPM is 0.7086203817902481\n",
            "null hypothesis cannot be rejected\n",
            "[*********************100%***********************]  1 of 1 completed\n"
          ]
        },
        {
          "output_type": "display_data",
          "data": {
            "text/plain": [
              "<Figure size 640x480 with 1 Axes>"
            ],
            "image/png": "[encoded data removed]"
          },
          "metadata": {}
        },
        {
          "output_type": "stream",
          "name": "stdout",
          "text": [
            "returns are not normally distributed\n",
            "we can run a Wilcox Rank Sum test\n",
            "p value for JNJ is 0.5026168329255889\n",
            "null hypothesis cannot be rejected\n",
            "[*********************100%***********************]  1 of 1 completed\n"
          ]
        },
        {
          "output_type": "display_data",
          "data": {
            "text/plain": [
              "<Figure size 640x480 with 1 Axes>"
            ],
            "image/png": "[encoded data removed]"
          },
          "metadata": {}
        },
        {
          "output_type": "stream",
          "name": "stdout",
          "text": [
            "returns are not normally distributed\n",
            "we can run a Wilcox Rank Sum test\n",
            "p value for CSCO is 0.6659673092583126\n",
            "null hypothesis cannot be rejected\n",
            "[*********************100%***********************]  1 of 1 completed\n"
          ]
        },
        {
          "output_type": "display_data",
          "data": {
            "text/plain": [
              "<Figure size 640x480 with 1 Axes>"
            ],
            "image/png": "[encoded data removed]"
          },
          "metadata": {}
        },
        {
          "output_type": "stream",
          "name": "stdout",
          "text": [
            "returns are not normally distributed\n",
            "we can run a Wilcox Rank Sum test\n",
            "p value for NKE is 0.4373215529506336\n",
            "null hypothesis cannot be rejected\n",
            "[*********************100%***********************]  1 of 1 completed\n"
          ]
        },
        {
          "output_type": "display_data",
          "data": {
            "text/plain": [
              "<Figure size 640x480 with 1 Axes>"
            ],
            "image/png": "[encoded data removed]"
          },
          "metadata": {}
        },
        {
          "output_type": "stream",
          "name": "stdout",
          "text": [
            "returns are not normally distributed\n",
            "we can run a Wilcox Rank Sum test\n",
            "p value for DIS is 0.025824688836200423\n",
            "null hypothesis cannot be rejected\n"
          ]
        }
      ]
    },
    {
      "cell_type": "markdown",
      "source": [
        "# Taking moving averages\n"
      ],
      "metadata": {
        "id": "UnQ7Tt6byd28"
      }
    },
    {
      "cell_type": "code",
      "source": [
        "def data_prep_EMA(symbol,start,end,ma_list,ema_list):\n",
        "  # Calculate the cumulative sum of price times volume\n",
        "  df = yf.download(symbol,start,end)\n",
        "  # Calculate the rolling MAs\n",
        "  for ma in ma_list:\n",
        "    name=str(ma)+'_MA'\n",
        "    df[name]=df['Close'].rolling(window=ma).mean()\n",
        "  for ema in ema_list:\n",
        "    name=str(ema)+'_EMA'\n",
        "    df[name]=df['Close'].ewm(span=5, adjust=False).mean()\n",
        "  df['returns']=(df['Close']-df['Open'])/df['Open']\n",
        "  df=df.dropna(axis=0)\n",
        "  return df"
      ],
      "metadata": {
        "id": "3UNVfC0Myjkc"
      },
      "execution_count": 14,
      "outputs": []
    },
    {
      "cell_type": "code",
      "source": [
        "data_prep_EMA('AAPL',start,end,[100],[100])"
      ],
      "metadata": {
        "id": "yIOMu0RPCkMN",
        "colab": {
          "base_uri": "https://localhost:8080/",
          "height": 473
        },
        "outputId": "c04a14d7-59e0-4521-a705-c85e62f21f00"
      },
      "execution_count": 15,
      "outputs": [
        {
          "output_type": "stream",
          "name": "stdout",
          "text": [
            "\r[*********************100%***********************]  1 of 1 completed\n"
          ]
        },
        {
          "output_type": "execute_result",
          "data": {
            "text/plain": [
              "                Open      High       Low     Close  Adj Close     Volume  \\\n",
              "Date                                                                       \n",
              "2000-05-24  0.769531  0.801339  0.741071  0.782924   0.666361  678462400   \n",
              "2000-05-25  0.790179  0.827288  0.767857  0.779157   0.663155  406750400   \n",
              "2000-05-26  0.785714  0.802455  0.761161  0.771205   0.656387  181148800   \n",
              "2000-05-30  0.782366  0.786830  0.729911  0.781808   0.665411  713059200   \n",
              "2000-05-31  0.775670  0.814732  0.748326  0.750000   0.638339  433507200   \n",
              "...              ...       ...       ...       ...        ...        ...   \n",
              "2009-12-24  7.269643  7.476786  7.262500  7.465714   6.354207  500889200   \n",
              "2009-12-28  7.561429  7.641071  7.486071  7.557500   6.432326  644565600   \n",
              "2009-12-29  7.593929  7.597143  7.454643  7.467857   6.356029  445205600   \n",
              "2009-12-30  7.458214  7.571429  7.439643  7.558571   6.433239  412084400   \n",
              "2009-12-31  7.611786  7.619643  7.520000  7.526071   6.405577  352410800   \n",
              "\n",
              "              100_MA   100_EMA   returns  \n",
              "Date                                      \n",
              "2000-05-24  1.023852  0.814300  0.017404  \n",
              "2000-05-25  1.021649  0.802586 -0.013949  \n",
              "2000-05-26  1.020209  0.792126 -0.018466  \n",
              "2000-05-30  1.018742  0.788686 -0.000713  \n",
              "2000-05-31  1.017759  0.775791 -0.033094  \n",
              "...              ...       ...       ...  \n",
              "2009-12-24  6.670014  7.223913  0.026971  \n",
              "2009-12-28  6.686621  7.335109 -0.000520  \n",
              "2009-12-29  6.702761  7.379358 -0.016602  \n",
              "2009-12-30  6.719236  7.439096  0.013456  \n",
              "2009-12-31  6.735668  7.468087 -0.011261  \n",
              "\n",
              "[2416 rows x 9 columns]"
            ],
            "text/html": [
              "\n",
              "  <div id=\"df-76172b74-71a6-4b4d-84ff-6cc866f341a0\">\n",
              "    <div class=\"colab-df-container\">\n",
              "      <div>\n",
              "<style scoped>\n",
              "    .dataframe tbody tr th:only-of-type {\n",
              "        vertical-align: middle;\n",
              "    }\n",
              "\n",
              "    .dataframe tbody tr th {\n",
              "        vertical-align: top;\n",
              "    }\n",
              "\n",
              "    .dataframe thead th {\n",
              "        text-align: right;\n",
              "    }\n",
              "</style>\n",
              "<table border=\"1\" class=\"dataframe\">\n",
              "  <thead>\n",
              "    <tr style=\"text-align: right;\">\n",
              "      <th></th>\n",
              "      <th>Open</th>\n",
              "      <th>High</th>\n",
              "      <th>Low</th>\n",
              "      <th>Close</th>\n",
              "      <th>Adj Close</th>\n",
              "      <th>Volume</th>\n",
              "      <th>100_MA</th>\n",
              "      <th>100_EMA</th>\n",
              "      <th>returns</th>\n",
              "    </tr>\n",
              "    <tr>\n",
              "      <th>Date</th>\n",
              "      <th></th>\n",
              "      <th></th>\n",
              "      <th></th>\n",
              "      <th></th>\n",
              "      <th></th>\n",
              "      <th></th>\n",
              "      <th></th>\n",
              "      <th></th>\n",
              "      <th></th>\n",
              "    </tr>\n",
              "  </thead>\n",
              "  <tbody>\n",
              "    <tr>\n",
              "      <th>2000-05-24</th>\n",
              "      <td>0.769531</td>\n",
              "      <td>0.801339</td>\n",
              "      <td>0.741071</td>\n",
              "      <td>0.782924</td>\n",
              "      <td>0.666361</td>\n",
              "      <td>678462400</td>\n",
              "      <td>1.023852</td>\n",
              "      <td>0.814300</td>\n",
              "      <td>0.017404</td>\n",
              "    </tr>\n",
              "    <tr>\n",
              "      <th>2000-05-25</th>\n",
              "      <td>0.790179</td>\n",
              "      <td>0.827288</td>\n",
              "      <td>0.767857</td>\n",
              "      <td>0.779157</td>\n",
              "      <td>0.663155</td>\n",
              "      <td>406750400</td>\n",
              "      <td>1.021649</td>\n",
              "      <td>0.802586</td>\n",
              "      <td>-0.013949</td>\n",
              "    </tr>\n",
              "    <tr>\n",
              "      <th>2000-05-26</th>\n",
              "      <td>0.785714</td>\n",
              "      <td>0.802455</td>\n",
              "      <td>0.761161</td>\n",
              "      <td>0.771205</td>\n",
              "      <td>0.656387</td>\n",
              "      <td>181148800</td>\n",
              "      <td>1.020209</td>\n",
              "      <td>0.792126</td>\n",
              "      <td>-0.018466</td>\n",
              "    </tr>\n",
              "    <tr>\n",
              "      <th>2000-05-30</th>\n",
              "      <td>0.782366</td>\n",
              "      <td>0.786830</td>\n",
              "      <td>0.729911</td>\n",
              "      <td>0.781808</td>\n",
              "      <td>0.665411</td>\n",
              "      <td>713059200</td>\n",
              "      <td>1.018742</td>\n",
              "      <td>0.788686</td>\n",
              "      <td>-0.000713</td>\n",
              "    </tr>\n",
              "    <tr>\n",
              "      <th>2000-05-31</th>\n",
              "      <td>0.775670</td>\n",
              "      <td>0.814732</td>\n",
              "      <td>0.748326</td>\n",
              "      <td>0.750000</td>\n",
              "      <td>0.638339</td>\n",
              "      <td>433507200</td>\n",
              "      <td>1.017759</td>\n",
              "      <td>0.775791</td>\n",
              "      <td>-0.033094</td>\n",
              "    </tr>\n",
              "    <tr>\n",
              "      <th>...</th>\n",
              "      <td>...</td>\n",
              "      <td>...</td>\n",
              "      <td>...</td>\n",
              "      <td>...</td>\n",
              "      <td>...</td>\n",
              "      <td>...</td>\n",
              "      <td>...</td>\n",
              "      <td>...</td>\n",
              "      <td>...</td>\n",
              "    </tr>\n",
              "    <tr>\n",
              "      <th>2009-12-24</th>\n",
              "      <td>7.269643</td>\n",
              "      <td>7.476786</td>\n",
              "      <td>7.262500</td>\n",
              "      <td>7.465714</td>\n",
              "      <td>6.354207</td>\n",
              "      <td>500889200</td>\n",
              "      <td>6.670014</td>\n",
              "      <td>7.223913</td>\n",
              "      <td>0.026971</td>\n",
              "    </tr>\n",
              "    <tr>\n",
              "      <th>2009-12-28</th>\n",
              "      <td>7.561429</td>\n",
              "      <td>7.641071</td>\n",
              "      <td>7.486071</td>\n",
              "      <td>7.557500</td>\n",
              "      <td>6.432326</td>\n",
              "      <td>644565600</td>\n",
              "      <td>6.686621</td>\n",
              "      <td>7.335109</td>\n",
              "      <td>-0.000520</td>\n",
              "    </tr>\n",
              "    <tr>\n",
              "      <th>2009-12-29</th>\n",
              "      <td>7.593929</td>\n",
              "      <td>7.597143</td>\n",
              "      <td>7.454643</td>\n",
              "      <td>7.467857</td>\n",
              "      <td>6.356029</td>\n",
              "      <td>445205600</td>\n",
              "      <td>6.702761</td>\n",
              "      <td>7.379358</td>\n",
              "      <td>-0.016602</td>\n",
              "    </tr>\n",
              "    <tr>\n",
              "      <th>2009-12-30</th>\n",
              "      <td>7.458214</td>\n",
              "      <td>7.571429</td>\n",
              "      <td>7.439643</td>\n",
              "      <td>7.558571</td>\n",
              "      <td>6.433239</td>\n",
              "      <td>412084400</td>\n",
              "      <td>6.719236</td>\n",
              "      <td>7.439096</td>\n",
              "      <td>0.013456</td>\n",
              "    </tr>\n",
              "    <tr>\n",
              "      <th>2009-12-31</th>\n",
              "      <td>7.611786</td>\n",
              "      <td>7.619643</td>\n",
              "      <td>7.520000</td>\n",
              "      <td>7.526071</td>\n",
              "      <td>6.405577</td>\n",
              "      <td>352410800</td>\n",
              "      <td>6.735668</td>\n",
              "      <td>7.468087</td>\n",
              "      <td>-0.011261</td>\n",
              "    </tr>\n",
              "  </tbody>\n",
              "</table>\n",
              "<p>2416 rows × 9 columns</p>\n",
              "</div>\n",
              "      <button class=\"colab-df-convert\" onclick=\"convertToInteractive('df-76172b74-71a6-4b4d-84ff-6cc866f341a0')\"\n",
              "              title=\"Convert this dataframe to an interactive table.\"\n",
              "              style=\"display:none;\">\n",
              "        \n",
              "  <svg xmlns=\"http://www.w3.org/2000/svg\" height=\"24px\"viewBox=\"0 0 24 24\"\n",
              "       width=\"24px\">\n",
              "    <path d=\"M0 0h24v24H0V0z\" fill=\"none\"/>\n",
              "    <path d=\"M18.56 5.44l.94 2.06.94-2.06 2.06-.94-2.06-.94-.94-2.06-.94 2.06-2.06.94zm-11 1L8.5 8.5l.94-2.06 2.06-.94-2.06-.94L8.5 2.5l-.94 2.06-2.06.94zm10 10l.94 2.06.94-2.06 2.06-.94-2.06-.94-.94-2.06-.94 2.06-2.06.94z\"/><path d=\"M17.41 7.96l-1.37-1.37c-.4-.4-.92-.59-1.43-.59-.52 0-1.04.2-1.43.59L10.3 9.45l-7.72 7.72c-.78.78-.78 2.05 0 2.83L4 21.41c.39.39.9.59 1.41.59.51 0 1.02-.2 1.41-.59l7.78-7.78 2.81-2.81c.8-.78.8-2.07 0-2.86zM5.41 20L4 18.59l7.72-7.72 1.47 1.35L5.41 20z\"/>\n",
              "  </svg>\n",
              "      </button>\n",
              "      \n",
              "  <style>\n",
              "    .colab-df-container {\n",
              "      display:flex;\n",
              "      flex-wrap:wrap;\n",
              "      gap: 12px;\n",
              "    }\n",
              "\n",
              "    .colab-df-convert {\n",
              "      background-color: #E8F0FE;\n",
              "      border: none;\n",
              "      border-radius: 50%;\n",
              "      cursor: pointer;\n",
              "      display: none;\n",
              "      fill: #1967D2;\n",
              "      height: 32px;\n",
              "      padding: 0 0 0 0;\n",
              "      width: 32px;\n",
              "    }\n",
              "\n",
              "    .colab-df-convert:hover {\n",
              "      background-color: #E2EBFA;\n",
              "      box-shadow: 0px 1px 2px rgba(60, 64, 67, 0.3), 0px 1px 3px 1px rgba(60, 64, 67, 0.15);\n",
              "      fill: #174EA6;\n",
              "    }\n",
              "\n",
              "    [theme=dark] .colab-df-convert {\n",
              "      background-color: #3B4455;\n",
              "      fill: #D2E3FC;\n",
              "    }\n",
              "\n",
              "    [theme=dark] .colab-df-convert:hover {\n",
              "      background-color: #434B5C;\n",
              "      box-shadow: 0px 1px 3px 1px rgba(0, 0, 0, 0.15);\n",
              "      filter: drop-shadow(0px 1px 2px rgba(0, 0, 0, 0.3));\n",
              "      fill: #FFFFFF;\n",
              "    }\n",
              "  </style>\n",
              "\n",
              "      <script>\n",
              "        const buttonEl =\n",
              "          document.querySelector('#df-76172b74-71a6-4b4d-84ff-6cc866f341a0 button.colab-df-convert');\n",
              "        buttonEl.style.display =\n",
              "          google.colab.kernel.accessAllowed ? 'block' : 'none';\n",
              "\n",
              "        async function convertToInteractive(key) {\n",
              "          const element = document.querySelector('#df-76172b74-71a6-4b4d-84ff-6cc866f341a0');\n",
              "          const dataTable =\n",
              "            await google.colab.kernel.invokeFunction('convertToInteractive',\n",
              "                                                     [key], {});\n",
              "          if (!dataTable) return;\n",
              "\n",
              "          const docLinkHtml = 'Like what you see? Visit the ' +\n",
              "            '<a target=\"_blank\" href=https://colab.research.google.com/notebooks/data_table.ipynb>data table notebook</a>'\n",
              "            + ' to learn more about interactive tables.';\n",
              "          element.innerHTML = '';\n",
              "          dataTable['output_type'] = 'display_data';\n",
              "          await google.colab.output.renderOutput(dataTable, element);\n",
              "          const docLink = document.createElement('div');\n",
              "          docLink.innerHTML = docLinkHtml;\n",
              "          element.appendChild(docLink);\n",
              "        }\n",
              "      </script>\n",
              "    </div>\n",
              "  </div>\n",
              "  "
            ]
          },
          "metadata": {},
          "execution_count": 15
        }
      ]
    },
    {
      "cell_type": "code",
      "source": [
        "def tests_MA(Symbol,start,end,ma_list,ema_list):\n",
        "  df = data_prep_EMA(Symbol,start,end,ma_list,ema_list)\n",
        "  for ma in ma_list:\n",
        "    column=str(ma)+'_MA'\n",
        "    above_ma = df[df['Open'] > df[column].shift(1)]['returns']\n",
        "    below_ma = df[df['Open'] < df[column].shift(1)]['returns']\n",
        "\n",
        "    plt.hist(above_ma,bins=30,color=\"green\",alpha=0.5)\n",
        "    plt.hist(below_ma,bins=30,color=\"red\",alpha=0.5)\n",
        "    plt.show()\n",
        "    _, p_value1 = shapiro(above_ma)\n",
        "    _, p_value2 = shapiro(below_ma)\n",
        "    if p_value1 > 0.01 and p_value2 > 0.01:\n",
        "      print(\"returns are normally distributed\")\n",
        "      print(\"we can run a t-test\")\n",
        "      stat, p_value = ttest_ind(above_ma, below_ma, equal_var=True)\n",
        "    else:\n",
        "      print(\"returns are not normally distributed\")\n",
        "      print(\"we can run a Wilcox Rank Sum test\")    \n",
        "      stat, p_value = ranksums(above_ma, below_ma)\n",
        "    print(f\"p value for {Symbol} is {p_value}\")\n",
        "    if p_value>0.01:\n",
        "      print(f\"null hypothesis cannot be rejected for {Symbol} taking ma{ma}\")\n",
        "    else:\n",
        "      print(f\"null hypothesis is rejected for {Symbol} taking ma{ma}\")\n",
        "  for ema in ema_list:\n",
        "    column=str(ma)+'_EMA'\n",
        "    above_ema = df[df['Open'] > df[column].shift(1)]['returns']\n",
        "    below_ema = df[df['Open'] < df[column].shift(1)]['returns']\n",
        "\n",
        "    plt.hist(above_ema,bins=30,color=\"green\",alpha=0.5)\n",
        "    plt.hist(below_ema,bins=30,color=\"red\",alpha=0.5)\n",
        "    plt.show()\n",
        "    _, p_value1 = shapiro(above_ema)\n",
        "    _, p_value2 = shapiro(below_ema)\n",
        "    if p_value1 > 0.01 and p_value2 > 0.01:\n",
        "      print(\"returns are normally distributed\")\n",
        "      print(\"we can run a t-test\")\n",
        "      stat, p_value = ttest_ind(above_ema, below_ema, equal_var=True)\n",
        "    else:\n",
        "      print(\"returns are not normally distributed\")\n",
        "      print(\"we can run a Wilcox Rank Sum test\")    \n",
        "      stat, p_value = ranksums(above_ema, below_ema)\n",
        "    print(f\"p value for {Symbol} is {p_value}\")\n",
        "    if p_value>0.01:\n",
        "      print(f\"null hypothesis cannot be rejected for {Symbol} taking ema{ema}\")\n",
        "    else:\n",
        "      print(f\"null hypothesis is rejected for {Symbol} taking ema{ema}\")"
      ],
      "metadata": {
        "id": "HhbgWLc97G4d"
      },
      "execution_count": 16,
      "outputs": []
    },
    {
      "cell_type": "code",
      "source": [
        "ema_list=[9,20,50,100,200]\n",
        "ma_list=[9,20,50,100,200]\n",
        "stocks=['SPY','AAPL','MSFT','GOOG','AMZN','JPM','JNJ','CSCO','NKE','DIS']\n",
        "for stock in stocks:\n",
        "  tests_MA(stock,start,end,ma_list,ema_list)"
      ],
      "metadata": {
        "id": "kgbfREZK9u4J"
      },
      "execution_count": null,
      "outputs": []
    },
    {
      "cell_type": "markdown",
      "source": [
        "Instead of checking for daily returns we are going to check for cummulative returns.\n",
        "we can do this by testing the strategy compared to that of a benchmark strategy sucha s a buy and hold. \n",
        "we test the hypothesis that the cummulative returns generated by the VWAP strategy are not different from that generated by a single trade with the vwap strategy "
      ],
      "metadata": {
        "id": "im2NpN-KRcsJ"
      }
    },
    {
      "cell_type": "markdown",
      "source": [
        "Use one tailed paired t-test for confirming this hypothesis"
      ],
      "metadata": {
        "id": "2cmhJUu2UFDA"
      }
    },
    {
      "cell_type": "code",
      "source": [
        "def data_prep_VWAP2(symbol,lookback,start,end):\n",
        "  # Calculate the cumulative sum of price times volume\n",
        "  df = yf.download(symbol,start,end)\n",
        "  df['PV'] = df['Close'] * df['Volume']\n",
        "  df['CumulativePV'] = df['PV'].rolling(lookback).sum()\n",
        "\n",
        "  # Calculate the cumulative sum of volume\n",
        "  df['CumulativeVolume'] = df['Volume'].rolling(lookback).sum()\n",
        "\n",
        "  # Calculate the rolling VWAP\n",
        "  df['RollingVWAP'] = df['CumulativePV'] / df['CumulativeVolume']\n",
        "  df['returns']=(df['Close']-df['Close'].shift(1))/df['Close'].shift(1)\n",
        "  df[\"day's return\"]=(df['Close']-df['Open'])/df['Open']\n",
        "  df=df.dropna(axis=0)\n",
        "  return df"
      ],
      "metadata": {
        "id": "FIPpKLgcRbDT"
      },
      "execution_count": 18,
      "outputs": []
    },
    {
      "cell_type": "code",
      "source": [
        "data_prep_VWAP2('AAPL',22,start,end)"
      ],
      "metadata": {
        "colab": {
          "base_uri": "https://localhost:8080/",
          "height": 473
        },
        "id": "s-CPPQxFaWUZ",
        "outputId": "7bf839af-dff4-4c1e-fa11-57dca4a9b811"
      },
      "execution_count": 19,
      "outputs": [
        {
          "output_type": "stream",
          "name": "stdout",
          "text": [
            "\r[*********************100%***********************]  1 of 1 completed\n"
          ]
        },
        {
          "output_type": "execute_result",
          "data": {
            "text/plain": [
              "                Open      High       Low     Close  Adj Close     Volume  \\\n",
              "Date                                                                       \n",
              "2000-02-02  0.899554  0.911830  0.866071  0.882254   0.750903  464195200   \n",
              "2000-02-03  0.895647  0.930804  0.895089  0.922433   0.785100  475193600   \n",
              "2000-02-04  0.928013  0.982143  0.925223  0.964286   0.820721  425320000   \n",
              "2000-02-07  0.964286  1.020089  0.945871  1.018415   0.866792  441067200   \n",
              "2000-02-08  1.017857  1.036830  0.993304  1.025670   0.872967  408643200   \n",
              "...              ...       ...       ...       ...        ...        ...   \n",
              "2009-12-24  7.269643  7.476786  7.262500  7.465714   6.354207  500889200   \n",
              "2009-12-28  7.561429  7.641071  7.486071  7.557500   6.432327  644565600   \n",
              "2009-12-29  7.593929  7.597143  7.454643  7.467857   6.356029  445205600   \n",
              "2009-12-30  7.458214  7.571429  7.439643  7.558571   6.433239  412084400   \n",
              "2009-12-31  7.611786  7.619643  7.520000  7.526071   6.405577  352410800   \n",
              "\n",
              "                      PV  CumulativePV  CumulativeVolume  RollingVWAP  \\\n",
              "Date                                                                    \n",
              "2000-02-02  4.095381e+08  1.227971e+10      1.333741e+10     0.920697   \n",
              "2000-02-03  4.383343e+08  1.218254e+10      1.327680e+10     0.917581   \n",
              "2000-02-04  4.101301e+08  1.212376e+10      1.318975e+10     0.919180   \n",
              "2000-02-07  4.491894e+08  1.185022e+10      1.285249e+10     0.922017   \n",
              "2000-02-08  4.191331e+08  1.161795e+10      1.249316e+10     0.929944   \n",
              "...                  ...           ...               ...          ...   \n",
              "2009-12-24  3.739496e+09  7.631050e+10      1.086470e+10     7.023710   \n",
              "2009-12-28  4.871304e+09  7.885675e+10      1.119083e+10     7.046553   \n",
              "2009-12-29  3.324732e+09  8.009252e+10      1.134958e+10     7.056871   \n",
              "2009-12-30  3.114769e+09  8.109209e+10      1.146641e+10     7.072145   \n",
              "2009-12-31  2.652269e+09  8.071102e+10      1.139396e+10     7.083668   \n",
              "\n",
              "             returns  day's return  \n",
              "Date                                \n",
              "2000-02-02 -0.014339     -0.019232  \n",
              "2000-02-03  0.045541      0.029907  \n",
              "2000-02-04  0.045372      0.039087  \n",
              "2000-02-07  0.056134      0.056134  \n",
              "2000-02-08  0.007124      0.007676  \n",
              "...              ...           ...  \n",
              "2009-12-24  0.034339      0.026971  \n",
              "2009-12-28  0.012294     -0.000520  \n",
              "2009-12-29 -0.011861     -0.016602  \n",
              "2009-12-30  0.012147      0.013456  \n",
              "2009-12-31 -0.004300     -0.011261  \n",
              "\n",
              "[2494 rows x 12 columns]"
            ],
            "text/html": [
              "\n",
              "  <div id=\"df-1742aa65-59b8-4029-bc2e-bb1805c1eb61\">\n",
              "    <div class=\"colab-df-container\">\n",
              "      <div>\n",
              "<style scoped>\n",
              "    .dataframe tbody tr th:only-of-type {\n",
              "        vertical-align: middle;\n",
              "    }\n",
              "\n",
              "    .dataframe tbody tr th {\n",
              "        vertical-align: top;\n",
              "    }\n",
              "\n",
              "    .dataframe thead th {\n",
              "        text-align: right;\n",
              "    }\n",
              "</style>\n",
              "<table border=\"1\" class=\"dataframe\">\n",
              "  <thead>\n",
              "    <tr style=\"text-align: right;\">\n",
              "      <th></th>\n",
              "      <th>Open</th>\n",
              "      <th>High</th>\n",
              "      <th>Low</th>\n",
              "      <th>Close</th>\n",
              "      <th>Adj Close</th>\n",
              "      <th>Volume</th>\n",
              "      <th>PV</th>\n",
              "      <th>CumulativePV</th>\n",
              "      <th>CumulativeVolume</th>\n",
              "      <th>RollingVWAP</th>\n",
              "      <th>returns</th>\n",
              "      <th>day's return</th>\n",
              "    </tr>\n",
              "    <tr>\n",
              "      <th>Date</th>\n",
              "      <th></th>\n",
              "      <th></th>\n",
              "      <th></th>\n",
              "      <th></th>\n",
              "      <th></th>\n",
              "      <th></th>\n",
              "      <th></th>\n",
              "      <th></th>\n",
              "      <th></th>\n",
              "      <th></th>\n",
              "      <th></th>\n",
              "      <th></th>\n",
              "    </tr>\n",
              "  </thead>\n",
              "  <tbody>\n",
              "    <tr>\n",
              "      <th>2000-02-02</th>\n",
              "      <td>0.899554</td>\n",
              "      <td>0.911830</td>\n",
              "      <td>0.866071</td>\n",
              "      <td>0.882254</td>\n",
              "      <td>0.750903</td>\n",
              "      <td>464195200</td>\n",
              "      <td>4.095381e+08</td>\n",
              "      <td>1.227971e+10</td>\n",
              "      <td>1.333741e+10</td>\n",
              "      <td>0.920697</td>\n",
              "      <td>-0.014339</td>\n",
              "      <td>-0.019232</td>\n",
              "    </tr>\n",
              "    <tr>\n",
              "      <th>2000-02-03</th>\n",
              "      <td>0.895647</td>\n",
              "      <td>0.930804</td>\n",
              "      <td>0.895089</td>\n",
              "      <td>0.922433</td>\n",
              "      <td>0.785100</td>\n",
              "      <td>475193600</td>\n",
              "      <td>4.383343e+08</td>\n",
              "      <td>1.218254e+10</td>\n",
              "      <td>1.327680e+10</td>\n",
              "      <td>0.917581</td>\n",
              "      <td>0.045541</td>\n",
              "      <td>0.029907</td>\n",
              "    </tr>\n",
              "    <tr>\n",
              "      <th>2000-02-04</th>\n",
              "      <td>0.928013</td>\n",
              "      <td>0.982143</td>\n",
              "      <td>0.925223</td>\n",
              "      <td>0.964286</td>\n",
              "      <td>0.820721</td>\n",
              "      <td>425320000</td>\n",
              "      <td>4.101301e+08</td>\n",
              "      <td>1.212376e+10</td>\n",
              "      <td>1.318975e+10</td>\n",
              "      <td>0.919180</td>\n",
              "      <td>0.045372</td>\n",
              "      <td>0.039087</td>\n",
              "    </tr>\n",
              "    <tr>\n",
              "      <th>2000-02-07</th>\n",
              "      <td>0.964286</td>\n",
              "      <td>1.020089</td>\n",
              "      <td>0.945871</td>\n",
              "      <td>1.018415</td>\n",
              "      <td>0.866792</td>\n",
              "      <td>441067200</td>\n",
              "      <td>4.491894e+08</td>\n",
              "      <td>1.185022e+10</td>\n",
              "      <td>1.285249e+10</td>\n",
              "      <td>0.922017</td>\n",
              "      <td>0.056134</td>\n",
              "      <td>0.056134</td>\n",
              "    </tr>\n",
              "    <tr>\n",
              "      <th>2000-02-08</th>\n",
              "      <td>1.017857</td>\n",
              "      <td>1.036830</td>\n",
              "      <td>0.993304</td>\n",
              "      <td>1.025670</td>\n",
              "      <td>0.872967</td>\n",
              "      <td>408643200</td>\n",
              "      <td>4.191331e+08</td>\n",
              "      <td>1.161795e+10</td>\n",
              "      <td>1.249316e+10</td>\n",
              "      <td>0.929944</td>\n",
              "      <td>0.007124</td>\n",
              "      <td>0.007676</td>\n",
              "    </tr>\n",
              "    <tr>\n",
              "      <th>...</th>\n",
              "      <td>...</td>\n",
              "      <td>...</td>\n",
              "      <td>...</td>\n",
              "      <td>...</td>\n",
              "      <td>...</td>\n",
              "      <td>...</td>\n",
              "      <td>...</td>\n",
              "      <td>...</td>\n",
              "      <td>...</td>\n",
              "      <td>...</td>\n",
              "      <td>...</td>\n",
              "      <td>...</td>\n",
              "    </tr>\n",
              "    <tr>\n",
              "      <th>2009-12-24</th>\n",
              "      <td>7.269643</td>\n",
              "      <td>7.476786</td>\n",
              "      <td>7.262500</td>\n",
              "      <td>7.465714</td>\n",
              "      <td>6.354207</td>\n",
              "      <td>500889200</td>\n",
              "      <td>3.739496e+09</td>\n",
              "      <td>7.631050e+10</td>\n",
              "      <td>1.086470e+10</td>\n",
              "      <td>7.023710</td>\n",
              "      <td>0.034339</td>\n",
              "      <td>0.026971</td>\n",
              "    </tr>\n",
              "    <tr>\n",
              "      <th>2009-12-28</th>\n",
              "      <td>7.561429</td>\n",
              "      <td>7.641071</td>\n",
              "      <td>7.486071</td>\n",
              "      <td>7.557500</td>\n",
              "      <td>6.432327</td>\n",
              "      <td>644565600</td>\n",
              "      <td>4.871304e+09</td>\n",
              "      <td>7.885675e+10</td>\n",
              "      <td>1.119083e+10</td>\n",
              "      <td>7.046553</td>\n",
              "      <td>0.012294</td>\n",
              "      <td>-0.000520</td>\n",
              "    </tr>\n",
              "    <tr>\n",
              "      <th>2009-12-29</th>\n",
              "      <td>7.593929</td>\n",
              "      <td>7.597143</td>\n",
              "      <td>7.454643</td>\n",
              "      <td>7.467857</td>\n",
              "      <td>6.356029</td>\n",
              "      <td>445205600</td>\n",
              "      <td>3.324732e+09</td>\n",
              "      <td>8.009252e+10</td>\n",
              "      <td>1.134958e+10</td>\n",
              "      <td>7.056871</td>\n",
              "      <td>-0.011861</td>\n",
              "      <td>-0.016602</td>\n",
              "    </tr>\n",
              "    <tr>\n",
              "      <th>2009-12-30</th>\n",
              "      <td>7.458214</td>\n",
              "      <td>7.571429</td>\n",
              "      <td>7.439643</td>\n",
              "      <td>7.558571</td>\n",
              "      <td>6.433239</td>\n",
              "      <td>412084400</td>\n",
              "      <td>3.114769e+09</td>\n",
              "      <td>8.109209e+10</td>\n",
              "      <td>1.146641e+10</td>\n",
              "      <td>7.072145</td>\n",
              "      <td>0.012147</td>\n",
              "      <td>0.013456</td>\n",
              "    </tr>\n",
              "    <tr>\n",
              "      <th>2009-12-31</th>\n",
              "      <td>7.611786</td>\n",
              "      <td>7.619643</td>\n",
              "      <td>7.520000</td>\n",
              "      <td>7.526071</td>\n",
              "      <td>6.405577</td>\n",
              "      <td>352410800</td>\n",
              "      <td>2.652269e+09</td>\n",
              "      <td>8.071102e+10</td>\n",
              "      <td>1.139396e+10</td>\n",
              "      <td>7.083668</td>\n",
              "      <td>-0.004300</td>\n",
              "      <td>-0.011261</td>\n",
              "    </tr>\n",
              "  </tbody>\n",
              "</table>\n",
              "<p>2494 rows × 12 columns</p>\n",
              "</div>\n",
              "      <button class=\"colab-df-convert\" onclick=\"convertToInteractive('df-1742aa65-59b8-4029-bc2e-bb1805c1eb61')\"\n",
              "              title=\"Convert this dataframe to an interactive table.\"\n",
              "              style=\"display:none;\">\n",
              "        \n",
              "  <svg xmlns=\"http://www.w3.org/2000/svg\" height=\"24px\"viewBox=\"0 0 24 24\"\n",
              "       width=\"24px\">\n",
              "    <path d=\"M0 0h24v24H0V0z\" fill=\"none\"/>\n",
              "    <path d=\"M18.56 5.44l.94 2.06.94-2.06 2.06-.94-2.06-.94-.94-2.06-.94 2.06-2.06.94zm-11 1L8.5 8.5l.94-2.06 2.06-.94-2.06-.94L8.5 2.5l-.94 2.06-2.06.94zm10 10l.94 2.06.94-2.06 2.06-.94-2.06-.94-.94-2.06-.94 2.06-2.06.94z\"/><path d=\"M17.41 7.96l-1.37-1.37c-.4-.4-.92-.59-1.43-.59-.52 0-1.04.2-1.43.59L10.3 9.45l-7.72 7.72c-.78.78-.78 2.05 0 2.83L4 21.41c.39.39.9.59 1.41.59.51 0 1.02-.2 1.41-.59l7.78-7.78 2.81-2.81c.8-.78.8-2.07 0-2.86zM5.41 20L4 18.59l7.72-7.72 1.47 1.35L5.41 20z\"/>\n",
              "  </svg>\n",
              "      </button>\n",
              "      \n",
              "  <style>\n",
              "    .colab-df-container {\n",
              "      display:flex;\n",
              "      flex-wrap:wrap;\n",
              "      gap: 12px;\n",
              "    }\n",
              "\n",
              "    .colab-df-convert {\n",
              "      background-color: #E8F0FE;\n",
              "      border: none;\n",
              "      border-radius: 50%;\n",
              "      cursor: pointer;\n",
              "      display: none;\n",
              "      fill: #1967D2;\n",
              "      height: 32px;\n",
              "      padding: 0 0 0 0;\n",
              "      width: 32px;\n",
              "    }\n",
              "\n",
              "    .colab-df-convert:hover {\n",
              "      background-color: #E2EBFA;\n",
              "      box-shadow: 0px 1px 2px rgba(60, 64, 67, 0.3), 0px 1px 3px 1px rgba(60, 64, 67, 0.15);\n",
              "      fill: #174EA6;\n",
              "    }\n",
              "\n",
              "    [theme=dark] .colab-df-convert {\n",
              "      background-color: #3B4455;\n",
              "      fill: #D2E3FC;\n",
              "    }\n",
              "\n",
              "    [theme=dark] .colab-df-convert:hover {\n",
              "      background-color: #434B5C;\n",
              "      box-shadow: 0px 1px 3px 1px rgba(0, 0, 0, 0.15);\n",
              "      filter: drop-shadow(0px 1px 2px rgba(0, 0, 0, 0.3));\n",
              "      fill: #FFFFFF;\n",
              "    }\n",
              "  </style>\n",
              "\n",
              "      <script>\n",
              "        const buttonEl =\n",
              "          document.querySelector('#df-1742aa65-59b8-4029-bc2e-bb1805c1eb61 button.colab-df-convert');\n",
              "        buttonEl.style.display =\n",
              "          google.colab.kernel.accessAllowed ? 'block' : 'none';\n",
              "\n",
              "        async function convertToInteractive(key) {\n",
              "          const element = document.querySelector('#df-1742aa65-59b8-4029-bc2e-bb1805c1eb61');\n",
              "          const dataTable =\n",
              "            await google.colab.kernel.invokeFunction('convertToInteractive',\n",
              "                                                     [key], {});\n",
              "          if (!dataTable) return;\n",
              "\n",
              "          const docLinkHtml = 'Like what you see? Visit the ' +\n",
              "            '<a target=\"_blank\" href=https://colab.research.google.com/notebooks/data_table.ipynb>data table notebook</a>'\n",
              "            + ' to learn more about interactive tables.';\n",
              "          element.innerHTML = '';\n",
              "          dataTable['output_type'] = 'display_data';\n",
              "          await google.colab.output.renderOutput(dataTable, element);\n",
              "          const docLink = document.createElement('div');\n",
              "          docLink.innerHTML = docLinkHtml;\n",
              "          element.appendChild(docLink);\n",
              "        }\n",
              "      </script>\n",
              "    </div>\n",
              "  </div>\n",
              "  "
            ]
          },
          "metadata": {},
          "execution_count": 19
        }
      ]
    },
    {
      "cell_type": "markdown",
      "source": [
        "Trade Entry :- we wait for close to cross above VWAP and then enter at next days Open\n",
        "Exit :- Once the Close is  below the VWAP we exit the position and take a short on the next days open (Ignoring Slippage)"
      ],
      "metadata": {
        "id": "0iOcBCf1XRPX"
      }
    },
    {
      "cell_type": "code",
      "source": [
        "def VWAP_crossover(symbol,lookback,start,end):\n",
        "  df = data_prep_VWAP2(symbol,lookback,start,end) # prepares the dataset\n",
        "  df['strat_returns']=np.zeros(len(df)) # initialise the strategy column\n",
        "  long_trade=False # sets long and short trade indicator to false \n",
        "  short_trade=False\n",
        "  for date in df.index:\n",
        "    if long_trade: \n",
        "      if just_entered:\n",
        "        #print('entered long trade',df.loc[date][\"day's return\"])\n",
        "        df.loc[date,'strat_returns'] = df.loc[date,\"day's return\"]\n",
        "        just_entered=False\n",
        "      else:        \n",
        "        #print('in long trade',df.loc[date]['returns'])\n",
        "        df.loc[date,'strat_returns'] = df.loc[date,'returns']\n",
        "    elif short_trade:\n",
        "      if just_entered:\n",
        "        #print('entered short trade',-df.loc[date][\"day's return\"])\n",
        "        df.loc[date,'strat_returns'] = -df.loc[date,\"day's return\"]\n",
        "        just_entered=False\n",
        "      else:      \n",
        "        #print('in short trade',-df.loc[date]['returns'])\n",
        "        df.loc[date,'strat_returns'] = -df.loc[date,'returns']\n",
        "    else:\n",
        "      df.loc[date,'strat_returns'] = 0\n",
        "    if df.loc[date,'Close'] > df.loc[date,'RollingVWAP']:\n",
        "      if long_trade==False:\n",
        "        just_entered=True\n",
        "      long_trade=True\n",
        "      short_trade=False\n",
        "    else:\n",
        "      if short_trade==False:\n",
        "        just_entered=True\n",
        "      long_trade=False\n",
        "      short_trade=True\n",
        "  return df"
      ],
      "metadata": {
        "id": "enjZqSYYVbrK"
      },
      "execution_count": 20,
      "outputs": []
    },
    {
      "cell_type": "code",
      "source": [
        "start='2010-01-01'\n",
        "end='2015-01-01'\n",
        "aapl=VWAP_crossover('AAPL',200,start,end)"
      ],
      "metadata": {
        "colab": {
          "base_uri": "https://localhost:8080/"
        },
        "id": "e2aFGyVQc-m9",
        "outputId": "040ce236-b33b-4577-c7ac-41f595454676"
      },
      "execution_count": 21,
      "outputs": [
        {
          "output_type": "stream",
          "name": "stdout",
          "text": [
            "\r[*********************100%***********************]  1 of 1 completed\n"
          ]
        },
        {
          "output_type": "stream",
          "name": "stderr",
          "text": [
            "<ipython-input-20-83758389f7ea>:3: SettingWithCopyWarning: \n",
            "A value is trying to be set on a copy of a slice from a DataFrame.\n",
            "Try using .loc[row_indexer,col_indexer] = value instead\n",
            "\n",
            "See the caveats in the documentation: https://pandas.pydata.org/pandas-docs/stable/user_guide/indexing.html#returning-a-view-versus-a-copy\n",
            "  df['strat_returns']=np.zeros(len(df)) # initialise the strategy column\n"
          ]
        }
      ]
    },
    {
      "cell_type": "code",
      "source": [
        "plt.plot(aapl['Open'],c='blue')\n",
        "plt.plot(aapl['RollingVWAP'],c='black')\n",
        "plt.xlabel('date')\n",
        "plt.ylabel('price')\n",
        "plt.show()"
      ],
      "metadata": {
        "colab": {
          "base_uri": "https://localhost:8080/",
          "height": 449
        },
        "id": "0SXUswYu8JA9",
        "outputId": "c3413679-8201-4bfe-debd-cd991748379d"
      },
      "execution_count": 22,
      "outputs": [
        {
          "output_type": "display_data",
          "data": {
            "text/plain": [
              "<Figure size 640x480 with 1 Axes>"
            ],
            "image/png": "[encoded data removed]"
          },
          "metadata": {}
        }
      ]
    },
    {
      "cell_type": "code",
      "source": [
        "plt.plot(aapl['returns'],c='blue')\n",
        "plt.plot(aapl['strat_returns'],c='red')\n",
        "plt.show()"
      ],
      "metadata": {
        "colab": {
          "base_uri": "https://localhost:8080/",
          "height": 430
        },
        "id": "rz96MSwR0dqc",
        "outputId": "e71c341e-79f6-411b-e0f6-64db705e1343"
      },
      "execution_count": 23,
      "outputs": [
        {
          "output_type": "display_data",
          "data": {
            "text/plain": [
              "<Figure size 640x480 with 1 Axes>"
            ],
            "image/png": "[encoded data removed]"
          },
          "metadata": {}
        }
      ]
    },
    {
      "cell_type": "code",
      "source": [
        "def ret(returns):\n",
        "  return (returns+1).cumprod()"
      ],
      "metadata": {
        "id": "gC3XqFsQ1J3H"
      },
      "execution_count": 24,
      "outputs": []
    },
    {
      "cell_type": "code",
      "source": [
        "plt.plot(aapl['returns']-aapl['strat_returns'])"
      ],
      "metadata": {
        "colab": {
          "base_uri": "https://localhost:8080/",
          "height": 448
        },
        "id": "6As01T3T4jRQ",
        "outputId": "2629a4fe-027a-419b-afef-8f9762772e20"
      },
      "execution_count": 25,
      "outputs": [
        {
          "output_type": "execute_result",
          "data": {
            "text/plain": [
              "[<matplotlib.lines.Line2D at 0x7f95045f1e40>]"
            ]
          },
          "metadata": {},
          "execution_count": 25
        },
        {
          "output_type": "display_data",
          "data": {
            "text/plain": [
              "<Figure size 640x480 with 1 Axes>"
            ],
            "image/png": "[encoded data removed]"
          },
          "metadata": {}
        }
      ]
    },
    {
      "cell_type": "code",
      "source": [
        "plt.plot(ret(aapl['returns']),c='blue')\n",
        "plt.plot(ret(aapl['strat_returns']),c='green')\n",
        "plt.show()"
      ],
      "metadata": {
        "colab": {
          "base_uri": "https://localhost:8080/",
          "height": 430
        },
        "id": "5q0WftKF1TUp",
        "outputId": "fc007cdf-3191-45fc-b872-e823f9e888b4"
      },
      "execution_count": 26,
      "outputs": [
        {
          "output_type": "display_data",
          "data": {
            "text/plain": [
              "<Figure size 640x480 with 1 Axes>"
            ],
            "image/png": "[encoded data removed]"
          },
          "metadata": {}
        }
      ]
    },
    {
      "cell_type": "markdown",
      "source": [
        "upon close examination we see lot of errors with our entry instead we added a slight modification in order to confirm our entries where we look at both previous days close and current days open to take our entries. "
      ],
      "metadata": {
        "id": "YCTB0VsD-Z3D"
      }
    },
    {
      "cell_type": "code",
      "source": [
        "def plots(df):\n",
        "  if isinstance(df, pd.DataFrame):\n",
        "    \"\"\"\n",
        "    Calculates the drawdowns given a column of daily returns.\n",
        "    Returns a pandas DataFrame with columns for daily returns,\n",
        "    cumulative returns, and drawdowns.\n",
        "    \"\"\"\n",
        "    # Calculate cumulative returns\n",
        "    cum_returns = (1 + df.returns).cumprod()\n",
        "    cum_returns_strat = (1 + df.strat_returns).cumprod()\n",
        "    # Calculate the previous peaks\n",
        "    previous_peaks = cum_returns.cummax()\n",
        "    previous_peaks_strat = cum_returns_strat.cummax()\n",
        "\n",
        "    # Calculate the drawdowns\n",
        "    drawdowns = (cum_returns - previous_peaks) / previous_peaks\n",
        "    drawdowns_strat = (cum_returns_strat - previous_peaks_strat) / previous_peaks_strat\n",
        "    # Create a DataFrame with the results\n",
        "    results = pd.DataFrame({'Cumulative Returns': cum_returns,\n",
        "                            'Strategy Cumulative Returns': cum_returns_strat,\n",
        "                            'Drawdowns': drawdowns,\n",
        "                            'Strategy Drawdowns': drawdowns_strat})\n",
        "    \n",
        "    fig,axs = plt.subplots(3,figsize=(10,15))\n",
        "    axs[0].plot(results.iloc[:,:2],label=results.columns[:2])\n",
        "    axs[0].set_title('cummulative returns')\n",
        "    axs[0].set_ylabel('Returns')\n",
        "    axs[0].set_xlabel('date')\n",
        "    axs[1].plot(results.iloc[:,2:],label=results.columns[2:])\n",
        "    axs[1].set_title('drawdown')\n",
        "    axs[1].set_ylabel('drawdown')\n",
        "    axs[1].set_xlabel('date')\n",
        "    axs[2].hist(aapl.returns,alpha=0.5,bins=30,label='benchmark')\n",
        "    axs[2].hist(aapl.strat_returns,alpha=0.5,bins=30,label='strategy')\n",
        "    axs[2].set_title('distribution of returns')\n",
        "    axs[2].set_xlabel('returns')\n",
        "    axs[2].set_ylabel('frequency')\n",
        "    fig.legend()\n",
        "    fig.show()\n",
        "    return results\n",
        "  else:\n",
        "    print('invalid datatype')\n",
        "    return None\n",
        "\n"
      ],
      "metadata": {
        "id": "UN3iCEDnAdm7"
      },
      "execution_count": 27,
      "outputs": []
    },
    {
      "cell_type": "code",
      "source": [
        "plots(aapl)"
      ],
      "metadata": {
        "id": "m-Y9LQEkCHc8"
      },
      "execution_count": null,
      "outputs": []
    },
    {
      "cell_type": "code",
      "source": [
        "# strategy hypothesis tests"
      ],
      "metadata": {
        "id": "UYhAFTO-FbrV"
      },
      "execution_count": 29,
      "outputs": []
    },
    {
      "cell_type": "code",
      "source": [
        "from scipy.stats import ttest_rel"
      ],
      "metadata": {
        "id": "Hbucaw8IGMEP"
      },
      "execution_count": 30,
      "outputs": []
    },
    {
      "cell_type": "code",
      "source": [
        "def strat_1tailed_test(df):\n",
        "  group1=df.returns\n",
        "  group2=df.strat_returns\n",
        "  t_stat, p_value = ttest_rel(group1, group2, alternative='greater')\n",
        "\n",
        "  print('mean_returns of benchmark = ',np.mean(group1))\n",
        "  print('mean_returns of strategy = ',np.mean(group2))\n",
        "  if p_value>0.01:\n",
        "    print(f\"null hypothesis cannot be rejected for this strategy\")\n",
        "  else:\n",
        "    print(f\"null hypothesis is rejected for this strategy\")\n",
        "  return p_value"
      ],
      "metadata": {
        "id": "X56EU8tWFh1u"
      },
      "execution_count": 31,
      "outputs": []
    },
    {
      "cell_type": "code",
      "source": [
        "strat_1tailed_test(aapl)"
      ],
      "metadata": {
        "colab": {
          "base_uri": "https://localhost:8080/"
        },
        "id": "C-65I8RSG69o",
        "outputId": "f8eb614e-1002-48f7-fc8b-d686ca462686"
      },
      "execution_count": 32,
      "outputs": [
        {
          "output_type": "stream",
          "name": "stdout",
          "text": [
            "mean_returns of benchmark =  0.000985274649951406\n",
            "mean_returns of strategy =  0.0010821382445507749\n",
            "null hypothesis cannot be rejected for this strategy\n"
          ]
        },
        {
          "output_type": "execute_result",
          "data": {
            "text/plain": [
              "0.568832282967152"
            ]
          },
          "metadata": {},
          "execution_count": 32
        }
      ]
    },
    {
      "cell_type": "code",
      "source": [
        "lookbacks=[20,50,100,200]\n",
        "start='2000-01-01'\n",
        "end='2015-01-01'\n",
        "tech_stocks_hypothesis_rejected={}\n",
        "for stock in tech_stocks:\n",
        "  for lookback in lookbacks:\n",
        "    df=VWAP_crossover(stock,lookback,start,end)\n",
        "    drawdowns=plots(df)\n",
        "    p_value = strat_1tailed_test(df)\n",
        "    if p_value<0.01:\n",
        "      tech_stocks_hypothesis_rejected[stock+str(lookback)]=p_value\n",
        "\n",
        "\n"
      ],
      "metadata": {
        "id": "1shyEcqbHBuo"
      },
      "execution_count": null,
      "outputs": []
    },
    {
      "cell_type": "code",
      "source": [
        "hypothesis_rejected"
      ],
      "metadata": {
        "colab": {
          "base_uri": "https://localhost:8080/"
        },
        "id": "tX1no2Cnxrn4",
        "outputId": "d54f4ca3-5398-4b0a-84e1-e5a07d92b340"
      },
      "execution_count": 34,
      "outputs": [
        {
          "output_type": "execute_result",
          "data": {
            "text/plain": [
              "{'JNJ50': 0.006300995206054723,\n",
              " 'NKE50': 0.0063239573916689515,\n",
              " 'NKE100': 0.005642345839484868,\n",
              " 'NKE200': 0.008935555685220439}"
            ]
          },
          "metadata": {},
          "execution_count": 34
        }
      ]
    },
    {
      "cell_type": "code",
      "source": [
        "['AAPL','MSFT','NVDA','V','MA','CSCO','ACN','CRM','ADBE','AMD']"
      ],
      "metadata": {
        "id": "jb_jWlgvy6E9"
      },
      "execution_count": null,
      "outputs": []
    },
    {
      "cell_type": "code",
      "source": [
        "df=VWAP_crossover('NKE',50,start,end)\n",
        "drawdowns=plots(df)"
      ],
      "metadata": {
        "id": "XFL-LVp1x6pB"
      },
      "execution_count": null,
      "outputs": []
    }
  ]
}