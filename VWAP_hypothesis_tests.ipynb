{
  "nbformat": 4,
  "nbformat_minor": 0,
  "metadata": {
    "colab": {
      "provenance": [],
      "authorship_tag": "ABX9TyMdjBbHpXuG/h/2FAuVfau7",
      "include_colab_link": true
    },
    "kernelspec": {
      "name": "python3",
      "display_name": "Python 3"
    },
    "language_info": {
      "name": "python"
    }
  },
  "cells": [
    {
      "cell_type": "markdown",
      "metadata": {
        "id": "view-in-github",
        "colab_type": "text"
      },
      "source": [
        "<a href=\"https://colab.research.google.com/github/SamanvayMS/FIN-554-Algo-trading-finalproject/blob/main/VWAP_hypothesis_tests.ipynb\" target=\"_parent\"><img src=\"https://colab.research.google.com/assets/colab-badge.svg\" alt=\"Open In Colab\"/></a>"
      ]
    },
    {
      "cell_type": "code",
      "execution_count": 1,
      "metadata": {
        "colab": {
          "base_uri": "https://localhost:8080/"
        },
        "id": "WV4Z65nQhEvM",
        "outputId": "6bc62cc9-28dc-4719-a2ce-2d09ee6d5d25"
      },
      "outputs": [
        {
          "output_type": "stream",
          "name": "stdout",
          "text": [
            "Looking in indexes: https://pypi.org/simple, https://us-python.pkg.dev/colab-wheels/public/simple/\n",
            "Requirement already satisfied: yfinance in /usr/local/lib/python3.10/dist-packages (0.2.18)\n",
            "Requirement already satisfied: cryptography>=3.3.2 in /usr/local/lib/python3.10/dist-packages (from yfinance) (40.0.2)\n",
            "Requirement already satisfied: frozendict>=2.3.4 in /usr/local/lib/python3.10/dist-packages (from yfinance) (2.3.7)\n",
            "Requirement already satisfied: html5lib>=1.1 in /usr/local/lib/python3.10/dist-packages (from yfinance) (1.1)\n",
            "Requirement already satisfied: multitasking>=0.0.7 in /usr/local/lib/python3.10/dist-packages (from yfinance) (0.0.11)\n",
            "Requirement already satisfied: appdirs>=1.4.4 in /usr/local/lib/python3.10/dist-packages (from yfinance) (1.4.4)\n",
            "Requirement already satisfied: requests>=2.26 in /usr/local/lib/python3.10/dist-packages (from yfinance) (2.27.1)\n",
            "Requirement already satisfied: pytz>=2022.5 in /usr/local/lib/python3.10/dist-packages (from yfinance) (2022.7.1)\n",
            "Requirement already satisfied: lxml>=4.9.1 in /usr/local/lib/python3.10/dist-packages (from yfinance) (4.9.2)\n",
            "Requirement already satisfied: numpy>=1.16.5 in /usr/local/lib/python3.10/dist-packages (from yfinance) (1.22.4)\n",
            "Requirement already satisfied: pandas>=1.3.0 in /usr/local/lib/python3.10/dist-packages (from yfinance) (1.5.3)\n",
            "Requirement already satisfied: beautifulsoup4>=4.11.1 in /usr/local/lib/python3.10/dist-packages (from yfinance) (4.11.2)\n",
            "Requirement already satisfied: soupsieve>1.2 in /usr/local/lib/python3.10/dist-packages (from beautifulsoup4>=4.11.1->yfinance) (2.4.1)\n",
            "Requirement already satisfied: cffi>=1.12 in /usr/local/lib/python3.10/dist-packages (from cryptography>=3.3.2->yfinance) (1.15.1)\n",
            "Requirement already satisfied: six>=1.9 in /usr/local/lib/python3.10/dist-packages (from html5lib>=1.1->yfinance) (1.16.0)\n",
            "Requirement already satisfied: webencodings in /usr/local/lib/python3.10/dist-packages (from html5lib>=1.1->yfinance) (0.5.1)\n",
            "Requirement already satisfied: python-dateutil>=2.8.1 in /usr/local/lib/python3.10/dist-packages (from pandas>=1.3.0->yfinance) (2.8.2)\n",
            "Requirement already satisfied: idna<4,>=2.5 in /usr/local/lib/python3.10/dist-packages (from requests>=2.26->yfinance) (3.4)\n",
            "Requirement already satisfied: charset-normalizer~=2.0.0 in /usr/local/lib/python3.10/dist-packages (from requests>=2.26->yfinance) (2.0.12)\n",
            "Requirement already satisfied: urllib3<1.27,>=1.21.1 in /usr/local/lib/python3.10/dist-packages (from requests>=2.26->yfinance) (1.26.15)\n",
            "Requirement already satisfied: certifi>=2017.4.17 in /usr/local/lib/python3.10/dist-packages (from requests>=2.26->yfinance) (2022.12.7)\n",
            "Requirement already satisfied: pycparser in /usr/local/lib/python3.10/dist-packages (from cffi>=1.12->cryptography>=3.3.2->yfinance) (2.21)\n",
            "\u001b[31mERROR: Operation cancelled by user\u001b[0m\u001b[31m\n",
            "\u001b[0m"
          ]
        }
      ],
      "source": [
        "pip install yfinance"
      ]
    },
    {
      "cell_type": "code",
      "source": [
        "pip install update pandas_datareader"
      ],
      "metadata": {
        "colab": {
          "base_uri": "https://localhost:8080/"
        },
        "id": "nfok15NGhF_U",
        "outputId": "6cff1743-f28f-4111-aa25-002d5910967a"
      },
      "execution_count": 2,
      "outputs": [
        {
          "output_type": "stream",
          "name": "stdout",
          "text": [
            "Looking in indexes: https://pypi.org/simple, https://us-python.pkg.dev/colab-wheels/public/simple/\n",
            "Collecting update\n",
            "  Downloading update-0.0.1-py2.py3-none-any.whl (2.9 kB)\n",
            "Requirement already satisfied: pandas_datareader in /usr/local/lib/python3.10/dist-packages (0.10.0)\n",
            "Collecting style==1.1.0\n",
            "  Downloading style-1.1.0-py2.py3-none-any.whl (6.4 kB)\n",
            "Requirement already satisfied: pandas>=0.23 in /usr/local/lib/python3.10/dist-packages (from pandas_datareader) (1.5.3)\n",
            "Requirement already satisfied: lxml in /usr/local/lib/python3.10/dist-packages (from pandas_datareader) (4.9.2)\n",
            "Requirement already satisfied: requests>=2.19.0 in /usr/local/lib/python3.10/dist-packages (from pandas_datareader) (2.27.1)\n",
            "Requirement already satisfied: python-dateutil>=2.8.1 in /usr/local/lib/python3.10/dist-packages (from pandas>=0.23->pandas_datareader) (2.8.2)\n",
            "Requirement already satisfied: pytz>=2020.1 in /usr/local/lib/python3.10/dist-packages (from pandas>=0.23->pandas_datareader) (2022.7.1)\n",
            "Requirement already satisfied: numpy>=1.21.0 in /usr/local/lib/python3.10/dist-packages (from pandas>=0.23->pandas_datareader) (1.22.4)\n",
            "Requirement already satisfied: urllib3<1.27,>=1.21.1 in /usr/local/lib/python3.10/dist-packages (from requests>=2.19.0->pandas_datareader) (1.26.15)\n",
            "Requirement already satisfied: idna<4,>=2.5 in /usr/local/lib/python3.10/dist-packages (from requests>=2.19.0->pandas_datareader) (3.4)\n",
            "Requirement already satisfied: charset-normalizer~=2.0.0 in /usr/local/lib/python3.10/dist-packages (from requests>=2.19.0->pandas_datareader) (2.0.12)\n",
            "Requirement already satisfied: certifi>=2017.4.17 in /usr/local/lib/python3.10/dist-packages (from requests>=2.19.0->pandas_datareader) (2022.12.7)\n",
            "Requirement already satisfied: six>=1.5 in /usr/local/lib/python3.10/dist-packages (from python-dateutil>=2.8.1->pandas>=0.23->pandas_datareader) (1.16.0)\n",
            "Installing collected packages: style, update\n",
            "Successfully installed style-1.1.0 update-0.0.1\n"
          ]
        }
      ]
    },
    {
      "cell_type": "code",
      "source": [
        "import pandas as pd\n",
        "import yfinance as yf\n",
        "import numpy as np\n",
        "import matplotlib.pyplot as plt\n",
        "\n",
        "%matplotlib inline"
      ],
      "metadata": {
        "id": "LVL1_sDihH5z"
      },
      "execution_count": 3,
      "outputs": []
    },
    {
      "cell_type": "code",
      "source": [
        "yf.pdr_override()"
      ],
      "metadata": {
        "id": "uyJdO0dDhJyr"
      },
      "execution_count": 4,
      "outputs": []
    },
    {
      "cell_type": "code",
      "source": [
        "start='2000-01-01'\n",
        "end='2010-01-01'\n",
        "df = yf.download('SPY',start,end)"
      ],
      "metadata": {
        "colab": {
          "base_uri": "https://localhost:8080/"
        },
        "id": "fyuZEuY_hLks",
        "outputId": "99b42b2a-d7ba-4900-f1fc-1008c64657bd"
      },
      "execution_count": 5,
      "outputs": [
        {
          "output_type": "stream",
          "name": "stdout",
          "text": [
            "\r[*********************100%***********************]  1 of 1 completed\n"
          ]
        }
      ]
    },
    {
      "cell_type": "code",
      "source": [
        "df.columns"
      ],
      "metadata": {
        "colab": {
          "base_uri": "https://localhost:8080/"
        },
        "id": "X6ptHit4hNpM",
        "outputId": "a5e817c2-ae12-4be2-c5db-a921c32d3b4d"
      },
      "execution_count": 6,
      "outputs": [
        {
          "output_type": "execute_result",
          "data": {
            "text/plain": [
              "Index(['Open', 'High', 'Low', 'Close', 'Adj Close', 'Volume'], dtype='object')"
            ]
          },
          "metadata": {},
          "execution_count": 6
        }
      ]
    },
    {
      "cell_type": "code",
      "source": [
        "def data_prep_VWAP(symbol,lookback,start,end):\n",
        "  # Calculate the cumulative sum of price times volume\n",
        "  df = yf.download(symbol,start,end)\n",
        "  df['PV'] = df['Close'] * df['Volume']\n",
        "  df['CumulativePV'] = df['PV'].rolling(lookback).sum()\n",
        "\n",
        "  # Calculate the cumulative sum of volume\n",
        "  df['CumulativeVolume'] = df['Volume'].rolling(lookback).sum()\n",
        "\n",
        "  # Calculate the rolling VWAP\n",
        "  df['RollingVWAP'] = df['CumulativePV'] / df['CumulativeVolume']\n",
        "  df['signal']=np.where(df['Open']>df['RollingVWAP'].shift(1),1,0)\n",
        "  df['returns']=(df['Close']-df['Open'])/df['Open']\n",
        "  df['shifted_returns']=df['returns'].shift(-1)\n",
        "  df['direction'] = [1 if x>0 else 0 for x in df['returns']]\n",
        "  df=df.dropna(axis=0)\n",
        "  return df"
      ],
      "metadata": {
        "id": "Ar4mIFOKhQck"
      },
      "execution_count": 7,
      "outputs": []
    },
    {
      "cell_type": "code",
      "source": [
        "# here we look at stcoks from all the sectors of the market\n",
        "sectors = ['Tech','Healthcare','Financial','Consumer_D','Consumer_S','Industrial','Energy','Utility','Market_ETF']\n",
        "Tech_stocks=['AAPL','MSFT','NVDA','ADBE','CRM','GOOGL','AMZN','IBM','INTC','CSCO']\n",
        "Healthcare_stocks=['JNJ','PFE','MRK','GILD','AMGN','BMY','LLY','REGN','UNH']\n",
        "Financial_stocks=[\"JPM\", \"BAC\", \"WFC\", \"C\", \"GS\", \"MS\", \"V\", \"MA\", \"AXP\", \"SCHW\"]\n",
        "Consumer_D_stocks = [\"HD\", \"MCD\", \"NKE\", \"SBUX\", \"DIS\", \"CMCSA\", \"LOW\", \"GM\", \"F\", \"BKNG\"] # Consumer discretionary\n",
        "Consumer_S_stocks= [\"PG\", \"KO\", \"PEP\", \"WMT\", \"CL\", \"KMB\", \"CLX\", \"MDLZ\", \"EL\"] #Consumer Staples\n",
        "Industrial_stocks = [\"BA\", \"GE\", \"MMM\", \"HON\", \"CAT\", \"RTX\", \"LMT\", \"GD\", \"UNP\", \"FDX\"]\n",
        "Energy_stocks = [\"XOM\", \"CVX\", \"BP\", \"COP\", \"EOG\", \"OXY\", \"SLB\", \"KMI\", \"WMB\"]\n",
        "Utility_stocks = [\"NEE\", \"DUK\", \"D\", \"SO\", \"EXC\", \"AEP\", \"SRE\", \"XEL\", \"WEC\", \"AWK\"]\n",
        "Market_ETF_stocks = ['SPY','QQQ']"
      ],
      "metadata": {
        "id": "ieNxLOj_zdA-"
      },
      "execution_count": 8,
      "outputs": []
    },
    {
      "cell_type": "markdown",
      "source": [
        "### Asset selection for tests\n",
        "selected a bunch of stocks from each sector for running and analysing the stocks and their sector wise dependence.\n",
        "pros- can identify the sector wise dependence of stocks on indicators \n",
        "cons - \n",
        "survivorship bias as some stocks might delisted or just added \n",
        "overfitting bias as we are cherry picking stocks based on p value \n"
      ],
      "metadata": {
        "id": "nHWh0ep9VyaI"
      }
    },
    {
      "cell_type": "code",
      "source": [
        "lookbacks=[9,20,50,100,200]"
      ],
      "metadata": {
        "id": "Cc1ZyjA0GMeQ"
      },
      "execution_count": 9,
      "outputs": []
    },
    {
      "cell_type": "code",
      "source": [
        "start='2000-01-01'\n",
        "end='2015-01-01'"
      ],
      "metadata": {
        "id": "KxgtoEm0GP6y"
      },
      "execution_count": 10,
      "outputs": []
    },
    {
      "cell_type": "markdown",
      "source": [
        "# Hypothesis Tests \n"
      ],
      "metadata": {
        "id": "VvW349sLvZyB"
      }
    },
    {
      "cell_type": "markdown",
      "source": [
        "chi_squared test"
      ],
      "metadata": {
        "id": "gpUvbY0Qc81N"
      }
    },
    {
      "cell_type": "code",
      "source": [
        "from scipy.stats import chi2_contingency"
      ],
      "metadata": {
        "id": "TbzGsI8wwApx"
      },
      "execution_count": 11,
      "outputs": []
    },
    {
      "cell_type": "markdown",
      "source": [
        "H0 :- null hypothesis assumes no significant relationship between opening price and the previous rolling VWAP value\n",
        "\n",
        "H1 :- significant relationship with the previous VWAP value bullish when above VWAP and bearish when below VWAP"
      ],
      "metadata": {
        "id": "J3r4QVwChk1S"
      }
    },
    {
      "cell_type": "code",
      "source": [
        "def chi_2(Symbol,lookback,start,end,print_results=False):\n",
        "  df = data_prep_VWAP(Symbol,lookback,start=start,end=end)\n",
        "  observed=pd.crosstab(df['direction'],df['signal'])\n",
        "  result = chi2_contingency(observed)\n",
        "  if print_results:\n",
        "    print(f\"p value for {Symbol} is {result[1]}\")\n",
        "    if result[1]>0.01:\n",
        "      print(\"null hypothesis cannot be rejected\")\n",
        "    else:\n",
        "      print(\"null hypothesis is rejected\")\n",
        "  return result[1]"
      ],
      "metadata": {
        "id": "uyRVt7mgkdKW"
      },
      "execution_count": 16,
      "outputs": []
    },
    {
      "cell_type": "code",
      "source": [
        "chi_2_hypothesis_rejected=dict.fromkeys(sectors)\n",
        "for sector in sectors:\n",
        "  chi_2_hypothesis_rejected[sector]={}\n",
        "  for stock in eval(sector+'_stocks'):\n",
        "    chi_2_hypothesis_rejected[sector][stock]={}\n",
        "    for lookback in lookbacks:\n",
        "      p_value = chi_2(stock,lookback,start,end)\n",
        "      if p_value<0.01:\n",
        "        chi_2_hypothesis_rejected[sector][stock][lookback]=p_value\n"
      ],
      "metadata": {
        "id": "2Bhp9jsdlmqK"
      },
      "execution_count": null,
      "outputs": []
    },
    {
      "cell_type": "code",
      "source": [
        "chi_2_hypothesis_rejected"
      ],
      "metadata": {
        "colab": {
          "base_uri": "https://localhost:8080/"
        },
        "id": "ZRky-fi1LBB4",
        "outputId": "5561a45f-97f8-4ddb-a824-6df2e4ac4658"
      },
      "execution_count": 18,
      "outputs": [
        {
          "output_type": "execute_result",
          "data": {
            "text/plain": [
              "{'Tech': {'AAPL': {},\n",
              "  'MSFT': {},\n",
              "  'NVDA': {},\n",
              "  'ADBE': {},\n",
              "  'CRM': {},\n",
              "  'GOOGL': {},\n",
              "  'AMZN': {},\n",
              "  'IBM': {20: 0.0003933374223075785, 50: 0.005795068877007131},\n",
              "  'INTC': {20: 0.0020609451175740297},\n",
              "  'CSCO': {}},\n",
              " 'Healthcare': {'JNJ': {},\n",
              "  'PFE': {},\n",
              "  'MRK': {},\n",
              "  'GILD': {9: 0.00919626934116465},\n",
              "  'AMGN': {9: 0.007284184630483424},\n",
              "  'BMY': {},\n",
              "  'LLY': {},\n",
              "  'REGN': {},\n",
              "  'UNH': {}},\n",
              " 'Financial': {'JPM': {},\n",
              "  'BAC': {50: 0.0005890366935155224,\n",
              "   100: 0.0005184820071771116,\n",
              "   200: 0.0007425453291513781},\n",
              "  'WFC': {9: 8.62253117314433e-06, 20: 0.00017508040612170184},\n",
              "  'C': {},\n",
              "  'GS': {},\n",
              "  'MS': {},\n",
              "  'V': {},\n",
              "  'MA': {},\n",
              "  'AXP': {},\n",
              "  'SCHW': {}},\n",
              " 'Consumer_D': {'HD': {},\n",
              "  'MCD': {},\n",
              "  'NKE': {},\n",
              "  'SBUX': {9: 0.003687509426692019},\n",
              "  'DIS': {},\n",
              "  'CMCSA': {},\n",
              "  'LOW': {},\n",
              "  'GM': {},\n",
              "  'F': {},\n",
              "  'BKNG': {}},\n",
              " 'Consumer_S': {'PG': {},\n",
              "  'KO': {200: 0.007168283663723792},\n",
              "  'PEP': {},\n",
              "  'WMT': {},\n",
              "  'CL': {9: 0.007012278805522372},\n",
              "  'KMB': {9: 1.043788217962884e-06},\n",
              "  'CLX': {9: 2.005733326685794e-05, 20: 0.006724195210775004},\n",
              "  'MDLZ': {},\n",
              "  'EL': {}},\n",
              " 'Industrial': {'BA': {},\n",
              "  'GE': {},\n",
              "  'MMM': {},\n",
              "  'HON': {},\n",
              "  'CAT': {},\n",
              "  'RTX': {9: 0.0012299924607069657},\n",
              "  'LMT': {9: 0.0030975669144336867},\n",
              "  'GD': {},\n",
              "  'UNP': {},\n",
              "  'FDX': {}},\n",
              " 'Energy': {'XOM': {},\n",
              "  'CVX': {},\n",
              "  'BP': {},\n",
              "  'COP': {},\n",
              "  'EOG': {},\n",
              "  'OXY': {},\n",
              "  'SLB': {},\n",
              "  'KMI': {},\n",
              "  'WMB': {}},\n",
              " 'Utility': {'NEE': {9: 0.009223500248737793},\n",
              "  'DUK': {},\n",
              "  'D': {9: 0.0008230273814882754},\n",
              "  'SO': {},\n",
              "  'EXC': {},\n",
              "  'AEP': {},\n",
              "  'SRE': {},\n",
              "  'XEL': {},\n",
              "  'WEC': {},\n",
              "  'AWK': {9: 0.008022763302773432}},\n",
              " 'Market_ETF': {'SPY': {}, 'QQQ': {}}}"
            ]
          },
          "metadata": {},
          "execution_count": 18
        }
      ]
    },
    {
      "cell_type": "markdown",
      "source": [
        "wilcox rank test"
      ],
      "metadata": {
        "id": "RGkML7JHc_vc"
      }
    },
    {
      "cell_type": "code",
      "source": [
        "from scipy.stats import ranksums\n",
        "from scipy.stats import shapiro\n",
        "from scipy.stats import ttest_ind"
      ],
      "metadata": {
        "id": "gy32_4jSdBys"
      },
      "execution_count": 19,
      "outputs": []
    },
    {
      "cell_type": "markdown",
      "source": [
        "H0:-There is no significant relationship between the returns and the price's position relative to the VWAP.\n",
        "\n",
        "H1:-The returns are significantly positive when the price is above the VWAP and significantly negative when the price is below the VWAP."
      ],
      "metadata": {
        "id": "SK32pflOgvyU"
      }
    },
    {
      "cell_type": "code",
      "source": [
        "def tests(Symbol,lookback,start,end,print_results=False):\n",
        "  df = data_prep_VWAP(Symbol,lookback,start=start,end=end)\n",
        "  above_vwap = df[df['Open'] > df['RollingVWAP'].shift(1)]['returns']\n",
        "  below_vwap = df[df['Open'] < df['RollingVWAP'].shift(1)]['returns']\n",
        "\n",
        "  #plt.hist(above_vwap,bins=30,color=\"green\",alpha=0.5)\n",
        "  #plt.hist(below_vwap,bins=30,color=\"red\",alpha=0.5)\n",
        "  #plt.show()\n",
        "  _, p_value1 = shapiro(above_vwap)\n",
        "  _, p_value2 = shapiro(below_vwap)\n",
        "  if p_value1 > 0.01 and p_value2 > 0.01:\n",
        "    if print_results:\n",
        "      print(\"returns are normally distributed\")\n",
        "      print(\"we can run a t-test\")\n",
        "    stat, p_value = ttest_ind(above_vwap, below_vwap, equal_var=True)\n",
        "  else:\n",
        "    if print_results:\n",
        "      print(\"returns are not normally distributed\")\n",
        "      print(\"we can run a Wilcox Rank Sum test\")    \n",
        "    stat, p_value = ranksums(above_vwap, below_vwap)\n",
        "  if print_results:\n",
        "    print(f\"p value for {Symbol} is {p_value}\")\n",
        "    if p_value>0.01:\n",
        "      print(\"null hypothesis cannot be rejected\")\n",
        "    else:\n",
        "      print(\"null hypothesis is rejected\")\n",
        "  return p_value"
      ],
      "metadata": {
        "id": "C7x5O2XWdoLp"
      },
      "execution_count": 20,
      "outputs": []
    },
    {
      "cell_type": "code",
      "source": [
        "WRT_hypothesis_rejected=dict.fromkeys(sectors)\n",
        "for sector in sectors:\n",
        "  WRT_hypothesis_rejected[sector]={}\n",
        "  for stock in eval(sector+'_stocks'):\n",
        "    WRT_hypothesis_rejected[sector][stock]={}\n",
        "    for lookback in lookbacks:\n",
        "      p_value = tests(stock,lookback,start,end)\n",
        "      if p_value<0.01:\n",
        "        WRT_hypothesis_rejected[sector][stock][lookback]=p_value"
      ],
      "metadata": {
        "id": "7QNEnD1veS0e"
      },
      "execution_count": null,
      "outputs": []
    },
    {
      "cell_type": "code",
      "source": [
        "WRT_hypothesis_rejected"
      ],
      "metadata": {
        "id": "-1zZpYMwLgyp",
        "colab": {
          "base_uri": "https://localhost:8080/"
        },
        "outputId": "bb25a285-d487-4b65-ff12-ae64e1039486"
      },
      "execution_count": 22,
      "outputs": [
        {
          "output_type": "execute_result",
          "data": {
            "text/plain": [
              "{'Tech': {'AAPL': {},\n",
              "  'MSFT': {},\n",
              "  'NVDA': {},\n",
              "  'ADBE': {},\n",
              "  'CRM': {},\n",
              "  'GOOGL': {},\n",
              "  'AMZN': {},\n",
              "  'IBM': {20: 0.0006255734776664737, 50: 0.001610956326933965},\n",
              "  'INTC': {20: 0.000533032039013402},\n",
              "  'CSCO': {}},\n",
              " 'Healthcare': {'JNJ': {},\n",
              "  'PFE': {9: 0.005478483196909184},\n",
              "  'MRK': {},\n",
              "  'GILD': {9: 0.004323705822781134},\n",
              "  'AMGN': {9: 0.0010373070037304369},\n",
              "  'BMY': {},\n",
              "  'LLY': {},\n",
              "  'REGN': {},\n",
              "  'UNH': {}},\n",
              " 'Financial': {'JPM': {},\n",
              "  'BAC': {50: 0.0004564519053231335,\n",
              "   100: 0.0015538785389765221,\n",
              "   200: 0.0022911524629394375},\n",
              "  'WFC': {9: 3.82808183491118e-06, 20: 0.00019782077853659394},\n",
              "  'C': {50: 0.0017486252459858237},\n",
              "  'GS': {50: 0.008971638874822664},\n",
              "  'MS': {},\n",
              "  'V': {},\n",
              "  'MA': {},\n",
              "  'AXP': {},\n",
              "  'SCHW': {}},\n",
              " 'Consumer_D': {'HD': {},\n",
              "  'MCD': {},\n",
              "  'NKE': {},\n",
              "  'SBUX': {9: 0.0010510966876230764},\n",
              "  'DIS': {},\n",
              "  'CMCSA': {},\n",
              "  'LOW': {},\n",
              "  'GM': {},\n",
              "  'F': {50: 0.0002781692863749967,\n",
              "   100: 0.0001771870500998433,\n",
              "   200: 0.007854315333134751},\n",
              "  'BKNG': {50: 0.001051035508118652,\n",
              "   100: 0.0018131141347235112,\n",
              "   200: 0.0023672519014699186}},\n",
              " 'Consumer_S': {'PG': {},\n",
              "  'KO': {},\n",
              "  'PEP': {9: 0.006175099974194972},\n",
              "  'WMT': {},\n",
              "  'CL': {9: 0.007869650489266524},\n",
              "  'KMB': {9: 3.618176958868308e-09},\n",
              "  'CLX': {9: 1.0621807098651181e-06, 20: 0.003929962728807349},\n",
              "  'MDLZ': {},\n",
              "  'EL': {}},\n",
              " 'Industrial': {'BA': {},\n",
              "  'GE': {},\n",
              "  'MMM': {},\n",
              "  'HON': {},\n",
              "  'CAT': {},\n",
              "  'RTX': {9: 0.0025270101962914454},\n",
              "  'LMT': {9: 0.0006046905563530562},\n",
              "  'GD': {},\n",
              "  'UNP': {},\n",
              "  'FDX': {}},\n",
              " 'Energy': {'XOM': {},\n",
              "  'CVX': {},\n",
              "  'BP': {9: 0.0017603498955412278,\n",
              "   20: 0.005350294167994095,\n",
              "   50: 0.002448082439299766,\n",
              "   100: 0.0007858780591317072},\n",
              "  'COP': {},\n",
              "  'EOG': {},\n",
              "  'OXY': {},\n",
              "  'SLB': {},\n",
              "  'KMI': {},\n",
              "  'WMB': {}},\n",
              " 'Utility': {'NEE': {9: 0.0009631365215331679},\n",
              "  'DUK': {},\n",
              "  'D': {9: 0.00028897783493968493},\n",
              "  'SO': {},\n",
              "  'EXC': {},\n",
              "  'AEP': {},\n",
              "  'SRE': {},\n",
              "  'XEL': {},\n",
              "  'WEC': {50: 0.0006993527134032238},\n",
              "  'AWK': {9: 0.0019126134618048566, 20: 0.005216761168816107}},\n",
              " 'Market_ETF': {'SPY': {}, 'QQQ': {}}}"
            ]
          },
          "metadata": {},
          "execution_count": 22
        }
      ]
    },
    {
      "cell_type": "markdown",
      "source": [
        "# Taking moving averages\n"
      ],
      "metadata": {
        "id": "UnQ7Tt6byd28"
      }
    },
    {
      "cell_type": "code",
      "source": [
        "def data_prep_MA(symbol,lookback,start,end,smoothing_choice=\"s\"):\n",
        "  # Calculate the cumulative sum of price times volume\n",
        "  df = yf.download(symbol,start,end)\n",
        "  # Calculate the rolling MAs\n",
        "  if smoothing_choice=='s':\n",
        "    df['SMA']=df['Close'].rolling(window=lookback).mean()\n",
        "  elif smoothing_choice=='e':\n",
        "    df['EMA']=df['Close'].ewm(span=lookback, adjust=False).mean()\n",
        "  df['returns']=(df['Close']-df['Open'])/df['Open']\n",
        "  df=df.dropna(axis=0)\n",
        "  return df"
      ],
      "metadata": {
        "id": "3UNVfC0Myjkc"
      },
      "execution_count": 23,
      "outputs": []
    },
    {
      "cell_type": "code",
      "source": [
        "data_prep_MA('AAPL',lookback,start,end,'s')"
      ],
      "metadata": {
        "id": "yIOMu0RPCkMN",
        "colab": {
          "base_uri": "https://localhost:8080/",
          "height": 472
        },
        "outputId": "30049e7e-0009-4a04-84ff-7945e1401193"
      },
      "execution_count": 24,
      "outputs": [
        {
          "output_type": "stream",
          "name": "stdout",
          "text": [
            "\r[*********************100%***********************]  1 of 1 completed\n"
          ]
        },
        {
          "output_type": "execute_result",
          "data": {
            "text/plain": [
              "                 Open       High        Low      Close  Adj Close      Volume  \\\n",
              "Date                                                                            \n",
              "2000-10-16   0.398438   0.415179   0.381696   0.383929   0.326769   820176000   \n",
              "2000-10-17   0.387277   0.391741   0.351563   0.359375   0.305871   601720000   \n",
              "2000-10-18   0.347098   0.376116   0.334821   0.359375   0.305871   834265600   \n",
              "2000-10-19   0.342076   0.353795   0.327009   0.338170   0.287823  1506724800   \n",
              "2000-10-20   0.340402   0.363839   0.338170   0.348214   0.296371   791263200   \n",
              "...               ...        ...        ...        ...        ...         ...   \n",
              "2014-12-24  28.145000  28.177500  28.002501  28.002501  25.167873    57918400   \n",
              "2014-12-26  28.025000  28.629999  28.002501  28.497499  25.612766   134884000   \n",
              "2014-12-29  28.447500  28.692499  28.424999  28.477501  25.594790   110395600   \n",
              "2014-12-30  28.410000  28.480000  28.027500  28.129999  25.282461   119526000   \n",
              "2014-12-31  28.205000  28.282499  27.552500  27.594999  24.801630   165613600   \n",
              "\n",
              "                  SMA   returns  \n",
              "Date                             \n",
              "2000-10-16   0.946176 -0.036415  \n",
              "2000-10-17   0.942976 -0.072047  \n",
              "2000-10-18   0.940197  0.035370  \n",
              "2000-10-19   0.937245 -0.011419  \n",
              "2000-10-20   0.934745  0.022949  \n",
              "...               ...       ...  \n",
              "2014-12-24  23.937804 -0.005063  \n",
              "2014-12-26  23.985532  0.016860  \n",
              "2014-12-29  24.034225  0.001055  \n",
              "2014-12-30  24.080814 -0.009856  \n",
              "2014-12-31  24.123896 -0.021627  \n",
              "\n",
              "[3574 rows x 8 columns]"
            ],
            "text/html": [
              "\n",
              "  <div id=\"df-084503d5-bb1b-4671-8d5b-46ee0844cede\">\n",
              "    <div class=\"colab-df-container\">\n",
              "      <div>\n",
              "<style scoped>\n",
              "    .dataframe tbody tr th:only-of-type {\n",
              "        vertical-align: middle;\n",
              "    }\n",
              "\n",
              "    .dataframe tbody tr th {\n",
              "        vertical-align: top;\n",
              "    }\n",
              "\n",
              "    .dataframe thead th {\n",
              "        text-align: right;\n",
              "    }\n",
              "</style>\n",
              "<table border=\"1\" class=\"dataframe\">\n",
              "  <thead>\n",
              "    <tr style=\"text-align: right;\">\n",
              "      <th></th>\n",
              "      <th>Open</th>\n",
              "      <th>High</th>\n",
              "      <th>Low</th>\n",
              "      <th>Close</th>\n",
              "      <th>Adj Close</th>\n",
              "      <th>Volume</th>\n",
              "      <th>SMA</th>\n",
              "      <th>returns</th>\n",
              "    </tr>\n",
              "    <tr>\n",
              "      <th>Date</th>\n",
              "      <th></th>\n",
              "      <th></th>\n",
              "      <th></th>\n",
              "      <th></th>\n",
              "      <th></th>\n",
              "      <th></th>\n",
              "      <th></th>\n",
              "      <th></th>\n",
              "    </tr>\n",
              "  </thead>\n",
              "  <tbody>\n",
              "    <tr>\n",
              "      <th>2000-10-16</th>\n",
              "      <td>0.398438</td>\n",
              "      <td>0.415179</td>\n",
              "      <td>0.381696</td>\n",
              "      <td>0.383929</td>\n",
              "      <td>0.326769</td>\n",
              "      <td>820176000</td>\n",
              "      <td>0.946176</td>\n",
              "      <td>-0.036415</td>\n",
              "    </tr>\n",
              "    <tr>\n",
              "      <th>2000-10-17</th>\n",
              "      <td>0.387277</td>\n",
              "      <td>0.391741</td>\n",
              "      <td>0.351563</td>\n",
              "      <td>0.359375</td>\n",
              "      <td>0.305871</td>\n",
              "      <td>601720000</td>\n",
              "      <td>0.942976</td>\n",
              "      <td>-0.072047</td>\n",
              "    </tr>\n",
              "    <tr>\n",
              "      <th>2000-10-18</th>\n",
              "      <td>0.347098</td>\n",
              "      <td>0.376116</td>\n",
              "      <td>0.334821</td>\n",
              "      <td>0.359375</td>\n",
              "      <td>0.305871</td>\n",
              "      <td>834265600</td>\n",
              "      <td>0.940197</td>\n",
              "      <td>0.035370</td>\n",
              "    </tr>\n",
              "    <tr>\n",
              "      <th>2000-10-19</th>\n",
              "      <td>0.342076</td>\n",
              "      <td>0.353795</td>\n",
              "      <td>0.327009</td>\n",
              "      <td>0.338170</td>\n",
              "      <td>0.287823</td>\n",
              "      <td>1506724800</td>\n",
              "      <td>0.937245</td>\n",
              "      <td>-0.011419</td>\n",
              "    </tr>\n",
              "    <tr>\n",
              "      <th>2000-10-20</th>\n",
              "      <td>0.340402</td>\n",
              "      <td>0.363839</td>\n",
              "      <td>0.338170</td>\n",
              "      <td>0.348214</td>\n",
              "      <td>0.296371</td>\n",
              "      <td>791263200</td>\n",
              "      <td>0.934745</td>\n",
              "      <td>0.022949</td>\n",
              "    </tr>\n",
              "    <tr>\n",
              "      <th>...</th>\n",
              "      <td>...</td>\n",
              "      <td>...</td>\n",
              "      <td>...</td>\n",
              "      <td>...</td>\n",
              "      <td>...</td>\n",
              "      <td>...</td>\n",
              "      <td>...</td>\n",
              "      <td>...</td>\n",
              "    </tr>\n",
              "    <tr>\n",
              "      <th>2014-12-24</th>\n",
              "      <td>28.145000</td>\n",
              "      <td>28.177500</td>\n",
              "      <td>28.002501</td>\n",
              "      <td>28.002501</td>\n",
              "      <td>25.167873</td>\n",
              "      <td>57918400</td>\n",
              "      <td>23.937804</td>\n",
              "      <td>-0.005063</td>\n",
              "    </tr>\n",
              "    <tr>\n",
              "      <th>2014-12-26</th>\n",
              "      <td>28.025000</td>\n",
              "      <td>28.629999</td>\n",
              "      <td>28.002501</td>\n",
              "      <td>28.497499</td>\n",
              "      <td>25.612766</td>\n",
              "      <td>134884000</td>\n",
              "      <td>23.985532</td>\n",
              "      <td>0.016860</td>\n",
              "    </tr>\n",
              "    <tr>\n",
              "      <th>2014-12-29</th>\n",
              "      <td>28.447500</td>\n",
              "      <td>28.692499</td>\n",
              "      <td>28.424999</td>\n",
              "      <td>28.477501</td>\n",
              "      <td>25.594790</td>\n",
              "      <td>110395600</td>\n",
              "      <td>24.034225</td>\n",
              "      <td>0.001055</td>\n",
              "    </tr>\n",
              "    <tr>\n",
              "      <th>2014-12-30</th>\n",
              "      <td>28.410000</td>\n",
              "      <td>28.480000</td>\n",
              "      <td>28.027500</td>\n",
              "      <td>28.129999</td>\n",
              "      <td>25.282461</td>\n",
              "      <td>119526000</td>\n",
              "      <td>24.080814</td>\n",
              "      <td>-0.009856</td>\n",
              "    </tr>\n",
              "    <tr>\n",
              "      <th>2014-12-31</th>\n",
              "      <td>28.205000</td>\n",
              "      <td>28.282499</td>\n",
              "      <td>27.552500</td>\n",
              "      <td>27.594999</td>\n",
              "      <td>24.801630</td>\n",
              "      <td>165613600</td>\n",
              "      <td>24.123896</td>\n",
              "      <td>-0.021627</td>\n",
              "    </tr>\n",
              "  </tbody>\n",
              "</table>\n",
              "<p>3574 rows × 8 columns</p>\n",
              "</div>\n",
              "      <button class=\"colab-df-convert\" onclick=\"convertToInteractive('df-084503d5-bb1b-4671-8d5b-46ee0844cede')\"\n",
              "              title=\"Convert this dataframe to an interactive table.\"\n",
              "              style=\"display:none;\">\n",
              "        \n",
              "  <svg xmlns=\"http://www.w3.org/2000/svg\" height=\"24px\"viewBox=\"0 0 24 24\"\n",
              "       width=\"24px\">\n",
              "    <path d=\"M0 0h24v24H0V0z\" fill=\"none\"/>\n",
              "    <path d=\"M18.56 5.44l.94 2.06.94-2.06 2.06-.94-2.06-.94-.94-2.06-.94 2.06-2.06.94zm-11 1L8.5 8.5l.94-2.06 2.06-.94-2.06-.94L8.5 2.5l-.94 2.06-2.06.94zm10 10l.94 2.06.94-2.06 2.06-.94-2.06-.94-.94-2.06-.94 2.06-2.06.94z\"/><path d=\"M17.41 7.96l-1.37-1.37c-.4-.4-.92-.59-1.43-.59-.52 0-1.04.2-1.43.59L10.3 9.45l-7.72 7.72c-.78.78-.78 2.05 0 2.83L4 21.41c.39.39.9.59 1.41.59.51 0 1.02-.2 1.41-.59l7.78-7.78 2.81-2.81c.8-.78.8-2.07 0-2.86zM5.41 20L4 18.59l7.72-7.72 1.47 1.35L5.41 20z\"/>\n",
              "  </svg>\n",
              "      </button>\n",
              "      \n",
              "  <style>\n",
              "    .colab-df-container {\n",
              "      display:flex;\n",
              "      flex-wrap:wrap;\n",
              "      gap: 12px;\n",
              "    }\n",
              "\n",
              "    .colab-df-convert {\n",
              "      background-color: #E8F0FE;\n",
              "      border: none;\n",
              "      border-radius: 50%;\n",
              "      cursor: pointer;\n",
              "      display: none;\n",
              "      fill: #1967D2;\n",
              "      height: 32px;\n",
              "      padding: 0 0 0 0;\n",
              "      width: 32px;\n",
              "    }\n",
              "\n",
              "    .colab-df-convert:hover {\n",
              "      background-color: #E2EBFA;\n",
              "      box-shadow: 0px 1px 2px rgba(60, 64, 67, 0.3), 0px 1px 3px 1px rgba(60, 64, 67, 0.15);\n",
              "      fill: #174EA6;\n",
              "    }\n",
              "\n",
              "    [theme=dark] .colab-df-convert {\n",
              "      background-color: #3B4455;\n",
              "      fill: #D2E3FC;\n",
              "    }\n",
              "\n",
              "    [theme=dark] .colab-df-convert:hover {\n",
              "      background-color: #434B5C;\n",
              "      box-shadow: 0px 1px 3px 1px rgba(0, 0, 0, 0.15);\n",
              "      filter: drop-shadow(0px 1px 2px rgba(0, 0, 0, 0.3));\n",
              "      fill: #FFFFFF;\n",
              "    }\n",
              "  </style>\n",
              "\n",
              "      <script>\n",
              "        const buttonEl =\n",
              "          document.querySelector('#df-084503d5-bb1b-4671-8d5b-46ee0844cede button.colab-df-convert');\n",
              "        buttonEl.style.display =\n",
              "          google.colab.kernel.accessAllowed ? 'block' : 'none';\n",
              "\n",
              "        async function convertToInteractive(key) {\n",
              "          const element = document.querySelector('#df-084503d5-bb1b-4671-8d5b-46ee0844cede');\n",
              "          const dataTable =\n",
              "            await google.colab.kernel.invokeFunction('convertToInteractive',\n",
              "                                                     [key], {});\n",
              "          if (!dataTable) return;\n",
              "\n",
              "          const docLinkHtml = 'Like what you see? Visit the ' +\n",
              "            '<a target=\"_blank\" href=https://colab.research.google.com/notebooks/data_table.ipynb>data table notebook</a>'\n",
              "            + ' to learn more about interactive tables.';\n",
              "          element.innerHTML = '';\n",
              "          dataTable['output_type'] = 'display_data';\n",
              "          await google.colab.output.renderOutput(dataTable, element);\n",
              "          const docLink = document.createElement('div');\n",
              "          docLink.innerHTML = docLinkHtml;\n",
              "          element.appendChild(docLink);\n",
              "        }\n",
              "      </script>\n",
              "    </div>\n",
              "  </div>\n",
              "  "
            ]
          },
          "metadata": {},
          "execution_count": 24
        }
      ]
    },
    {
      "cell_type": "code",
      "source": [
        "def tests_MA(symbol,lookback,start,end,smoothing_choice,print_results=False,plot_dist=False):\n",
        "  if smoothing_choice=='s':\n",
        "    column='SMA'\n",
        "  elif smoothing_choice=='e':\n",
        "    column='EMA'\n",
        "  else:\n",
        "    print(\"invalid MA choice\")\n",
        "  df = data_prep_MA(symbol,lookback,start,end,smoothing_choice)\n",
        "  above_ma = df[df['Open'] > df[column].shift(1)]['returns']\n",
        "  below_ma = df[df['Open'] < df[column].shift(1)]['returns']\n",
        "  if plot_dist:\n",
        "    plt.hist(above_ma,bins=30,color=\"green\",alpha=0.5)\n",
        "    plt.hist(below_ma,bins=30,color=\"red\",alpha=0.5)\n",
        "    plt.show()\n",
        "  \n",
        "  _, p_value1 = shapiro(above_ma)\n",
        "  _, p_value2 = shapiro(below_ma)\n",
        "  if p_value1 > 0.01 and p_value2 > 0.01:\n",
        "    if print_results:\n",
        "      print(\"returns are normally distributed\")\n",
        "      print(\"we can run a t-test\")\n",
        "    stat, p_value = ttest_ind(above_ma, below_ma, equal_var=True)\n",
        "  else:\n",
        "    if print_results:\n",
        "      print(\"returns are not normally distributed\")\n",
        "      print(\"we can run a Wilcox Rank Sum test\")    \n",
        "    stat, p_value = ranksums(above_ma, below_ma)\n",
        "  if print_results:\n",
        "    print(f\"p value for {symbol} is {p_value}\")\n",
        "    if p_value>0.01:\n",
        "      print(\"null hypothesis cannot be rejected\")\n",
        "    else:\n",
        "      print(\"null hypothesis is rejected\")\n",
        "  return p_value"
      ],
      "metadata": {
        "id": "HhbgWLc97G4d"
      },
      "execution_count": 25,
      "outputs": []
    },
    {
      "cell_type": "code",
      "source": [
        "EMA_hypothesis_rejected=dict.fromkeys(sectors)\n",
        "for sector in sectors:\n",
        "  EMA_hypothesis_rejected[sector]={}\n",
        "  for stock in eval(sector+'_stocks'):\n",
        "    EMA_hypothesis_rejected[sector][stock]={}\n",
        "    for lookback in lookbacks:\n",
        "      EMA_hypothesis_rejected[sector][stock][lookback]={}\n",
        "      for ma_type in ['s','e']:\n",
        "        p_value = tests(stock,lookback,start,end)\n",
        "        if p_value<0.01:\n",
        "          EMA_hypothesis_rejected[sector][stock][lookback][ma_type]=p_value"
      ],
      "metadata": {
        "id": "kgbfREZK9u4J"
      },
      "execution_count": null,
      "outputs": []
    },
    {
      "cell_type": "markdown",
      "source": [
        "# VWAP strat"
      ],
      "metadata": {
        "id": "OyT-1X5TXIkc"
      }
    },
    {
      "cell_type": "markdown",
      "source": [
        "Instead of checking for daily returns we are going to check for cummulative returns.\n",
        "we can do this by testing the strategy compared to that of a benchmark strategy sucha s a buy and hold. \n",
        "we test the hypothesis that the cummulative returns generated by the VWAP strategy are not different from that generated by a single trade with the vwap strategy "
      ],
      "metadata": {
        "id": "im2NpN-KRcsJ"
      }
    },
    {
      "cell_type": "markdown",
      "source": [
        "Use one tailed paired t-test for confirming this hypothesis"
      ],
      "metadata": {
        "id": "2cmhJUu2UFDA"
      }
    },
    {
      "cell_type": "code",
      "source": [
        "def data_prep_VWAP2(symbol,lookback,start,end):\n",
        "  # Calculate the cumulative sum of price times volume\n",
        "  df = yf.download(symbol,start,end)\n",
        "  df['PV'] = df['Close'] * df['Volume']\n",
        "  df['CumulativePV'] = df['PV'].rolling(lookback).sum()\n",
        "\n",
        "  # Calculate the cumulative sum of volume\n",
        "  df['CumulativeVolume'] = df['Volume'].rolling(lookback).sum()\n",
        "\n",
        "  # Calculate the rolling VWAP\n",
        "  df['RollingVWAP'] = df['CumulativePV'] / df['CumulativeVolume']\n",
        "  df['returns']=(df['Close']-df['Close'].shift(1))/df['Close'].shift(1)\n",
        "  df[\"day's return\"]=(df['Close']-df['Open'])/df['Open']\n",
        "  df=df.dropna(axis=0)\n",
        "  return df"
      ],
      "metadata": {
        "id": "FIPpKLgcRbDT"
      },
      "execution_count": 27,
      "outputs": []
    },
    {
      "cell_type": "code",
      "source": [
        "data_prep_VWAP2('AAPL',22,start,end)"
      ],
      "metadata": {
        "id": "s-CPPQxFaWUZ",
        "colab": {
          "base_uri": "https://localhost:8080/",
          "height": 472
        },
        "outputId": "f8915c81-3b4c-4508-98e1-e7d7bbf54f4d"
      },
      "execution_count": 28,
      "outputs": [
        {
          "output_type": "stream",
          "name": "stdout",
          "text": [
            "\r[*********************100%***********************]  1 of 1 completed\n"
          ]
        },
        {
          "output_type": "execute_result",
          "data": {
            "text/plain": [
              "                 Open       High        Low      Close  Adj Close     Volume  \\\n",
              "Date                                                                           \n",
              "2000-02-02   0.899554   0.911830   0.866071   0.882254   0.750903  464195200   \n",
              "2000-02-03   0.895647   0.930804   0.895089   0.922433   0.785100  475193600   \n",
              "2000-02-04   0.928013   0.982143   0.925223   0.964286   0.820721  425320000   \n",
              "2000-02-07   0.964286   1.020089   0.945871   1.018415   0.866792  441067200   \n",
              "2000-02-08   1.017857   1.036830   0.993304   1.025670   0.872967  408643200   \n",
              "...               ...        ...        ...        ...        ...        ...   \n",
              "2014-12-24  28.145000  28.177500  28.002501  28.002501  25.167871   57918400   \n",
              "2014-12-26  28.025000  28.629999  28.002501  28.497499  25.612768  134884000   \n",
              "2014-12-29  28.447500  28.692499  28.424999  28.477501  25.594793  110395600   \n",
              "2014-12-30  28.410000  28.480000  28.027500  28.129999  25.282473  119526000   \n",
              "2014-12-31  28.205000  28.282499  27.552500  27.594999  24.801624  165613600   \n",
              "\n",
              "                      PV  CumulativePV  CumulativeVolume  RollingVWAP  \\\n",
              "Date                                                                    \n",
              "2000-02-02  4.095381e+08  1.227971e+10      1.333741e+10     0.920697   \n",
              "2000-02-03  4.383343e+08  1.218254e+10      1.327680e+10     0.917581   \n",
              "2000-02-04  4.101301e+08  1.212376e+10      1.318975e+10     0.919180   \n",
              "2000-02-07  4.491894e+08  1.185022e+10      1.285249e+10     0.922017   \n",
              "2000-02-08  4.191331e+08  1.161795e+10      1.249316e+10     0.929944   \n",
              "...                  ...           ...               ...          ...   \n",
              "2014-12-24  1.621860e+09  1.271327e+11      4.491455e+09    28.305468   \n",
              "2014-12-26  3.843857e+09  1.253475e+11      4.436536e+09    28.253464   \n",
              "2014-12-29  3.143791e+09  1.203957e+11      4.271570e+09    28.185344   \n",
              "2014-12-30  3.362266e+09  1.189065e+11      4.228022e+09    28.123431   \n",
              "2014-12-31  4.570107e+09  1.205254e+11      4.294378e+09    28.065861   \n",
              "\n",
              "             returns  day's return  \n",
              "Date                                \n",
              "2000-02-02 -0.014339     -0.019232  \n",
              "2000-02-03  0.045541      0.029907  \n",
              "2000-02-04  0.045372      0.039087  \n",
              "2000-02-07  0.056134      0.056134  \n",
              "2000-02-08  0.007124      0.007676  \n",
              "...              ...           ...  \n",
              "2014-12-24 -0.004709     -0.005063  \n",
              "2014-12-26  0.017677      0.016860  \n",
              "2014-12-29 -0.000702      0.001055  \n",
              "2014-12-30 -0.012203     -0.009856  \n",
              "2014-12-31 -0.019019     -0.021627  \n",
              "\n",
              "[3752 rows x 12 columns]"
            ],
            "text/html": [
              "\n",
              "  <div id=\"df-26347dba-a5a0-44db-b788-0fb72d43285f\">\n",
              "    <div class=\"colab-df-container\">\n",
              "      <div>\n",
              "<style scoped>\n",
              "    .dataframe tbody tr th:only-of-type {\n",
              "        vertical-align: middle;\n",
              "    }\n",
              "\n",
              "    .dataframe tbody tr th {\n",
              "        vertical-align: top;\n",
              "    }\n",
              "\n",
              "    .dataframe thead th {\n",
              "        text-align: right;\n",
              "    }\n",
              "</style>\n",
              "<table border=\"1\" class=\"dataframe\">\n",
              "  <thead>\n",
              "    <tr style=\"text-align: right;\">\n",
              "      <th></th>\n",
              "      <th>Open</th>\n",
              "      <th>High</th>\n",
              "      <th>Low</th>\n",
              "      <th>Close</th>\n",
              "      <th>Adj Close</th>\n",
              "      <th>Volume</th>\n",
              "      <th>PV</th>\n",
              "      <th>CumulativePV</th>\n",
              "      <th>CumulativeVolume</th>\n",
              "      <th>RollingVWAP</th>\n",
              "      <th>returns</th>\n",
              "      <th>day's return</th>\n",
              "    </tr>\n",
              "    <tr>\n",
              "      <th>Date</th>\n",
              "      <th></th>\n",
              "      <th></th>\n",
              "      <th></th>\n",
              "      <th></th>\n",
              "      <th></th>\n",
              "      <th></th>\n",
              "      <th></th>\n",
              "      <th></th>\n",
              "      <th></th>\n",
              "      <th></th>\n",
              "      <th></th>\n",
              "      <th></th>\n",
              "    </tr>\n",
              "  </thead>\n",
              "  <tbody>\n",
              "    <tr>\n",
              "      <th>2000-02-02</th>\n",
              "      <td>0.899554</td>\n",
              "      <td>0.911830</td>\n",
              "      <td>0.866071</td>\n",
              "      <td>0.882254</td>\n",
              "      <td>0.750903</td>\n",
              "      <td>464195200</td>\n",
              "      <td>4.095381e+08</td>\n",
              "      <td>1.227971e+10</td>\n",
              "      <td>1.333741e+10</td>\n",
              "      <td>0.920697</td>\n",
              "      <td>-0.014339</td>\n",
              "      <td>-0.019232</td>\n",
              "    </tr>\n",
              "    <tr>\n",
              "      <th>2000-02-03</th>\n",
              "      <td>0.895647</td>\n",
              "      <td>0.930804</td>\n",
              "      <td>0.895089</td>\n",
              "      <td>0.922433</td>\n",
              "      <td>0.785100</td>\n",
              "      <td>475193600</td>\n",
              "      <td>4.383343e+08</td>\n",
              "      <td>1.218254e+10</td>\n",
              "      <td>1.327680e+10</td>\n",
              "      <td>0.917581</td>\n",
              "      <td>0.045541</td>\n",
              "      <td>0.029907</td>\n",
              "    </tr>\n",
              "    <tr>\n",
              "      <th>2000-02-04</th>\n",
              "      <td>0.928013</td>\n",
              "      <td>0.982143</td>\n",
              "      <td>0.925223</td>\n",
              "      <td>0.964286</td>\n",
              "      <td>0.820721</td>\n",
              "      <td>425320000</td>\n",
              "      <td>4.101301e+08</td>\n",
              "      <td>1.212376e+10</td>\n",
              "      <td>1.318975e+10</td>\n",
              "      <td>0.919180</td>\n",
              "      <td>0.045372</td>\n",
              "      <td>0.039087</td>\n",
              "    </tr>\n",
              "    <tr>\n",
              "      <th>2000-02-07</th>\n",
              "      <td>0.964286</td>\n",
              "      <td>1.020089</td>\n",
              "      <td>0.945871</td>\n",
              "      <td>1.018415</td>\n",
              "      <td>0.866792</td>\n",
              "      <td>441067200</td>\n",
              "      <td>4.491894e+08</td>\n",
              "      <td>1.185022e+10</td>\n",
              "      <td>1.285249e+10</td>\n",
              "      <td>0.922017</td>\n",
              "      <td>0.056134</td>\n",
              "      <td>0.056134</td>\n",
              "    </tr>\n",
              "    <tr>\n",
              "      <th>2000-02-08</th>\n",
              "      <td>1.017857</td>\n",
              "      <td>1.036830</td>\n",
              "      <td>0.993304</td>\n",
              "      <td>1.025670</td>\n",
              "      <td>0.872967</td>\n",
              "      <td>408643200</td>\n",
              "      <td>4.191331e+08</td>\n",
              "      <td>1.161795e+10</td>\n",
              "      <td>1.249316e+10</td>\n",
              "      <td>0.929944</td>\n",
              "      <td>0.007124</td>\n",
              "      <td>0.007676</td>\n",
              "    </tr>\n",
              "    <tr>\n",
              "      <th>...</th>\n",
              "      <td>...</td>\n",
              "      <td>...</td>\n",
              "      <td>...</td>\n",
              "      <td>...</td>\n",
              "      <td>...</td>\n",
              "      <td>...</td>\n",
              "      <td>...</td>\n",
              "      <td>...</td>\n",
              "      <td>...</td>\n",
              "      <td>...</td>\n",
              "      <td>...</td>\n",
              "      <td>...</td>\n",
              "    </tr>\n",
              "    <tr>\n",
              "      <th>2014-12-24</th>\n",
              "      <td>28.145000</td>\n",
              "      <td>28.177500</td>\n",
              "      <td>28.002501</td>\n",
              "      <td>28.002501</td>\n",
              "      <td>25.167871</td>\n",
              "      <td>57918400</td>\n",
              "      <td>1.621860e+09</td>\n",
              "      <td>1.271327e+11</td>\n",
              "      <td>4.491455e+09</td>\n",
              "      <td>28.305468</td>\n",
              "      <td>-0.004709</td>\n",
              "      <td>-0.005063</td>\n",
              "    </tr>\n",
              "    <tr>\n",
              "      <th>2014-12-26</th>\n",
              "      <td>28.025000</td>\n",
              "      <td>28.629999</td>\n",
              "      <td>28.002501</td>\n",
              "      <td>28.497499</td>\n",
              "      <td>25.612768</td>\n",
              "      <td>134884000</td>\n",
              "      <td>3.843857e+09</td>\n",
              "      <td>1.253475e+11</td>\n",
              "      <td>4.436536e+09</td>\n",
              "      <td>28.253464</td>\n",
              "      <td>0.017677</td>\n",
              "      <td>0.016860</td>\n",
              "    </tr>\n",
              "    <tr>\n",
              "      <th>2014-12-29</th>\n",
              "      <td>28.447500</td>\n",
              "      <td>28.692499</td>\n",
              "      <td>28.424999</td>\n",
              "      <td>28.477501</td>\n",
              "      <td>25.594793</td>\n",
              "      <td>110395600</td>\n",
              "      <td>3.143791e+09</td>\n",
              "      <td>1.203957e+11</td>\n",
              "      <td>4.271570e+09</td>\n",
              "      <td>28.185344</td>\n",
              "      <td>-0.000702</td>\n",
              "      <td>0.001055</td>\n",
              "    </tr>\n",
              "    <tr>\n",
              "      <th>2014-12-30</th>\n",
              "      <td>28.410000</td>\n",
              "      <td>28.480000</td>\n",
              "      <td>28.027500</td>\n",
              "      <td>28.129999</td>\n",
              "      <td>25.282473</td>\n",
              "      <td>119526000</td>\n",
              "      <td>3.362266e+09</td>\n",
              "      <td>1.189065e+11</td>\n",
              "      <td>4.228022e+09</td>\n",
              "      <td>28.123431</td>\n",
              "      <td>-0.012203</td>\n",
              "      <td>-0.009856</td>\n",
              "    </tr>\n",
              "    <tr>\n",
              "      <th>2014-12-31</th>\n",
              "      <td>28.205000</td>\n",
              "      <td>28.282499</td>\n",
              "      <td>27.552500</td>\n",
              "      <td>27.594999</td>\n",
              "      <td>24.801624</td>\n",
              "      <td>165613600</td>\n",
              "      <td>4.570107e+09</td>\n",
              "      <td>1.205254e+11</td>\n",
              "      <td>4.294378e+09</td>\n",
              "      <td>28.065861</td>\n",
              "      <td>-0.019019</td>\n",
              "      <td>-0.021627</td>\n",
              "    </tr>\n",
              "  </tbody>\n",
              "</table>\n",
              "<p>3752 rows × 12 columns</p>\n",
              "</div>\n",
              "      <button class=\"colab-df-convert\" onclick=\"convertToInteractive('df-26347dba-a5a0-44db-b788-0fb72d43285f')\"\n",
              "              title=\"Convert this dataframe to an interactive table.\"\n",
              "              style=\"display:none;\">\n",
              "        \n",
              "  <svg xmlns=\"http://www.w3.org/2000/svg\" height=\"24px\"viewBox=\"0 0 24 24\"\n",
              "       width=\"24px\">\n",
              "    <path d=\"M0 0h24v24H0V0z\" fill=\"none\"/>\n",
              "    <path d=\"M18.56 5.44l.94 2.06.94-2.06 2.06-.94-2.06-.94-.94-2.06-.94 2.06-2.06.94zm-11 1L8.5 8.5l.94-2.06 2.06-.94-2.06-.94L8.5 2.5l-.94 2.06-2.06.94zm10 10l.94 2.06.94-2.06 2.06-.94-2.06-.94-.94-2.06-.94 2.06-2.06.94z\"/><path d=\"M17.41 7.96l-1.37-1.37c-.4-.4-.92-.59-1.43-.59-.52 0-1.04.2-1.43.59L10.3 9.45l-7.72 7.72c-.78.78-.78 2.05 0 2.83L4 21.41c.39.39.9.59 1.41.59.51 0 1.02-.2 1.41-.59l7.78-7.78 2.81-2.81c.8-.78.8-2.07 0-2.86zM5.41 20L4 18.59l7.72-7.72 1.47 1.35L5.41 20z\"/>\n",
              "  </svg>\n",
              "      </button>\n",
              "      \n",
              "  <style>\n",
              "    .colab-df-container {\n",
              "      display:flex;\n",
              "      flex-wrap:wrap;\n",
              "      gap: 12px;\n",
              "    }\n",
              "\n",
              "    .colab-df-convert {\n",
              "      background-color: #E8F0FE;\n",
              "      border: none;\n",
              "      border-radius: 50%;\n",
              "      cursor: pointer;\n",
              "      display: none;\n",
              "      fill: #1967D2;\n",
              "      height: 32px;\n",
              "      padding: 0 0 0 0;\n",
              "      width: 32px;\n",
              "    }\n",
              "\n",
              "    .colab-df-convert:hover {\n",
              "      background-color: #E2EBFA;\n",
              "      box-shadow: 0px 1px 2px rgba(60, 64, 67, 0.3), 0px 1px 3px 1px rgba(60, 64, 67, 0.15);\n",
              "      fill: #174EA6;\n",
              "    }\n",
              "\n",
              "    [theme=dark] .colab-df-convert {\n",
              "      background-color: #3B4455;\n",
              "      fill: #D2E3FC;\n",
              "    }\n",
              "\n",
              "    [theme=dark] .colab-df-convert:hover {\n",
              "      background-color: #434B5C;\n",
              "      box-shadow: 0px 1px 3px 1px rgba(0, 0, 0, 0.15);\n",
              "      filter: drop-shadow(0px 1px 2px rgba(0, 0, 0, 0.3));\n",
              "      fill: #FFFFFF;\n",
              "    }\n",
              "  </style>\n",
              "\n",
              "      <script>\n",
              "        const buttonEl =\n",
              "          document.querySelector('#df-26347dba-a5a0-44db-b788-0fb72d43285f button.colab-df-convert');\n",
              "        buttonEl.style.display =\n",
              "          google.colab.kernel.accessAllowed ? 'block' : 'none';\n",
              "\n",
              "        async function convertToInteractive(key) {\n",
              "          const element = document.querySelector('#df-26347dba-a5a0-44db-b788-0fb72d43285f');\n",
              "          const dataTable =\n",
              "            await google.colab.kernel.invokeFunction('convertToInteractive',\n",
              "                                                     [key], {});\n",
              "          if (!dataTable) return;\n",
              "\n",
              "          const docLinkHtml = 'Like what you see? Visit the ' +\n",
              "            '<a target=\"_blank\" href=https://colab.research.google.com/notebooks/data_table.ipynb>data table notebook</a>'\n",
              "            + ' to learn more about interactive tables.';\n",
              "          element.innerHTML = '';\n",
              "          dataTable['output_type'] = 'display_data';\n",
              "          await google.colab.output.renderOutput(dataTable, element);\n",
              "          const docLink = document.createElement('div');\n",
              "          docLink.innerHTML = docLinkHtml;\n",
              "          element.appendChild(docLink);\n",
              "        }\n",
              "      </script>\n",
              "    </div>\n",
              "  </div>\n",
              "  "
            ]
          },
          "metadata": {},
          "execution_count": 28
        }
      ]
    },
    {
      "cell_type": "markdown",
      "source": [
        "Trade Entry :- we wait for close to cross above VWAP and then enter at next days Open\n",
        "Exit :- Once the Close is  below the VWAP we exit the position and take a short on the next days open (Ignoring Slippage)"
      ],
      "metadata": {
        "id": "0iOcBCf1XRPX"
      }
    },
    {
      "cell_type": "code",
      "source": [
        "def VWAP_crossover(symbol,lookback,start,end,print_trades=False):\n",
        "  df = data_prep_VWAP2(symbol,lookback,start,end) # prepares the dataset\n",
        "  df['strat_returns']=np.zeros(len(df)) # initialise the strategy column\n",
        "  long_trade=False # sets long and short trade indicator to false \n",
        "  short_trade=False\n",
        "  for date in df.index:\n",
        "    if long_trade: \n",
        "      if just_entered:\n",
        "        if print_trades:\n",
        "          print('entered long trade',df.loc[date,\"day's return\"])\n",
        "        df.loc[date,'strat_returns'] = df.loc[date,\"day's return\"]\n",
        "        just_entered=False\n",
        "      else:   \n",
        "        if print_trades:\n",
        "          print('in long trade',df.loc[date,'returns'])\n",
        "        df.loc[date,'strat_returns'] = df.loc[date,'returns']\n",
        "    elif short_trade:\n",
        "      if just_entered:\n",
        "        if print_trades:\n",
        "          print('entered short trade',-df.loc[date,\"day's return\"])\n",
        "        df.loc[date,'strat_returns'] = -df.loc[date,\"day's return\"]\n",
        "        just_entered=False\n",
        "      else:      \n",
        "        if print_trades:\n",
        "          print('in short trade',-df.loc[date,'returns'])\n",
        "        df.loc[date,'strat_returns'] = -df.loc[date,'returns']\n",
        "    else:\n",
        "      df.loc[date,'strat_returns'] = 0\n",
        "    if df.loc[date,'Close'] > df.loc[date,'RollingVWAP']:\n",
        "      if long_trade==False:\n",
        "        just_entered=True\n",
        "      long_trade=True\n",
        "      short_trade=False\n",
        "    else:\n",
        "      if short_trade==False:\n",
        "        just_entered=True\n",
        "      long_trade=False\n",
        "      short_trade=True\n",
        "  return df"
      ],
      "metadata": {
        "id": "enjZqSYYVbrK"
      },
      "execution_count": 66,
      "outputs": []
    },
    {
      "cell_type": "code",
      "source": [
        "ret=VWAP_crossover('D',100,start='2010-01-01',end='2011-01-01')\n",
        "ret"
      ],
      "metadata": {
        "id": "jAciS2D4Z5E8"
      },
      "execution_count": null,
      "outputs": []
    },
    {
      "cell_type": "code",
      "source": [
        "plt.plot(ret['Open'],c='blue')\n",
        "plt.plot(ret['RollingVWAP'],c='black')\n",
        "plt.xlabel('date')\n",
        "plt.ylabel('price')\n",
        "plt.show()"
      ],
      "metadata": {
        "id": "0SXUswYu8JA9",
        "colab": {
          "base_uri": "https://localhost:8080/",
          "height": 449
        },
        "outputId": "fc794deb-830f-4254-ee68-f6796c421e0d"
      },
      "execution_count": 70,
      "outputs": [
        {
          "output_type": "display_data",
          "data": {
            "text/plain": [
              "<Figure size 640x480 with 1 Axes>"
            ],
            "image/png": "[encoded data removed]"
          },
          "metadata": {}
        }
      ]
    },
    {
      "cell_type": "code",
      "source": [
        "plt.plot(ret['returns'],c='blue')\n",
        "plt.plot(ret['strat_returns'],c='red')\n",
        "plt.show()"
      ],
      "metadata": {
        "id": "rz96MSwR0dqc",
        "colab": {
          "base_uri": "https://localhost:8080/",
          "height": 430
        },
        "outputId": "2e180058-c841-4027-f6fe-e7fd3776b438"
      },
      "execution_count": 71,
      "outputs": [
        {
          "output_type": "display_data",
          "data": {
            "text/plain": [
              "<Figure size 640x480 with 1 Axes>"
            ],
            "image/png": "[encoded data removed]"
          },
          "metadata": {}
        }
      ]
    },
    {
      "cell_type": "code",
      "source": [
        "def cumret(returns):\n",
        "  return (returns+1).cumprod()"
      ],
      "metadata": {
        "id": "gC3XqFsQ1J3H"
      },
      "execution_count": 72,
      "outputs": []
    },
    {
      "cell_type": "code",
      "source": [
        "plt.plot(ret['returns']-ret['strat_returns'])"
      ],
      "metadata": {
        "id": "6As01T3T4jRQ",
        "colab": {
          "base_uri": "https://localhost:8080/",
          "height": 447
        },
        "outputId": "5a49cae7-c38e-47bd-ab0c-d874e519f847"
      },
      "execution_count": 73,
      "outputs": [
        {
          "output_type": "execute_result",
          "data": {
            "text/plain": [
              "[<matplotlib.lines.Line2D at 0x7fd9b999ccd0>]"
            ]
          },
          "metadata": {},
          "execution_count": 73
        },
        {
          "output_type": "display_data",
          "data": {
            "text/plain": [
              "<Figure size 640x480 with 1 Axes>"
            ],
            "image/png": "[encoded data removed]"
          },
          "metadata": {}
        }
      ]
    },
    {
      "cell_type": "code",
      "source": [
        "plt.plot(cumret(ret['returns']),c='blue')\n",
        "plt.plot(cumret(ret['strat_returns']),c='green')\n",
        "plt.show()"
      ],
      "metadata": {
        "id": "5q0WftKF1TUp",
        "colab": {
          "base_uri": "https://localhost:8080/",
          "height": 430
        },
        "outputId": "44c3d951-9fd9-4743-c9eb-cfd8701c2d9b"
      },
      "execution_count": 49,
      "outputs": [
        {
          "output_type": "display_data",
          "data": {
            "text/plain": [
              "<Figure size 640x480 with 1 Axes>"
            ],
            "image/png": "[encoded data removed]"
          },
          "metadata": {}
        }
      ]
    },
    {
      "cell_type": "markdown",
      "source": [
        "upon close examination we see lot of errors with our entry instead we added a slight modification in order to confirm our entries where we look at both previous days close and current days open to take our entries. "
      ],
      "metadata": {
        "id": "YCTB0VsD-Z3D"
      }
    },
    {
      "cell_type": "code",
      "source": [
        "def statistics(df,get_plots=False):\n",
        "  if isinstance(df, pd.DataFrame):\n",
        "    \"\"\"\n",
        "    Calculates the drawdowns given a column of daily returns.\n",
        "    Returns a pandas DataFrame with columns for daily returns,\n",
        "    cumulative returns, and drawdowns.\n",
        "    \"\"\"\n",
        "    # Calculate cumulative returns\n",
        "    cum_returns = (1 + df.returns).cumprod()\n",
        "    cum_returns_strat = (1 + df.strat_returns).cumprod()\n",
        "    # Calculate the previous peaks\n",
        "    previous_peaks = cum_returns.cummax()\n",
        "    previous_peaks_strat = cum_returns_strat.cummax()\n",
        "\n",
        "    # Calculate the drawdowns\n",
        "    drawdowns = (cum_returns - previous_peaks) / previous_peaks\n",
        "    drawdowns_strat = (cum_returns_strat - previous_peaks_strat) / previous_peaks_strat\n",
        "    # Create a DataFrame with the results\n",
        "    results = pd.DataFrame({'Cumulative Returns': cum_returns,\n",
        "                            'Strategy Cumulative Returns': cum_returns_strat,\n",
        "                            'Drawdowns': drawdowns,\n",
        "                            'Strategy Drawdowns': drawdowns_strat})\n",
        "    if get_plots==False:\n",
        "      return results\n",
        "    fig,axs = plt.subplots(3,figsize=(10,15))\n",
        "    axs[0].plot(results.iloc[:,:2],label=results.columns[:2])\n",
        "    axs[0].set_title('cummulative returns')\n",
        "    axs[0].set_ylabel('Returns')\n",
        "    axs[0].set_xlabel('date')\n",
        "    axs[0].legend()\n",
        "    axs[1].plot(results.iloc[:,2:],label=results.columns[2:])\n",
        "    axs[1].set_title('drawdown')\n",
        "    axs[1].set_ylabel('drawdown')\n",
        "    axs[1].set_xlabel('date')\n",
        "    axs[0].legend()\n",
        "    axs[2].hist(df.returns,alpha=0.5,bins=30,label='benchmark')\n",
        "    axs[2].hist(df.strat_returns,alpha=0.5,bins=30,label='strategy')\n",
        "    axs[2].set_title('distribution of returns')\n",
        "    axs[2].set_xlabel('returns')\n",
        "    axs[2].set_ylabel('frequency')\n",
        "    axs[2].legend()\n",
        "    fig.show()\n",
        "    return results\n",
        "  else:\n",
        "    print('invalid Datatype')\n",
        "    return None\n",
        "\n"
      ],
      "metadata": {
        "id": "UN3iCEDnAdm7"
      },
      "execution_count": 81,
      "outputs": []
    },
    {
      "cell_type": "code",
      "source": [
        "statistics(ret,True)"
      ],
      "metadata": {
        "id": "m-Y9LQEkCHc8",
        "colab": {
          "base_uri": "https://localhost:8080/",
          "height": 1000
        },
        "outputId": "27adc34b-a556-423d-9574-772bdb56f01b"
      },
      "execution_count": 82,
      "outputs": [
        {
          "output_type": "execute_result",
          "data": {
            "text/plain": [
              "            Cumulative Returns  Strategy Cumulative Returns  Drawdowns  \\\n",
              "Date                                                                     \n",
              "2010-05-26            0.982921                     1.000000   0.000000   \n",
              "2010-05-27            0.997706                     0.999744   0.000000   \n",
              "2010-05-28            0.993118                     1.004342  -0.004599   \n",
              "2010-06-01            0.983686                     1.013880  -0.014052   \n",
              "2010-06-02            1.012490                     0.984192   0.000000   \n",
              "...                        ...                          ...        ...   \n",
              "2010-12-27            1.093296                     0.868164  -0.045191   \n",
              "2010-12-28            1.094061                     0.867557  -0.044524   \n",
              "2010-12-29            1.094570                     0.867153  -0.044078   \n",
              "2010-12-30            1.093551                     0.867960  -0.044969   \n",
              "2010-12-31            1.088963                     0.871602  -0.048976   \n",
              "\n",
              "            Strategy Drawdowns  \n",
              "Date                            \n",
              "2010-05-26            0.000000  \n",
              "2010-05-27           -0.000256  \n",
              "2010-05-28            0.000000  \n",
              "2010-06-01            0.000000  \n",
              "2010-06-02           -0.029282  \n",
              "...                        ...  \n",
              "2010-12-27           -0.143721  \n",
              "2010-12-28           -0.144320  \n",
              "2010-12-29           -0.144719  \n",
              "2010-12-30           -0.143922  \n",
              "2010-12-31           -0.140330  \n",
              "\n",
              "[153 rows x 4 columns]"
            ],
            "text/html": [
              "\n",
              "  <div id=\"df-18efa373-6dd9-4961-8b83-692c03e9a158\">\n",
              "    <div class=\"colab-df-container\">\n",
              "      <div>\n",
              "<style scoped>\n",
              "    .dataframe tbody tr th:only-of-type {\n",
              "        vertical-align: middle;\n",
              "    }\n",
              "\n",
              "    .dataframe tbody tr th {\n",
              "        vertical-align: top;\n",
              "    }\n",
              "\n",
              "    .dataframe thead th {\n",
              "        text-align: right;\n",
              "    }\n",
              "</style>\n",
              "<table border=\"1\" class=\"dataframe\">\n",
              "  <thead>\n",
              "    <tr style=\"text-align: right;\">\n",
              "      <th></th>\n",
              "      <th>Cumulative Returns</th>\n",
              "      <th>Strategy Cumulative Returns</th>\n",
              "      <th>Drawdowns</th>\n",
              "      <th>Strategy Drawdowns</th>\n",
              "    </tr>\n",
              "    <tr>\n",
              "      <th>Date</th>\n",
              "      <th></th>\n",
              "      <th></th>\n",
              "      <th></th>\n",
              "      <th></th>\n",
              "    </tr>\n",
              "  </thead>\n",
              "  <tbody>\n",
              "    <tr>\n",
              "      <th>2010-05-26</th>\n",
              "      <td>0.982921</td>\n",
              "      <td>1.000000</td>\n",
              "      <td>0.000000</td>\n",
              "      <td>0.000000</td>\n",
              "    </tr>\n",
              "    <tr>\n",
              "      <th>2010-05-27</th>\n",
              "      <td>0.997706</td>\n",
              "      <td>0.999744</td>\n",
              "      <td>0.000000</td>\n",
              "      <td>-0.000256</td>\n",
              "    </tr>\n",
              "    <tr>\n",
              "      <th>2010-05-28</th>\n",
              "      <td>0.993118</td>\n",
              "      <td>1.004342</td>\n",
              "      <td>-0.004599</td>\n",
              "      <td>0.000000</td>\n",
              "    </tr>\n",
              "    <tr>\n",
              "      <th>2010-06-01</th>\n",
              "      <td>0.983686</td>\n",
              "      <td>1.013880</td>\n",
              "      <td>-0.014052</td>\n",
              "      <td>0.000000</td>\n",
              "    </tr>\n",
              "    <tr>\n",
              "      <th>2010-06-02</th>\n",
              "      <td>1.012490</td>\n",
              "      <td>0.984192</td>\n",
              "      <td>0.000000</td>\n",
              "      <td>-0.029282</td>\n",
              "    </tr>\n",
              "    <tr>\n",
              "      <th>...</th>\n",
              "      <td>...</td>\n",
              "      <td>...</td>\n",
              "      <td>...</td>\n",
              "      <td>...</td>\n",
              "    </tr>\n",
              "    <tr>\n",
              "      <th>2010-12-27</th>\n",
              "      <td>1.093296</td>\n",
              "      <td>0.868164</td>\n",
              "      <td>-0.045191</td>\n",
              "      <td>-0.143721</td>\n",
              "    </tr>\n",
              "    <tr>\n",
              "      <th>2010-12-28</th>\n",
              "      <td>1.094061</td>\n",
              "      <td>0.867557</td>\n",
              "      <td>-0.044524</td>\n",
              "      <td>-0.144320</td>\n",
              "    </tr>\n",
              "    <tr>\n",
              "      <th>2010-12-29</th>\n",
              "      <td>1.094570</td>\n",
              "      <td>0.867153</td>\n",
              "      <td>-0.044078</td>\n",
              "      <td>-0.144719</td>\n",
              "    </tr>\n",
              "    <tr>\n",
              "      <th>2010-12-30</th>\n",
              "      <td>1.093551</td>\n",
              "      <td>0.867960</td>\n",
              "      <td>-0.044969</td>\n",
              "      <td>-0.143922</td>\n",
              "    </tr>\n",
              "    <tr>\n",
              "      <th>2010-12-31</th>\n",
              "      <td>1.088963</td>\n",
              "      <td>0.871602</td>\n",
              "      <td>-0.048976</td>\n",
              "      <td>-0.140330</td>\n",
              "    </tr>\n",
              "  </tbody>\n",
              "</table>\n",
              "<p>153 rows × 4 columns</p>\n",
              "</div>\n",
              "      <button class=\"colab-df-convert\" onclick=\"convertToInteractive('df-18efa373-6dd9-4961-8b83-692c03e9a158')\"\n",
              "              title=\"Convert this dataframe to an interactive table.\"\n",
              "              style=\"display:none;\">\n",
              "        \n",
              "  <svg xmlns=\"http://www.w3.org/2000/svg\" height=\"24px\"viewBox=\"0 0 24 24\"\n",
              "       width=\"24px\">\n",
              "    <path d=\"M0 0h24v24H0V0z\" fill=\"none\"/>\n",
              "    <path d=\"M18.56 5.44l.94 2.06.94-2.06 2.06-.94-2.06-.94-.94-2.06-.94 2.06-2.06.94zm-11 1L8.5 8.5l.94-2.06 2.06-.94-2.06-.94L8.5 2.5l-.94 2.06-2.06.94zm10 10l.94 2.06.94-2.06 2.06-.94-2.06-.94-.94-2.06-.94 2.06-2.06.94z\"/><path d=\"M17.41 7.96l-1.37-1.37c-.4-.4-.92-.59-1.43-.59-.52 0-1.04.2-1.43.59L10.3 9.45l-7.72 7.72c-.78.78-.78 2.05 0 2.83L4 21.41c.39.39.9.59 1.41.59.51 0 1.02-.2 1.41-.59l7.78-7.78 2.81-2.81c.8-.78.8-2.07 0-2.86zM5.41 20L4 18.59l7.72-7.72 1.47 1.35L5.41 20z\"/>\n",
              "  </svg>\n",
              "      </button>\n",
              "      \n",
              "  <style>\n",
              "    .colab-df-container {\n",
              "      display:flex;\n",
              "      flex-wrap:wrap;\n",
              "      gap: 12px;\n",
              "    }\n",
              "\n",
              "    .colab-df-convert {\n",
              "      background-color: #E8F0FE;\n",
              "      border: none;\n",
              "      border-radius: 50%;\n",
              "      cursor: pointer;\n",
              "      display: none;\n",
              "      fill: #1967D2;\n",
              "      height: 32px;\n",
              "      padding: 0 0 0 0;\n",
              "      width: 32px;\n",
              "    }\n",
              "\n",
              "    .colab-df-convert:hover {\n",
              "      background-color: #E2EBFA;\n",
              "      box-shadow: 0px 1px 2px rgba(60, 64, 67, 0.3), 0px 1px 3px 1px rgba(60, 64, 67, 0.15);\n",
              "      fill: #174EA6;\n",
              "    }\n",
              "\n",
              "    [theme=dark] .colab-df-convert {\n",
              "      background-color: #3B4455;\n",
              "      fill: #D2E3FC;\n",
              "    }\n",
              "\n",
              "    [theme=dark] .colab-df-convert:hover {\n",
              "      background-color: #434B5C;\n",
              "      box-shadow: 0px 1px 3px 1px rgba(0, 0, 0, 0.15);\n",
              "      filter: drop-shadow(0px 1px 2px rgba(0, 0, 0, 0.3));\n",
              "      fill: #FFFFFF;\n",
              "    }\n",
              "  </style>\n",
              "\n",
              "      <script>\n",
              "        const buttonEl =\n",
              "          document.querySelector('#df-18efa373-6dd9-4961-8b83-692c03e9a158 button.colab-df-convert');\n",
              "        buttonEl.style.display =\n",
              "          google.colab.kernel.accessAllowed ? 'block' : 'none';\n",
              "\n",
              "        async function convertToInteractive(key) {\n",
              "          const element = document.querySelector('#df-18efa373-6dd9-4961-8b83-692c03e9a158');\n",
              "          const dataTable =\n",
              "            await google.colab.kernel.invokeFunction('convertToInteractive',\n",
              "                                                     [key], {});\n",
              "          if (!dataTable) return;\n",
              "\n",
              "          const docLinkHtml = 'Like what you see? Visit the ' +\n",
              "            '<a target=\"_blank\" href=https://colab.research.google.com/notebooks/data_table.ipynb>data table notebook</a>'\n",
              "            + ' to learn more about interactive tables.';\n",
              "          element.innerHTML = '';\n",
              "          dataTable['output_type'] = 'display_data';\n",
              "          await google.colab.output.renderOutput(dataTable, element);\n",
              "          const docLink = document.createElement('div');\n",
              "          docLink.innerHTML = docLinkHtml;\n",
              "          element.appendChild(docLink);\n",
              "        }\n",
              "      </script>\n",
              "    </div>\n",
              "  </div>\n",
              "  "
            ]
          },
          "metadata": {},
          "execution_count": 82
        },
        {
          "output_type": "display_data",
          "data": {
            "text/plain": [
              "<Figure size 1000x1500 with 3 Axes>"
            ],
            "image/png": "[encoded data removed]"
          },
          "metadata": {}
        }
      ]
    },
    {
      "cell_type": "code",
      "source": [
        "# strategy hypothesis tests"
      ],
      "metadata": {
        "id": "UYhAFTO-FbrV"
      },
      "execution_count": 52,
      "outputs": []
    },
    {
      "cell_type": "code",
      "source": [
        "from scipy.stats import ttest_rel"
      ],
      "metadata": {
        "id": "Hbucaw8IGMEP"
      },
      "execution_count": 53,
      "outputs": []
    },
    {
      "cell_type": "code",
      "source": [
        "def strat_1tailed_test(df,print_results=False):\n",
        "  group1=df.returns\n",
        "  group2=df.strat_returns\n",
        "  t_stat, p_value = ttest_rel(group2, group1, alternative='greater')\n",
        "  if print_results:\n",
        "    print('mean_returns of benchmark = ',np.mean(group1))\n",
        "    print('mean_returns of strategy = ',np.mean(group2))\n",
        "    if p_value>0.01:\n",
        "      print(f\"null hypothesis cannot be rejected for this strategy\")\n",
        "    else:\n",
        "      print(f\"null hypothesis is rejected for this strategy\")\n",
        "  return p_value"
      ],
      "metadata": {
        "id": "X56EU8tWFh1u"
      },
      "execution_count": 56,
      "outputs": []
    },
    {
      "cell_type": "code",
      "source": [
        "strat_1tailed_test(ret)"
      ],
      "metadata": {
        "colab": {
          "base_uri": "https://localhost:8080/"
        },
        "id": "C-65I8RSG69o",
        "outputId": "4fe0364d-515d-40a3-c9af-0b88931e0538"
      },
      "execution_count": 57,
      "outputs": [
        {
          "output_type": "execute_result",
          "data": {
            "text/plain": [
              "0.9533316527083318"
            ]
          },
          "metadata": {},
          "execution_count": 57
        }
      ]
    },
    {
      "cell_type": "markdown",
      "source": [
        "# VWAP Tests"
      ],
      "metadata": {
        "id": "PAFHKqQeW5ko"
      }
    },
    {
      "cell_type": "code",
      "source": [
        "VWAP_strat_hypothesis_rejected=dict.fromkeys(sectors)\n",
        "for sector in sectors:\n",
        "  VWAP_strat_hypothesis_rejected[sector]={}\n",
        "  for stock in eval(sector+'_stocks'):\n",
        "    VWAP_strat_hypothesis_rejected[sector][stock]={}\n",
        "    for lookback in lookbacks:\n",
        "      df=VWAP_crossover(stock,lookback,start,end)\n",
        "      p_value = strat_1tailed_test(df)\n",
        "      if p_value<0.01:\n",
        "        VWAP_strat_hypothesis_rejected[sector][stock][lookback]=p_value"
      ],
      "metadata": {
        "id": "1shyEcqbHBuo"
      },
      "execution_count": null,
      "outputs": []
    },
    {
      "cell_type": "code",
      "source": [
        "VWAP_strat_hypothesis_rejected"
      ],
      "metadata": {
        "colab": {
          "base_uri": "https://localhost:8080/"
        },
        "id": "tX1no2Cnxrn4",
        "outputId": "e8e888e9-b0db-4e91-a896-7dc42cbcb13b"
      },
      "execution_count": 60,
      "outputs": [
        {
          "output_type": "execute_result",
          "data": {
            "text/plain": [
              "{'Tech': {'AAPL': {},\n",
              "  'MSFT': {},\n",
              "  'NVDA': {},\n",
              "  'ADBE': {},\n",
              "  'CRM': {},\n",
              "  'GOOGL': {},\n",
              "  'AMZN': {},\n",
              "  'IBM': {},\n",
              "  'INTC': {},\n",
              "  'CSCO': {}},\n",
              " 'Healthcare': {'JNJ': {},\n",
              "  'PFE': {},\n",
              "  'MRK': {},\n",
              "  'GILD': {},\n",
              "  'AMGN': {},\n",
              "  'BMY': {},\n",
              "  'LLY': {},\n",
              "  'REGN': {},\n",
              "  'UNH': {}},\n",
              " 'Financial': {'JPM': {},\n",
              "  'BAC': {},\n",
              "  'WFC': {},\n",
              "  'C': {},\n",
              "  'GS': {},\n",
              "  'MS': {},\n",
              "  'V': {},\n",
              "  'MA': {},\n",
              "  'AXP': {},\n",
              "  'SCHW': {}},\n",
              " 'Consumer_D': {'HD': {},\n",
              "  'MCD': {},\n",
              "  'NKE': {},\n",
              "  'SBUX': {},\n",
              "  'DIS': {},\n",
              "  'CMCSA': {},\n",
              "  'LOW': {},\n",
              "  'GM': {},\n",
              "  'F': {},\n",
              "  'BKNG': {}},\n",
              " 'Consumer_S': {'PG': {},\n",
              "  'KO': {},\n",
              "  'PEP': {},\n",
              "  'WMT': {},\n",
              "  'CL': {},\n",
              "  'KMB': {},\n",
              "  'CLX': {},\n",
              "  'MDLZ': {},\n",
              "  'EL': {}},\n",
              " 'Industrial': {'BA': {},\n",
              "  'GE': {},\n",
              "  'MMM': {},\n",
              "  'HON': {},\n",
              "  'CAT': {},\n",
              "  'RTX': {},\n",
              "  'LMT': {},\n",
              "  'GD': {},\n",
              "  'UNP': {},\n",
              "  'FDX': {}},\n",
              " 'Energy': {'XOM': {},\n",
              "  'CVX': {},\n",
              "  'BP': {},\n",
              "  'COP': {},\n",
              "  'EOG': {},\n",
              "  'OXY': {},\n",
              "  'SLB': {},\n",
              "  'KMI': {},\n",
              "  'WMB': {}},\n",
              " 'Utility': {'NEE': {},\n",
              "  'DUK': {},\n",
              "  'D': {},\n",
              "  'SO': {},\n",
              "  'EXC': {},\n",
              "  'AEP': {},\n",
              "  'SRE': {},\n",
              "  'XEL': {},\n",
              "  'WEC': {},\n",
              "  'AWK': {}},\n",
              " 'Market_ETF': {'SPY': {}, 'QQQ': {}}}"
            ]
          },
          "metadata": {},
          "execution_count": 60
        }
      ]
    },
    {
      "cell_type": "markdown",
      "source": [
        "# MA strat"
      ],
      "metadata": {
        "id": "oAEcXOdYQyZQ"
      }
    },
    {
      "cell_type": "code",
      "source": [
        "def data_prep_MA2(symbol,lookback,start,end,smoothing_choice=\"s\"):\n",
        "  # Calculate the cumulative sum of price times volume\n",
        "  df = yf.download(symbol,start,end)\n",
        "  # Calculate the rolling MAs\n",
        "  if smoothing_choice=='s':\n",
        "    df['SMA']=df['Close'].rolling(window=lookback).mean()\n",
        "  elif smoothing_choice=='e':\n",
        "    df['EMA']=df['Close'].ewm(span=lookback, adjust=False).mean()\n",
        "  df['returns']=(df['Close']-df['Open'])/df['Open']\n",
        "  df[\"day's return\"]=(df['Close']-df['Open'])/df['Open']\n",
        "  df=df.dropna(axis=0)\n",
        "  return df "
      ],
      "metadata": {
        "id": "TTTeXrCVQx0-"
      },
      "execution_count": 61,
      "outputs": []
    },
    {
      "cell_type": "code",
      "source": [
        "def MA_crossover(symbol,lookback,start,end,smoothing_choice=\"s\",print_trades=False):\n",
        "  df = data_prep_MA2(symbol,lookback,start,end,smoothing_choice) # prepares the dataset\n",
        "  df['strat_returns']=np.zeros(len(df)) # initialise the strategy column\n",
        "  long_trade=False # sets long and short trade indicator to false \n",
        "  short_trade=False\n",
        "  for date in df.index:\n",
        "    if long_trade: \n",
        "      if just_entered:\n",
        "        if print_trades:\n",
        "          print('entered long trade',df.loc[date,\"day's return\"])\n",
        "        df.loc[date,'strat_returns'] = df.loc[date,\"day's return\"]\n",
        "        just_entered=False\n",
        "      else:        \n",
        "        if print_trades:\n",
        "          print('in long trade',df.loc[date,'returns'])\n",
        "        df.loc[date,'strat_returns'] = df.loc[date,'returns']\n",
        "    elif short_trade:\n",
        "      if just_entered:\n",
        "        if print_trades:\n",
        "          print('entered short trade',-df.loc[date,\"day's return\"])\n",
        "        df.loc[date,'strat_returns'] = -df.loc[date,\"day's return\"]\n",
        "        just_entered=False\n",
        "      else:     \n",
        "        if print_trades: \n",
        "          print('in short trade',-df.loc[date,'returns'])\n",
        "        df.loc[date,'strat_returns'] = -df.loc[date,'returns']\n",
        "    else:\n",
        "      df.loc[date,'strat_returns'] = 0\n",
        "    # check for ma type\n",
        "    if smoothing_choice=='e':\n",
        "      column = 'EMA'\n",
        "    else:\n",
        "      column = 'SMA'\n",
        "    # strategy entry updates \n",
        "    if df.loc[date,'Close'] > df.loc[date,column]:\n",
        "      if long_trade==False:\n",
        "        just_entered=True\n",
        "      long_trade=True\n",
        "      short_trade=False\n",
        "    else:\n",
        "      if short_trade==False:\n",
        "        just_entered=True\n",
        "      long_trade=False\n",
        "      short_trade=True\n",
        "  return df"
      ],
      "metadata": {
        "id": "F69LDNmbRlsf"
      },
      "execution_count": 65,
      "outputs": []
    },
    {
      "cell_type": "code",
      "source": [
        "MA_crossover(symbol='spy',lookback=50,start=start,end=end,smoothing_choice=\"e\")"
      ],
      "metadata": {
        "id": "-LfVl2E7Zm5O",
        "colab": {
          "base_uri": "https://localhost:8080/",
          "height": 472
        },
        "outputId": "3209c7d3-a485-49e8-9f82-df99d41bab9a"
      },
      "execution_count": 63,
      "outputs": [
        {
          "output_type": "stream",
          "name": "stdout",
          "text": [
            "\r[*********************100%***********************]  1 of 1 completed\n"
          ]
        },
        {
          "output_type": "execute_result",
          "data": {
            "text/plain": [
              "                  Open        High         Low       Close   Adj Close  \\\n",
              "Date                                                                     \n",
              "2000-01-03  148.250000  148.250000  143.875000  145.437500   94.946472   \n",
              "2000-01-04  143.531250  144.062500  139.640625  139.750000   91.233429   \n",
              "2000-01-05  139.937500  141.531250  137.250000  140.000000   91.396667   \n",
              "2000-01-06  139.625000  141.500000  137.750000  137.750000   89.927841   \n",
              "2000-01-07  140.312500  145.750000  140.062500  145.750000   95.150452   \n",
              "...                ...         ...         ...         ...         ...   \n",
              "2014-12-24  208.020004  208.339996  207.720001  207.770004  178.802673   \n",
              "2014-12-26  208.309998  208.850006  208.250000  208.440002  179.379272   \n",
              "2014-12-29  208.220001  208.970001  208.139999  208.720001  179.620193   \n",
              "2014-12-30  208.210007  208.369995  207.509995  207.600006  178.656357   \n",
              "2014-12-31  207.990005  208.190002  205.389999  205.539993  176.883530   \n",
              "\n",
              "               Volume         EMA   returns  day's return  strat_returns  \n",
              "Date                                                                      \n",
              "2000-01-03    8164300  145.437500 -0.018971     -0.018971       0.000000  \n",
              "2000-01-04    8089800  145.214461 -0.026344     -0.026344       0.026344  \n",
              "2000-01-05   12177900  145.009972  0.000447      0.000447      -0.000447  \n",
              "2000-01-06    6227200  144.725267 -0.013429     -0.013429       0.013429  \n",
              "2000-01-07    8066500  144.765453  0.038753      0.038753      -0.038753  \n",
              "...               ...         ...       ...           ...            ...  \n",
              "2014-12-24   42963400  202.954772 -0.001202     -0.001202      -0.001202  \n",
              "2014-12-26   57326700  203.169879  0.000624      0.000624       0.000624  \n",
              "2014-12-29   79643900  203.387531  0.002401      0.002401       0.002401  \n",
              "2014-12-30   73540800  203.552726 -0.002930     -0.002930      -0.002930  \n",
              "2014-12-31  130333800  203.630658 -0.011779     -0.011779      -0.011779  \n",
              "\n",
              "[3773 rows x 10 columns]"
            ],
            "text/html": [
              "\n",
              "  <div id=\"df-ce439eea-c6c1-495f-925d-86fa257a4cad\">\n",
              "    <div class=\"colab-df-container\">\n",
              "      <div>\n",
              "<style scoped>\n",
              "    .dataframe tbody tr th:only-of-type {\n",
              "        vertical-align: middle;\n",
              "    }\n",
              "\n",
              "    .dataframe tbody tr th {\n",
              "        vertical-align: top;\n",
              "    }\n",
              "\n",
              "    .dataframe thead th {\n",
              "        text-align: right;\n",
              "    }\n",
              "</style>\n",
              "<table border=\"1\" class=\"dataframe\">\n",
              "  <thead>\n",
              "    <tr style=\"text-align: right;\">\n",
              "      <th></th>\n",
              "      <th>Open</th>\n",
              "      <th>High</th>\n",
              "      <th>Low</th>\n",
              "      <th>Close</th>\n",
              "      <th>Adj Close</th>\n",
              "      <th>Volume</th>\n",
              "      <th>EMA</th>\n",
              "      <th>returns</th>\n",
              "      <th>day's return</th>\n",
              "      <th>strat_returns</th>\n",
              "    </tr>\n",
              "    <tr>\n",
              "      <th>Date</th>\n",
              "      <th></th>\n",
              "      <th></th>\n",
              "      <th></th>\n",
              "      <th></th>\n",
              "      <th></th>\n",
              "      <th></th>\n",
              "      <th></th>\n",
              "      <th></th>\n",
              "      <th></th>\n",
              "      <th></th>\n",
              "    </tr>\n",
              "  </thead>\n",
              "  <tbody>\n",
              "    <tr>\n",
              "      <th>2000-01-03</th>\n",
              "      <td>148.250000</td>\n",
              "      <td>148.250000</td>\n",
              "      <td>143.875000</td>\n",
              "      <td>145.437500</td>\n",
              "      <td>94.946472</td>\n",
              "      <td>8164300</td>\n",
              "      <td>145.437500</td>\n",
              "      <td>-0.018971</td>\n",
              "      <td>-0.018971</td>\n",
              "      <td>0.000000</td>\n",
              "    </tr>\n",
              "    <tr>\n",
              "      <th>2000-01-04</th>\n",
              "      <td>143.531250</td>\n",
              "      <td>144.062500</td>\n",
              "      <td>139.640625</td>\n",
              "      <td>139.750000</td>\n",
              "      <td>91.233429</td>\n",
              "      <td>8089800</td>\n",
              "      <td>145.214461</td>\n",
              "      <td>-0.026344</td>\n",
              "      <td>-0.026344</td>\n",
              "      <td>0.026344</td>\n",
              "    </tr>\n",
              "    <tr>\n",
              "      <th>2000-01-05</th>\n",
              "      <td>139.937500</td>\n",
              "      <td>141.531250</td>\n",
              "      <td>137.250000</td>\n",
              "      <td>140.000000</td>\n",
              "      <td>91.396667</td>\n",
              "      <td>12177900</td>\n",
              "      <td>145.009972</td>\n",
              "      <td>0.000447</td>\n",
              "      <td>0.000447</td>\n",
              "      <td>-0.000447</td>\n",
              "    </tr>\n",
              "    <tr>\n",
              "      <th>2000-01-06</th>\n",
              "      <td>139.625000</td>\n",
              "      <td>141.500000</td>\n",
              "      <td>137.750000</td>\n",
              "      <td>137.750000</td>\n",
              "      <td>89.927841</td>\n",
              "      <td>6227200</td>\n",
              "      <td>144.725267</td>\n",
              "      <td>-0.013429</td>\n",
              "      <td>-0.013429</td>\n",
              "      <td>0.013429</td>\n",
              "    </tr>\n",
              "    <tr>\n",
              "      <th>2000-01-07</th>\n",
              "      <td>140.312500</td>\n",
              "      <td>145.750000</td>\n",
              "      <td>140.062500</td>\n",
              "      <td>145.750000</td>\n",
              "      <td>95.150452</td>\n",
              "      <td>8066500</td>\n",
              "      <td>144.765453</td>\n",
              "      <td>0.038753</td>\n",
              "      <td>0.038753</td>\n",
              "      <td>-0.038753</td>\n",
              "    </tr>\n",
              "    <tr>\n",
              "      <th>...</th>\n",
              "      <td>...</td>\n",
              "      <td>...</td>\n",
              "      <td>...</td>\n",
              "      <td>...</td>\n",
              "      <td>...</td>\n",
              "      <td>...</td>\n",
              "      <td>...</td>\n",
              "      <td>...</td>\n",
              "      <td>...</td>\n",
              "      <td>...</td>\n",
              "    </tr>\n",
              "    <tr>\n",
              "      <th>2014-12-24</th>\n",
              "      <td>208.020004</td>\n",
              "      <td>208.339996</td>\n",
              "      <td>207.720001</td>\n",
              "      <td>207.770004</td>\n",
              "      <td>178.802673</td>\n",
              "      <td>42963400</td>\n",
              "      <td>202.954772</td>\n",
              "      <td>-0.001202</td>\n",
              "      <td>-0.001202</td>\n",
              "      <td>-0.001202</td>\n",
              "    </tr>\n",
              "    <tr>\n",
              "      <th>2014-12-26</th>\n",
              "      <td>208.309998</td>\n",
              "      <td>208.850006</td>\n",
              "      <td>208.250000</td>\n",
              "      <td>208.440002</td>\n",
              "      <td>179.379272</td>\n",
              "      <td>57326700</td>\n",
              "      <td>203.169879</td>\n",
              "      <td>0.000624</td>\n",
              "      <td>0.000624</td>\n",
              "      <td>0.000624</td>\n",
              "    </tr>\n",
              "    <tr>\n",
              "      <th>2014-12-29</th>\n",
              "      <td>208.220001</td>\n",
              "      <td>208.970001</td>\n",
              "      <td>208.139999</td>\n",
              "      <td>208.720001</td>\n",
              "      <td>179.620193</td>\n",
              "      <td>79643900</td>\n",
              "      <td>203.387531</td>\n",
              "      <td>0.002401</td>\n",
              "      <td>0.002401</td>\n",
              "      <td>0.002401</td>\n",
              "    </tr>\n",
              "    <tr>\n",
              "      <th>2014-12-30</th>\n",
              "      <td>208.210007</td>\n",
              "      <td>208.369995</td>\n",
              "      <td>207.509995</td>\n",
              "      <td>207.600006</td>\n",
              "      <td>178.656357</td>\n",
              "      <td>73540800</td>\n",
              "      <td>203.552726</td>\n",
              "      <td>-0.002930</td>\n",
              "      <td>-0.002930</td>\n",
              "      <td>-0.002930</td>\n",
              "    </tr>\n",
              "    <tr>\n",
              "      <th>2014-12-31</th>\n",
              "      <td>207.990005</td>\n",
              "      <td>208.190002</td>\n",
              "      <td>205.389999</td>\n",
              "      <td>205.539993</td>\n",
              "      <td>176.883530</td>\n",
              "      <td>130333800</td>\n",
              "      <td>203.630658</td>\n",
              "      <td>-0.011779</td>\n",
              "      <td>-0.011779</td>\n",
              "      <td>-0.011779</td>\n",
              "    </tr>\n",
              "  </tbody>\n",
              "</table>\n",
              "<p>3773 rows × 10 columns</p>\n",
              "</div>\n",
              "      <button class=\"colab-df-convert\" onclick=\"convertToInteractive('df-ce439eea-c6c1-495f-925d-86fa257a4cad')\"\n",
              "              title=\"Convert this dataframe to an interactive table.\"\n",
              "              style=\"display:none;\">\n",
              "        \n",
              "  <svg xmlns=\"http://www.w3.org/2000/svg\" height=\"24px\"viewBox=\"0 0 24 24\"\n",
              "       width=\"24px\">\n",
              "    <path d=\"M0 0h24v24H0V0z\" fill=\"none\"/>\n",
              "    <path d=\"M18.56 5.44l.94 2.06.94-2.06 2.06-.94-2.06-.94-.94-2.06-.94 2.06-2.06.94zm-11 1L8.5 8.5l.94-2.06 2.06-.94-2.06-.94L8.5 2.5l-.94 2.06-2.06.94zm10 10l.94 2.06.94-2.06 2.06-.94-2.06-.94-.94-2.06-.94 2.06-2.06.94z\"/><path d=\"M17.41 7.96l-1.37-1.37c-.4-.4-.92-.59-1.43-.59-.52 0-1.04.2-1.43.59L10.3 9.45l-7.72 7.72c-.78.78-.78 2.05 0 2.83L4 21.41c.39.39.9.59 1.41.59.51 0 1.02-.2 1.41-.59l7.78-7.78 2.81-2.81c.8-.78.8-2.07 0-2.86zM5.41 20L4 18.59l7.72-7.72 1.47 1.35L5.41 20z\"/>\n",
              "  </svg>\n",
              "      </button>\n",
              "      \n",
              "  <style>\n",
              "    .colab-df-container {\n",
              "      display:flex;\n",
              "      flex-wrap:wrap;\n",
              "      gap: 12px;\n",
              "    }\n",
              "\n",
              "    .colab-df-convert {\n",
              "      background-color: #E8F0FE;\n",
              "      border: none;\n",
              "      border-radius: 50%;\n",
              "      cursor: pointer;\n",
              "      display: none;\n",
              "      fill: #1967D2;\n",
              "      height: 32px;\n",
              "      padding: 0 0 0 0;\n",
              "      width: 32px;\n",
              "    }\n",
              "\n",
              "    .colab-df-convert:hover {\n",
              "      background-color: #E2EBFA;\n",
              "      box-shadow: 0px 1px 2px rgba(60, 64, 67, 0.3), 0px 1px 3px 1px rgba(60, 64, 67, 0.15);\n",
              "      fill: #174EA6;\n",
              "    }\n",
              "\n",
              "    [theme=dark] .colab-df-convert {\n",
              "      background-color: #3B4455;\n",
              "      fill: #D2E3FC;\n",
              "    }\n",
              "\n",
              "    [theme=dark] .colab-df-convert:hover {\n",
              "      background-color: #434B5C;\n",
              "      box-shadow: 0px 1px 3px 1px rgba(0, 0, 0, 0.15);\n",
              "      filter: drop-shadow(0px 1px 2px rgba(0, 0, 0, 0.3));\n",
              "      fill: #FFFFFF;\n",
              "    }\n",
              "  </style>\n",
              "\n",
              "      <script>\n",
              "        const buttonEl =\n",
              "          document.querySelector('#df-ce439eea-c6c1-495f-925d-86fa257a4cad button.colab-df-convert');\n",
              "        buttonEl.style.display =\n",
              "          google.colab.kernel.accessAllowed ? 'block' : 'none';\n",
              "\n",
              "        async function convertToInteractive(key) {\n",
              "          const element = document.querySelector('#df-ce439eea-c6c1-495f-925d-86fa257a4cad');\n",
              "          const dataTable =\n",
              "            await google.colab.kernel.invokeFunction('convertToInteractive',\n",
              "                                                     [key], {});\n",
              "          if (!dataTable) return;\n",
              "\n",
              "          const docLinkHtml = 'Like what you see? Visit the ' +\n",
              "            '<a target=\"_blank\" href=https://colab.research.google.com/notebooks/data_table.ipynb>data table notebook</a>'\n",
              "            + ' to learn more about interactive tables.';\n",
              "          element.innerHTML = '';\n",
              "          dataTable['output_type'] = 'display_data';\n",
              "          await google.colab.output.renderOutput(dataTable, element);\n",
              "          const docLink = document.createElement('div');\n",
              "          docLink.innerHTML = docLinkHtml;\n",
              "          element.appendChild(docLink);\n",
              "        }\n",
              "      </script>\n",
              "    </div>\n",
              "  </div>\n",
              "  "
            ]
          },
          "metadata": {},
          "execution_count": 63
        }
      ]
    },
    {
      "cell_type": "markdown",
      "source": [
        "# MA Tests"
      ],
      "metadata": {
        "id": "mhacvxOpW9jB"
      }
    },
    {
      "cell_type": "code",
      "source": [
        "MA_strat_hypothesis_rejected=dict.fromkeys(sectors)\n",
        "for sector in sectors:\n",
        "  MA_strat_hypothesis_rejected[sector]={}\n",
        "  for stock in eval(sector+'_stocks'):\n",
        "    MA_strat_hypothesis_rejected[sector][stock]={}\n",
        "    for lookback in lookbacks:\n",
        "      MA_strat_hypothesis_rejected[sector][stock][lookback]={}\n",
        "      for ma_type in ['s','e']:\n",
        "        df=MA_crossover(stock,lookback,start,end,ma_type)\n",
        "        p_value = strat_1tailed_test(df)\n",
        "      if p_value<0.01:\n",
        "        MA_strat_hypothesis_rejected[sector][stock][lookback]=p_value"
      ],
      "metadata": {
        "id": "OQeEdDeYSJaV"
      },
      "execution_count": null,
      "outputs": []
    },
    {
      "cell_type": "code",
      "source": [
        "MA_strat_hypothesis_rejected"
      ],
      "metadata": {
        "colab": {
          "base_uri": "https://localhost:8080/"
        },
        "id": "PLQpMegRS08W",
        "outputId": "4188f077-6caf-44a4-8320-3c59834c5cdb"
      },
      "execution_count": 75,
      "outputs": [
        {
          "output_type": "execute_result",
          "data": {
            "text/plain": [
              "{'Tech': {'AAPL': {9: {}, 20: {}, 50: {}, 100: {}, 200: {}},\n",
              "  'MSFT': {9: {}, 20: {}, 50: {}, 100: {}, 200: {}},\n",
              "  'NVDA': {9: {}, 20: {}, 50: {}, 100: {}, 200: {}},\n",
              "  'ADBE': {9: {}, 20: {}, 50: {}, 100: {}, 200: {}},\n",
              "  'CRM': {9: {}, 20: {}, 50: {}, 100: {}, 200: {}},\n",
              "  'GOOGL': {9: {}, 20: {}, 50: {}, 100: {}, 200: {}},\n",
              "  'AMZN': {9: {}, 20: {}, 50: {}, 100: {}, 200: {}},\n",
              "  'IBM': {9: {}, 20: {}, 50: {}, 100: {}, 200: {}},\n",
              "  'INTC': {9: {}, 20: {}, 50: {}, 100: {}, 200: {}},\n",
              "  'CSCO': {9: {}, 20: {}, 50: {}, 100: {}, 200: {}}},\n",
              " 'Healthcare': {'JNJ': {9: {}, 20: {}, 50: {}, 100: {}, 200: {}},\n",
              "  'PFE': {9: {}, 20: {}, 50: {}, 100: {}, 200: {}},\n",
              "  'MRK': {9: {}, 20: {}, 50: {}, 100: {}, 200: {}},\n",
              "  'GILD': {9: {}, 20: {}, 50: {}, 100: {}, 200: {}},\n",
              "  'AMGN': {9: {}, 20: {}, 50: {}, 100: {}, 200: {}},\n",
              "  'BMY': {9: {}, 20: {}, 50: {}, 100: {}, 200: {}},\n",
              "  'LLY': {9: {}, 20: {}, 50: {}, 100: {}, 200: {}},\n",
              "  'REGN': {9: {}, 20: {}, 50: {}, 100: {}, 200: {}},\n",
              "  'UNH': {9: {}, 20: {}, 50: {}, 100: {}, 200: {}}},\n",
              " 'Financial': {'JPM': {9: {}, 20: {}, 50: {}, 100: {}, 200: {}},\n",
              "  'BAC': {9: {}, 20: {}, 50: {}, 100: {}, 200: {}},\n",
              "  'WFC': {9: {}, 20: {}, 50: {}, 100: {}, 200: {}},\n",
              "  'C': {9: 0.0012341563362866972,\n",
              "   20: 0.00029405980132580893,\n",
              "   50: 0.0005374463792407372,\n",
              "   100: 0.0003605862049299824,\n",
              "   200: 0.0003887515922140761},\n",
              "  'GS': {9: {}, 20: {}, 50: {}, 100: {}, 200: {}},\n",
              "  'MS': {9: {}, 20: {}, 50: {}, 100: {}, 200: {}},\n",
              "  'V': {9: {}, 20: {}, 50: {}, 100: {}, 200: {}},\n",
              "  'MA': {9: {}, 20: {}, 50: {}, 100: {}, 200: {}},\n",
              "  'AXP': {9: {}, 20: {}, 50: {}, 100: {}, 200: {}},\n",
              "  'SCHW': {9: {}, 20: {}, 50: {}, 100: {}, 200: {}}},\n",
              " 'Consumer_D': {'HD': {9: {}, 20: {}, 50: {}, 100: {}, 200: {}},\n",
              "  'MCD': {9: {}, 20: {}, 50: {}, 100: {}, 200: {}},\n",
              "  'NKE': {9: {}, 20: {}, 50: {}, 100: {}, 200: {}},\n",
              "  'SBUX': {9: {}, 20: {}, 50: {}, 100: {}, 200: {}},\n",
              "  'DIS': {9: {}, 20: {}, 50: {}, 100: {}, 200: {}},\n",
              "  'CMCSA': {9: {}, 20: {}, 50: {}, 100: {}, 200: {}},\n",
              "  'LOW': {9: {}, 20: {}, 50: {}, 100: {}, 200: {}},\n",
              "  'GM': {9: {}, 20: {}, 50: {}, 100: {}, 200: {}},\n",
              "  'F': {9: 1.631437645281145e-07,\n",
              "   20: 1.7270443604413847e-07,\n",
              "   50: 4.5721537682615255e-07,\n",
              "   100: 3.2785069678801545e-06,\n",
              "   200: 1.480415450220199e-05},\n",
              "  'BKNG': {9: {}, 20: {}, 50: 0.005028355047547076, 100: {}, 200: {}}},\n",
              " 'Consumer_S': {'PG': {9: {}, 20: {}, 50: {}, 100: {}, 200: {}},\n",
              "  'KO': {9: {}, 20: {}, 50: {}, 100: {}, 200: {}},\n",
              "  'PEP': {9: {}, 20: {}, 50: {}, 100: {}, 200: {}},\n",
              "  'WMT': {9: {}, 20: {}, 50: {}, 100: {}, 200: {}},\n",
              "  'CL': {9: {}, 20: {}, 50: {}, 100: {}, 200: {}},\n",
              "  'KMB': {9: {}, 20: {}, 50: {}, 100: {}, 200: {}},\n",
              "  'CLX': {9: {}, 20: {}, 50: {}, 100: {}, 200: {}},\n",
              "  'MDLZ': {9: {}, 20: {}, 50: {}, 100: {}, 200: {}},\n",
              "  'EL': {9: {}, 20: {}, 50: {}, 100: {}, 200: {}}},\n",
              " 'Industrial': {'BA': {9: {}, 20: {}, 50: {}, 100: {}, 200: {}},\n",
              "  'GE': {9: {}, 20: {}, 50: 0.004032308663271779, 100: {}, 200: {}},\n",
              "  'MMM': {9: {}, 20: {}, 50: {}, 100: {}, 200: {}},\n",
              "  'HON': {9: {}, 20: {}, 50: {}, 100: {}, 200: {}},\n",
              "  'CAT': {9: {}, 20: {}, 50: {}, 100: {}, 200: {}},\n",
              "  'RTX': {9: {}, 20: {}, 50: {}, 100: {}, 200: {}},\n",
              "  'LMT': {9: {}, 20: {}, 50: {}, 100: {}, 200: {}},\n",
              "  'GD': {9: {}, 20: {}, 50: {}, 100: {}, 200: {}},\n",
              "  'UNP': {9: {}, 20: {}, 50: {}, 100: {}, 200: {}},\n",
              "  'FDX': {9: {}, 20: {}, 50: {}, 100: {}, 200: {}}},\n",
              " 'Energy': {'XOM': {9: {}, 20: {}, 50: {}, 100: {}, 200: {}},\n",
              "  'CVX': {9: {}, 20: {}, 50: {}, 100: {}, 200: {}},\n",
              "  'BP': {9: {}, 20: {}, 50: {}, 100: {}, 200: {}},\n",
              "  'COP': {9: {}, 20: {}, 50: {}, 100: {}, 200: {}},\n",
              "  'EOG': {9: {}, 20: {}, 50: {}, 100: {}, 200: {}},\n",
              "  'OXY': {9: {}, 20: {}, 50: {}, 100: {}, 200: {}},\n",
              "  'SLB': {9: {}, 20: {}, 50: {}, 100: {}, 200: {}},\n",
              "  'KMI': {9: {}, 20: {}, 50: {}, 100: {}, 200: {}},\n",
              "  'WMB': {9: {}, 20: {}, 50: {}, 100: {}, 200: {}}},\n",
              " 'Utility': {'NEE': {9: {}, 20: {}, 50: {}, 100: {}, 200: {}},\n",
              "  'DUK': {9: {}, 20: {}, 50: {}, 100: {}, 200: {}},\n",
              "  'D': {9: {}, 20: {}, 50: {}, 100: {}, 200: {}},\n",
              "  'SO': {9: {}, 20: {}, 50: {}, 100: {}, 200: {}},\n",
              "  'EXC': {9: {}, 20: {}, 50: {}, 100: {}, 200: {}},\n",
              "  'AEP': {9: {}, 20: {}, 50: {}, 100: {}, 200: {}},\n",
              "  'SRE': {9: {}, 20: {}, 50: {}, 100: {}, 200: {}},\n",
              "  'XEL': {9: {}, 20: {}, 50: {}, 100: {}, 200: {}},\n",
              "  'WEC': {9: {}, 20: {}, 50: {}, 100: {}, 200: {}},\n",
              "  'AWK': {9: {}, 20: {}, 50: {}, 100: {}, 200: {}}},\n",
              " 'Market_ETF': {'SPY': {9: {}, 20: {}, 50: {}, 100: {}, 200: {}},\n",
              "  'QQQ': {9: {}, 20: {}, 50: {}, 100: {}, 200: {}}}}"
            ]
          },
          "metadata": {},
          "execution_count": 75
        }
      ]
    }
  ]
}