{
  "cells": [
    {
      "cell_type": "markdown",
      "metadata": {
        "colab_type": "text",
        "id": "view-in-github"
      },
      "source": [
        "<a href=\"https://colab.research.google.com/github/SamanvayMS/FIN-554-Algo-trading-finalproject/blob/main/VWAP_hypothesis_tests.ipynb\" target=\"_parent\"><img src=\"https://colab.research.google.com/assets/colab-badge.svg\" alt=\"Open In Colab\"/></a>"
      ]
    },
    {
      "cell_type": "code",
      "execution_count": null,
      "metadata": {
        "id": "WV4Z65nQhEvM"
      },
      "outputs": [],
      "source": [
        "pip install yfinance"
      ]
    },
    {
      "cell_type": "code",
      "execution_count": null,
      "metadata": {
        "id": "nfok15NGhF_U"
      },
      "outputs": [],
      "source": [
        "pip install update pandas_datareader"
      ]
    },
    {
      "cell_type": "code",
      "execution_count": 92,
      "metadata": {
        "id": "LVL1_sDihH5z"
      },
      "outputs": [],
      "source": [
        "import pandas as pd\n",
        "import yfinance as yf\n",
        "import numpy as np\n",
        "import matplotlib.pyplot as plt\n",
        "\n",
        "%matplotlib inline"
      ]
    },
    {
      "cell_type": "code",
      "execution_count": 93,
      "metadata": {
        "id": "uyJdO0dDhJyr"
      },
      "outputs": [],
      "source": [
        "yf.pdr_override()"
      ]
    },
    {
      "cell_type": "code",
      "execution_count": 94,
      "metadata": {
        "colab": {
          "base_uri": "https://localhost:8080/"
        },
        "id": "fyuZEuY_hLks",
        "outputId": "21f20497-69cf-44af-b1e7-8e3b3bf41d8b"
      },
      "outputs": [
        {
          "name": "stdout",
          "output_type": "stream",
          "text": [
            "\r[*********************100%***********************]  1 of 1 completed\n"
          ]
        }
      ],
      "source": [
        "start='2000-01-01'\n",
        "end='2010-01-01'\n",
        "df = yf.download('SPY',start,end)"
      ]
    },
    {
      "cell_type": "code",
      "execution_count": 95,
      "metadata": {
        "colab": {
          "base_uri": "https://localhost:8080/"
        },
        "id": "X6ptHit4hNpM",
        "outputId": "d69538ca-3aec-445d-f884-aa4bdd3ab269"
      },
      "outputs": [
        {
          "data": {
            "text/plain": [
              "Index(['Open', 'High', 'Low', 'Close', 'Adj Close', 'Volume'], dtype='object')"
            ]
          },
          "execution_count": 95,
          "metadata": {},
          "output_type": "execute_result"
        }
      ],
      "source": [
        "df.columns"
      ]
    },
    {
      "cell_type": "code",
      "execution_count": 96,
      "metadata": {
        "id": "Ar4mIFOKhQck"
      },
      "outputs": [],
      "source": [
        "def data_prep_VWAP(symbol,lookback,start,end):\n",
        "  # Calculate the cumulative sum of price times volume\n",
        "  df = yf.download(symbol,start,end)\n",
        "  df['PV'] = df['Close'] * df['Volume']\n",
        "  df['CumulativePV'] = df['PV'].rolling(lookback).sum()\n",
        "\n",
        "  # Calculate the cumulative sum of volume\n",
        "  df['CumulativeVolume'] = df['Volume'].rolling(lookback).sum()\n",
        "\n",
        "  # Calculate the rolling VWAP\n",
        "  df['RollingVWAP'] = df['CumulativePV'] / df['CumulativeVolume']\n",
        "  df['signal']=np.where(df['Open']>df['RollingVWAP'].shift(1),1,0)\n",
        "  df['returns']=(df['Close']-df['Open'])/df['Open']\n",
        "  df['shifted_returns']=df['returns'].shift(-1)\n",
        "  df['direction'] = [1 if x>0 else 0 for x in df['returns']]\n",
        "  df=df.dropna(axis=0)\n",
        "  return df"
      ]
    },
    {
      "cell_type": "code",
      "execution_count": 97,
      "metadata": {
        "id": "ieNxLOj_zdA-"
      },
      "outputs": [],
      "source": [
        "# here we look at stcoks from all the sectors of the market\n",
        "sectors = ['Tech','Healthcare','Financial','Consumer_D','Consumer_S','Industrial','Energy','Utility','Market_ETF']\n",
        "Tech_stocks=['AAPL','MSFT','NVDA','ADBE','CRM','GOOGL','AMZN','IBM','INTC','CSCO']\n",
        "Healthcare_stocks=['JNJ','PFE','MRK','GILD','AMGN','BMY','LLY','REGN','UNH']\n",
        "Financial_stocks=[\"JPM\", \"BAC\", \"WFC\", \"C\", \"GS\", \"MS\", \"V\", \"MA\", \"AXP\", \"SCHW\"]\n",
        "Consumer_D_stocks = [\"HD\", \"MCD\", \"NKE\", \"SBUX\", \"DIS\", \"CMCSA\", \"LOW\", \"GM\", \"F\", \"BKNG\"] # Consumer discretionary\n",
        "Consumer_S_stocks= [\"PG\", \"KO\", \"PEP\", \"WMT\", \"CL\", \"KMB\", \"CLX\", \"MDLZ\", \"EL\"] #Consumer Staples\n",
        "Industrial_stocks = [\"BA\", \"GE\", \"MMM\", \"HON\", \"CAT\", \"RTX\", \"LMT\", \"GD\", \"UNP\", \"FDX\"]\n",
        "Energy_stocks = [\"XOM\", \"CVX\", \"BP\", \"COP\", \"EOG\", \"OXY\", \"SLB\", \"KMI\", \"WMB\"]\n",
        "Utility_stocks = [\"NEE\", \"DUK\", \"D\", \"SO\", \"EXC\", \"AEP\", \"SRE\", \"XEL\", \"WEC\", \"AWK\"]\n",
        "Market_ETF_stocks = ['SPY','QQQ']"
      ]
    },
    {
      "cell_type": "markdown",
      "metadata": {
        "id": "nHWh0ep9VyaI"
      },
      "source": [
        "### Asset selection for tests\n",
        "Selected a basket of stocks from each sector for running and analysing the stocks and their sector wise dependence.\n",
        "pros- can identify the sector wise dependence of stocks on indicators \n",
        "cons - \n",
        "survivorship bias as some stocks might delisted or just added \n",
        "overfitting bias as we are cherry picking stocks based on p value \n"
      ]
    },
    {
      "cell_type": "code",
      "execution_count": 98,
      "metadata": {
        "id": "Cc1ZyjA0GMeQ"
      },
      "outputs": [],
      "source": [
        "lookbacks=[9,20,50,100,200]"
      ]
    },
    {
      "cell_type": "code",
      "execution_count": 99,
      "metadata": {
        "id": "KxgtoEm0GP6y"
      },
      "outputs": [],
      "source": [
        "start='2000-01-01'\n",
        "end='2015-01-01'"
      ]
    },
    {
      "cell_type": "markdown",
      "metadata": {
        "id": "VvW349sLvZyB"
      },
      "source": [
        "# Hypothesis Tests \n"
      ]
    },
    {
      "cell_type": "markdown",
      "metadata": {
        "id": "gpUvbY0Qc81N"
      },
      "source": [
        "chi_squared test"
      ]
    },
    {
      "cell_type": "code",
      "execution_count": 100,
      "metadata": {
        "id": "TbzGsI8wwApx"
      },
      "outputs": [],
      "source": [
        "from scipy.stats import chi2_contingency"
      ]
    },
    {
      "cell_type": "markdown",
      "metadata": {
        "id": "J3r4QVwChk1S"
      },
      "source": [
        "H0 :- null hypothesis assumes no significant relationship between opening price and the previous rolling VWAP value\n",
        "\n",
        "H1 :- significant relationship with the previous VWAP value bullish when above VWAP and bearish when below VWAP"
      ]
    },
    {
      "cell_type": "code",
      "execution_count": 101,
      "metadata": {
        "id": "uyRVt7mgkdKW"
      },
      "outputs": [],
      "source": [
        "def chi_2(Symbol,lookback,start,end,print_results=False):\n",
        "  df = data_prep_VWAP(Symbol,lookback,start=start,end=end)\n",
        "  observed=pd.crosstab(df['direction'],df['signal'])\n",
        "  result = chi2_contingency(observed)\n",
        "  if print_results:\n",
        "    print(f\"p value for {Symbol} is {result[1]}\")\n",
        "    if result[1]>0.01:\n",
        "      print(\"null hypothesis cannot be rejected\")\n",
        "    else:\n",
        "      print(\"null hypothesis is rejected\")\n",
        "  return result[1]"
      ]
    },
    {
      "cell_type": "code",
      "execution_count": null,
      "metadata": {
        "id": "2Bhp9jsdlmqK"
      },
      "outputs": [],
      "source": [
        "chi_2_hypothesis_rejected=dict.fromkeys(sectors)\n",
        "for sector in sectors:\n",
        "  chi_2_hypothesis_rejected[sector]={}\n",
        "  for stock in eval(sector+'_stocks'):\n",
        "    chi_2_hypothesis_rejected[sector][stock]={}\n",
        "    for lookback in lookbacks:\n",
        "      p_value = chi_2(stock,lookback,start,end)\n",
        "      if p_value<0.01:\n",
        "        chi_2_hypothesis_rejected[sector][stock][lookback]=p_value\n"
      ]
    },
    {
      "cell_type": "markdown",
      "metadata": {
        "id": "HrVJqpzTVSXg"
      },
      "source": [
        "The stocks from each sector and the p values for the lookback period that was significant\n"
      ]
    },
    {
      "cell_type": "code",
      "execution_count": 103,
      "metadata": {
        "colab": {
          "base_uri": "https://localhost:8080/"
        },
        "id": "ZRky-fi1LBB4",
        "outputId": "36dfcd94-244f-49b8-c183-28623a8706ed"
      },
      "outputs": [
        {
          "data": {
            "text/plain": [
              "{'Tech': {'AAPL': {},\n",
              "  'MSFT': {},\n",
              "  'NVDA': {},\n",
              "  'ADBE': {},\n",
              "  'CRM': {},\n",
              "  'GOOGL': {},\n",
              "  'AMZN': {},\n",
              "  'IBM': {20: 0.00022509312052244968, 50: 0.003404876069126242},\n",
              "  'INTC': {20: 0.00195397880491183},\n",
              "  'CSCO': {}},\n",
              " 'Healthcare': {'JNJ': {},\n",
              "  'PFE': {},\n",
              "  'MRK': {},\n",
              "  'GILD': {9: 0.009967699673768692},\n",
              "  'AMGN': {9: 0.007729930807287963},\n",
              "  'BMY': {},\n",
              "  'LLY': {},\n",
              "  'REGN': {},\n",
              "  'UNH': {}},\n",
              " 'Financial': {'JPM': {},\n",
              "  'BAC': {50: 0.0004545738831357769,\n",
              "   100: 0.0006559967461908341,\n",
              "   200: 0.000354632984565625},\n",
              "  'WFC': {9: 1.1413091044536635e-05, 20: 0.0002469740678344058},\n",
              "  'C': {},\n",
              "  'GS': {},\n",
              "  'MS': {},\n",
              "  'V': {},\n",
              "  'MA': {},\n",
              "  'AXP': {},\n",
              "  'SCHW': {}},\n",
              " 'Consumer_D': {'HD': {},\n",
              "  'MCD': {},\n",
              "  'NKE': {},\n",
              "  'SBUX': {9: 0.0031921507465243015},\n",
              "  'DIS': {},\n",
              "  'CMCSA': {},\n",
              "  'LOW': {},\n",
              "  'GM': {},\n",
              "  'F': {},\n",
              "  'BKNG': {100: 0.0078052955394651725, 200: 0.00534061471338179}},\n",
              " 'Consumer_S': {'PG': {},\n",
              "  'KO': {200: 0.0019015133954092792},\n",
              "  'PEP': {},\n",
              "  'WMT': {},\n",
              "  'CL': {9: 0.006077710437448899},\n",
              "  'KMB': {9: 1.206584091434172e-06},\n",
              "  'CLX': {9: 1.6529005842236106e-05, 20: 0.008001566437719078},\n",
              "  'MDLZ': {},\n",
              "  'EL': {}},\n",
              " 'Industrial': {'BA': {},\n",
              "  'GE': {},\n",
              "  'MMM': {200: 0.003207528436922784},\n",
              "  'HON': {},\n",
              "  'CAT': {},\n",
              "  'RTX': {9: 0.0011851464658346144},\n",
              "  'LMT': {9: 0.0034287797692912},\n",
              "  'GD': {},\n",
              "  'UNP': {},\n",
              "  'FDX': {}},\n",
              " 'Energy': {'XOM': {},\n",
              "  'CVX': {},\n",
              "  'BP': {},\n",
              "  'COP': {},\n",
              "  'EOG': {},\n",
              "  'OXY': {},\n",
              "  'SLB': {},\n",
              "  'KMI': {},\n",
              "  'WMB': {}},\n",
              " 'Utility': {'NEE': {9: 0.00802268526169039},\n",
              "  'DUK': {200: 0.007855502152470363},\n",
              "  'D': {9: 0.0007041520619211833},\n",
              "  'SO': {},\n",
              "  'EXC': {},\n",
              "  'AEP': {},\n",
              "  'SRE': {},\n",
              "  'XEL': {},\n",
              "  'WEC': {},\n",
              "  'AWK': {9: 0.00769107373070232}},\n",
              " 'Market_ETF': {'SPY': {}, 'QQQ': {}}}"
            ]
          },
          "execution_count": 103,
          "metadata": {},
          "output_type": "execute_result"
        }
      ],
      "source": [
        "chi_2_hypothesis_rejected"
      ]
    },
    {
      "cell_type": "markdown",
      "metadata": {
        "id": "hsfa6qxnVcyg"
      },
      "source": [
        "Looking at this we dont see too many stocks having clear relationship and the relationship is only visible in certain assets so this hypothesis can be rejected on the whole"
      ]
    },
    {
      "cell_type": "markdown",
      "metadata": {
        "id": "RGkML7JHc_vc"
      },
      "source": [
        "wilcox rank test"
      ]
    },
    {
      "cell_type": "code",
      "execution_count": 104,
      "metadata": {
        "id": "gy32_4jSdBys"
      },
      "outputs": [],
      "source": [
        "from scipy.stats import ranksums\n",
        "from scipy.stats import shapiro\n",
        "from scipy.stats import ttest_ind"
      ]
    },
    {
      "cell_type": "markdown",
      "metadata": {
        "id": "SK32pflOgvyU"
      },
      "source": [
        "H0:-There is no significant relationship between the returns and the price's position relative to the VWAP.\n",
        "\n",
        "H1:-The returns are significantly positive when the price is above the VWAP and significantly negative when the price is below the VWAP."
      ]
    },
    {
      "cell_type": "code",
      "execution_count": 105,
      "metadata": {
        "id": "C7x5O2XWdoLp"
      },
      "outputs": [],
      "source": [
        "def tests(Symbol,lookback,start,end,print_results=False):\n",
        "  df = data_prep_VWAP(Symbol,lookback,start=start,end=end)\n",
        "  above_vwap = df[df['Open'] > df['RollingVWAP'].shift(1)]['returns']\n",
        "  below_vwap = df[df['Open'] < df['RollingVWAP'].shift(1)]['returns']\n",
        "\n",
        "  #plt.hist(above_vwap,bins=30,color=\"green\",alpha=0.5)\n",
        "  #plt.hist(below_vwap,bins=30,color=\"red\",alpha=0.5)\n",
        "  #plt.show()\n",
        "  _, p_value1 = shapiro(above_vwap)\n",
        "  _, p_value2 = shapiro(below_vwap)\n",
        "  if p_value1 > 0.01 and p_value2 > 0.01:\n",
        "    if print_results:\n",
        "      print(\"returns are normally distributed\")\n",
        "      print(\"we can run a t-test\")\n",
        "    stat, p_value = ttest_ind(above_vwap, below_vwap, equal_var=True)\n",
        "  else:\n",
        "    if print_results:\n",
        "      print(\"returns are not normally distributed\")\n",
        "      print(\"we can run a Wilcox Rank Sum test\")    \n",
        "    stat, p_value = ranksums(above_vwap, below_vwap)\n",
        "  if print_results:\n",
        "    print(f\"p value for {Symbol} is {p_value}\")\n",
        "    if p_value>0.01:\n",
        "      print(\"null hypothesis cannot be rejected\")\n",
        "    else:\n",
        "      print(\"null hypothesis is rejected\")\n",
        "  return p_value"
      ]
    },
    {
      "cell_type": "code",
      "execution_count": null,
      "metadata": {
        "id": "7QNEnD1veS0e"
      },
      "outputs": [],
      "source": [
        "WRT_hypothesis_rejected=dict.fromkeys(sectors)\n",
        "for sector in sectors:\n",
        "  WRT_hypothesis_rejected[sector]={}\n",
        "  for stock in eval(sector+'_stocks'):\n",
        "    WRT_hypothesis_rejected[sector][stock]={}\n",
        "    for lookback in lookbacks:\n",
        "      p_value = tests(stock,lookback,start,end)\n",
        "      if p_value<0.01:\n",
        "        WRT_hypothesis_rejected[sector][stock][lookback]=p_value"
      ]
    },
    {
      "cell_type": "code",
      "execution_count": 107,
      "metadata": {
        "colab": {
          "base_uri": "https://localhost:8080/"
        },
        "id": "-1zZpYMwLgyp",
        "outputId": "ac341a47-d337-4b3a-e6c4-a6b8f426e8eb"
      },
      "outputs": [
        {
          "data": {
            "text/plain": [
              "{'Tech': {'AAPL': {},\n",
              "  'MSFT': {},\n",
              "  'NVDA': {},\n",
              "  'ADBE': {},\n",
              "  'CRM': {},\n",
              "  'GOOGL': {},\n",
              "  'AMZN': {},\n",
              "  'IBM': {20: 0.000627479671296681, 50: 0.001604488958014522},\n",
              "  'INTC': {20: 0.0005059508507632124},\n",
              "  'CSCO': {}},\n",
              " 'Healthcare': {'JNJ': {},\n",
              "  'PFE': {9: 0.005513933052505112},\n",
              "  'MRK': {},\n",
              "  'GILD': {9: 0.0041164552045779975},\n",
              "  'AMGN': {9: 0.0011220472487111985},\n",
              "  'BMY': {},\n",
              "  'LLY': {},\n",
              "  'REGN': {},\n",
              "  'UNH': {}},\n",
              " 'Financial': {'JPM': {},\n",
              "  'BAC': {50: 0.00048498939807548643,\n",
              "   100: 0.0016343801666512479,\n",
              "   200: 0.0023914319763511317},\n",
              "  'WFC': {9: 3.5535242307535772e-06, 20: 0.00018701641559694396},\n",
              "  'C': {50: 0.0018418161026729648},\n",
              "  'GS': {50: 0.009359279135939147},\n",
              "  'MS': {},\n",
              "  'V': {},\n",
              "  'MA': {},\n",
              "  'AXP': {},\n",
              "  'SCHW': {}},\n",
              " 'Consumer_D': {'HD': {},\n",
              "  'MCD': {},\n",
              "  'NKE': {},\n",
              "  'SBUX': {9: 0.0010403601726963478},\n",
              "  'DIS': {},\n",
              "  'CMCSA': {},\n",
              "  'LOW': {},\n",
              "  'GM': {},\n",
              "  'F': {50: 0.0002775309973352924,\n",
              "   100: 0.00017668389625593537,\n",
              "   200: 0.007896240391609532},\n",
              "  'BKNG': {50: 0.0010727465149072788,\n",
              "   100: 0.0017356028579870952,\n",
              "   200: 0.0022573717988431585}},\n",
              " 'Consumer_S': {'PG': {},\n",
              "  'KO': {},\n",
              "  'PEP': {9: 0.005815304036268412},\n",
              "  'WMT': {},\n",
              "  'CL': {9: 0.007420087902474311},\n",
              "  'KMB': {9: 3.2252780739461203e-09},\n",
              "  'CLX': {9: 9.621666213565257e-07, 20: 0.003710848445302053},\n",
              "  'MDLZ': {9: 0.00931605856220424},\n",
              "  'EL': {}},\n",
              " 'Industrial': {'BA': {},\n",
              "  'GE': {},\n",
              "  'MMM': {},\n",
              "  'HON': {},\n",
              "  'CAT': {},\n",
              "  'RTX': {9: 0.0023921722901217583},\n",
              "  'LMT': {9: 0.0005692793340655584},\n",
              "  'GD': {},\n",
              "  'UNP': {},\n",
              "  'FDX': {}},\n",
              " 'Energy': {'XOM': {},\n",
              "  'CVX': {},\n",
              "  'BP': {9: 0.0018341446773239257,\n",
              "   20: 0.005205320168735425,\n",
              "   50: 0.002558272890703662,\n",
              "   100: 0.0008274061021253348},\n",
              "  'COP': {},\n",
              "  'EOG': {},\n",
              "  'OXY': {},\n",
              "  'SLB': {},\n",
              "  'KMI': {},\n",
              "  'WMB': {}},\n",
              " 'Utility': {'NEE': {9: 0.0009031819775821121},\n",
              "  'DUK': {},\n",
              "  'D': {9: 0.00026666496238880483},\n",
              "  'SO': {},\n",
              "  'EXC': {},\n",
              "  'AEP': {},\n",
              "  'SRE': {},\n",
              "  'XEL': {},\n",
              "  'WEC': {50: 0.0006520527046658631},\n",
              "  'AWK': {9: 0.0017347590969084804, 20: 0.004815874152988245}},\n",
              " 'Market_ETF': {'SPY': {}, 'QQQ': {}}}"
            ]
          },
          "execution_count": 107,
          "metadata": {},
          "output_type": "execute_result"
        }
      ],
      "source": [
        "WRT_hypothesis_rejected"
      ]
    },
    {
      "cell_type": "markdown",
      "metadata": {
        "id": "0wmF_nSEVzDI"
      },
      "source": [
        "Looking at this we dont see too many stocks having clear relationship and the relationship is only visible in certain assets such as 'F', 'BP', 'BKNG' so this hypothesis can be rejected on the whole"
      ]
    },
    {
      "cell_type": "markdown",
      "metadata": {
        "id": "UnQ7Tt6byd28"
      },
      "source": [
        "# Taking moving averages\n"
      ]
    },
    {
      "cell_type": "code",
      "execution_count": 108,
      "metadata": {
        "id": "3UNVfC0Myjkc"
      },
      "outputs": [],
      "source": [
        "def data_prep_MA(symbol,lookback,start,end,smoothing_choice=\"s\"):\n",
        "  # Calculate the cumulative sum of price times volume\n",
        "  df = yf.download(symbol,start,end)\n",
        "  # Calculate the rolling MAs\n",
        "  if smoothing_choice=='s':\n",
        "    df['SMA']=df['Close'].rolling(window=lookback).mean()\n",
        "  elif smoothing_choice=='e':\n",
        "    df['EMA']=df['Close'].ewm(span=lookback, adjust=False).mean()\n",
        "  df['returns']=(df['Close']-df['Open'])/df['Open']\n",
        "  df=df.dropna(axis=0)\n",
        "  return df"
      ]
    },
    {
      "cell_type": "code",
      "execution_count": 109,
      "metadata": {
        "colab": {
          "base_uri": "https://localhost:8080/",
          "height": 472
        },
        "id": "yIOMu0RPCkMN",
        "outputId": "2dcb0684-356a-4ed4-d7dc-0dd7516e76dd"
      },
      "outputs": [
        {
          "name": "stdout",
          "output_type": "stream",
          "text": [
            "\r[*********************100%***********************]  1 of 1 completed\n"
          ]
        },
        {
          "data": {
            "text/html": [
              "\n",
              "  <div id=\"df-4530d771-c1d3-40fc-ae7e-39d356c5a860\">\n",
              "    <div class=\"colab-df-container\">\n",
              "      <div>\n",
              "<style scoped>\n",
              "    .dataframe tbody tr th:only-of-type {\n",
              "        vertical-align: middle;\n",
              "    }\n",
              "\n",
              "    .dataframe tbody tr th {\n",
              "        vertical-align: top;\n",
              "    }\n",
              "\n",
              "    .dataframe thead th {\n",
              "        text-align: right;\n",
              "    }\n",
              "</style>\n",
              "<table border=\"1\" class=\"dataframe\">\n",
              "  <thead>\n",
              "    <tr style=\"text-align: right;\">\n",
              "      <th></th>\n",
              "      <th>Open</th>\n",
              "      <th>High</th>\n",
              "      <th>Low</th>\n",
              "      <th>Close</th>\n",
              "      <th>Adj Close</th>\n",
              "      <th>Volume</th>\n",
              "      <th>SMA</th>\n",
              "      <th>returns</th>\n",
              "    </tr>\n",
              "    <tr>\n",
              "      <th>Date</th>\n",
              "      <th></th>\n",
              "      <th></th>\n",
              "      <th></th>\n",
              "      <th></th>\n",
              "      <th></th>\n",
              "      <th></th>\n",
              "      <th></th>\n",
              "      <th></th>\n",
              "    </tr>\n",
              "  </thead>\n",
              "  <tbody>\n",
              "    <tr>\n",
              "      <th>2000-01-03</th>\n",
              "      <td>0.936384</td>\n",
              "      <td>1.004464</td>\n",
              "      <td>0.907924</td>\n",
              "      <td>0.999442</td>\n",
              "      <td>0.850644</td>\n",
              "      <td>535796800</td>\n",
              "      <td>NaN</td>\n",
              "      <td>0.067342</td>\n",
              "    </tr>\n",
              "    <tr>\n",
              "      <th>2000-01-04</th>\n",
              "      <td>0.966518</td>\n",
              "      <td>0.987723</td>\n",
              "      <td>0.903460</td>\n",
              "      <td>0.915179</td>\n",
              "      <td>0.778926</td>\n",
              "      <td>512377600</td>\n",
              "      <td>NaN</td>\n",
              "      <td>-0.053117</td>\n",
              "    </tr>\n",
              "    <tr>\n",
              "      <th>2000-01-05</th>\n",
              "      <td>0.926339</td>\n",
              "      <td>0.987165</td>\n",
              "      <td>0.919643</td>\n",
              "      <td>0.928571</td>\n",
              "      <td>0.790324</td>\n",
              "      <td>778321600</td>\n",
              "      <td>NaN</td>\n",
              "      <td>0.002410</td>\n",
              "    </tr>\n",
              "    <tr>\n",
              "      <th>2000-01-06</th>\n",
              "      <td>0.947545</td>\n",
              "      <td>0.955357</td>\n",
              "      <td>0.848214</td>\n",
              "      <td>0.848214</td>\n",
              "      <td>0.721931</td>\n",
              "      <td>767972800</td>\n",
              "      <td>NaN</td>\n",
              "      <td>-0.104830</td>\n",
              "    </tr>\n",
              "    <tr>\n",
              "      <th>2000-01-07</th>\n",
              "      <td>0.861607</td>\n",
              "      <td>0.901786</td>\n",
              "      <td>0.852679</td>\n",
              "      <td>0.888393</td>\n",
              "      <td>0.756127</td>\n",
              "      <td>460734400</td>\n",
              "      <td>NaN</td>\n",
              "      <td>0.031088</td>\n",
              "    </tr>\n",
              "    <tr>\n",
              "      <th>...</th>\n",
              "      <td>...</td>\n",
              "      <td>...</td>\n",
              "      <td>...</td>\n",
              "      <td>...</td>\n",
              "      <td>...</td>\n",
              "      <td>...</td>\n",
              "      <td>...</td>\n",
              "      <td>...</td>\n",
              "    </tr>\n",
              "    <tr>\n",
              "      <th>2014-12-24</th>\n",
              "      <td>28.145000</td>\n",
              "      <td>28.177500</td>\n",
              "      <td>28.002501</td>\n",
              "      <td>28.002501</td>\n",
              "      <td>25.167875</td>\n",
              "      <td>57918400</td>\n",
              "      <td>23.937804</td>\n",
              "      <td>-0.005063</td>\n",
              "    </tr>\n",
              "    <tr>\n",
              "      <th>2014-12-26</th>\n",
              "      <td>28.025000</td>\n",
              "      <td>28.629999</td>\n",
              "      <td>28.002501</td>\n",
              "      <td>28.497499</td>\n",
              "      <td>25.612764</td>\n",
              "      <td>134884000</td>\n",
              "      <td>23.985532</td>\n",
              "      <td>0.016860</td>\n",
              "    </tr>\n",
              "    <tr>\n",
              "      <th>2014-12-29</th>\n",
              "      <td>28.447500</td>\n",
              "      <td>28.692499</td>\n",
              "      <td>28.424999</td>\n",
              "      <td>28.477501</td>\n",
              "      <td>25.594790</td>\n",
              "      <td>110395600</td>\n",
              "      <td>24.034225</td>\n",
              "      <td>0.001055</td>\n",
              "    </tr>\n",
              "    <tr>\n",
              "      <th>2014-12-30</th>\n",
              "      <td>28.410000</td>\n",
              "      <td>28.480000</td>\n",
              "      <td>28.027500</td>\n",
              "      <td>28.129999</td>\n",
              "      <td>25.282467</td>\n",
              "      <td>119526000</td>\n",
              "      <td>24.080814</td>\n",
              "      <td>-0.009856</td>\n",
              "    </tr>\n",
              "    <tr>\n",
              "      <th>2014-12-31</th>\n",
              "      <td>28.205000</td>\n",
              "      <td>28.282499</td>\n",
              "      <td>27.552500</td>\n",
              "      <td>27.594999</td>\n",
              "      <td>24.801630</td>\n",
              "      <td>165613600</td>\n",
              "      <td>24.123896</td>\n",
              "      <td>-0.021627</td>\n",
              "    </tr>\n",
              "  </tbody>\n",
              "</table>\n",
              "<p>3773 rows × 8 columns</p>\n",
              "</div>\n",
              "      <button class=\"colab-df-convert\" onclick=\"convertToInteractive('df-4530d771-c1d3-40fc-ae7e-39d356c5a860')\"\n",
              "              title=\"Convert this dataframe to an interactive table.\"\n",
              "              style=\"display:none;\">\n",
              "        \n",
              "  <svg xmlns=\"http://www.w3.org/2000/svg\" height=\"24px\"viewBox=\"0 0 24 24\"\n",
              "       width=\"24px\">\n",
              "    <path d=\"M0 0h24v24H0V0z\" fill=\"none\"/>\n",
              "    <path d=\"M18.56 5.44l.94 2.06.94-2.06 2.06-.94-2.06-.94-.94-2.06-.94 2.06-2.06.94zm-11 1L8.5 8.5l.94-2.06 2.06-.94-2.06-.94L8.5 2.5l-.94 2.06-2.06.94zm10 10l.94 2.06.94-2.06 2.06-.94-2.06-.94-.94-2.06-.94 2.06-2.06.94z\"/><path d=\"M17.41 7.96l-1.37-1.37c-.4-.4-.92-.59-1.43-.59-.52 0-1.04.2-1.43.59L10.3 9.45l-7.72 7.72c-.78.78-.78 2.05 0 2.83L4 21.41c.39.39.9.59 1.41.59.51 0 1.02-.2 1.41-.59l7.78-7.78 2.81-2.81c.8-.78.8-2.07 0-2.86zM5.41 20L4 18.59l7.72-7.72 1.47 1.35L5.41 20z\"/>\n",
              "  </svg>\n",
              "      </button>\n",
              "      \n",
              "  <style>\n",
              "    .colab-df-container {\n",
              "      display:flex;\n",
              "      flex-wrap:wrap;\n",
              "      gap: 12px;\n",
              "    }\n",
              "\n",
              "    .colab-df-convert {\n",
              "      background-color: #E8F0FE;\n",
              "      border: none;\n",
              "      border-radius: 50%;\n",
              "      cursor: pointer;\n",
              "      display: none;\n",
              "      fill: #1967D2;\n",
              "      height: 32px;\n",
              "      padding: 0 0 0 0;\n",
              "      width: 32px;\n",
              "    }\n",
              "\n",
              "    .colab-df-convert:hover {\n",
              "      background-color: #E2EBFA;\n",
              "      box-shadow: 0px 1px 2px rgba(60, 64, 67, 0.3), 0px 1px 3px 1px rgba(60, 64, 67, 0.15);\n",
              "      fill: #174EA6;\n",
              "    }\n",
              "\n",
              "    [theme=dark] .colab-df-convert {\n",
              "      background-color: #3B4455;\n",
              "      fill: #D2E3FC;\n",
              "    }\n",
              "\n",
              "    [theme=dark] .colab-df-convert:hover {\n",
              "      background-color: #434B5C;\n",
              "      box-shadow: 0px 1px 3px 1px rgba(0, 0, 0, 0.15);\n",
              "      filter: drop-shadow(0px 1px 2px rgba(0, 0, 0, 0.3));\n",
              "      fill: #FFFFFF;\n",
              "    }\n",
              "  </style>\n",
              "\n",
              "      <script>\n",
              "        const buttonEl =\n",
              "          document.querySelector('#df-4530d771-c1d3-40fc-ae7e-39d356c5a860 button.colab-df-convert');\n",
              "        buttonEl.style.display =\n",
              "          google.colab.kernel.accessAllowed ? 'block' : 'none';\n",
              "\n",
              "        async function convertToInteractive(key) {\n",
              "          const element = document.querySelector('#df-4530d771-c1d3-40fc-ae7e-39d356c5a860');\n",
              "          const dataTable =\n",
              "            await google.colab.kernel.invokeFunction('convertToInteractive',\n",
              "                                                     [key], {});\n",
              "          if (!dataTable) return;\n",
              "\n",
              "          const docLinkHtml = 'Like what you see? Visit the ' +\n",
              "            '<a target=\"_blank\" href=https://colab.research.google.com/notebooks/data_table.ipynb>data table notebook</a>'\n",
              "            + ' to learn more about interactive tables.';\n",
              "          element.innerHTML = '';\n",
              "          dataTable['output_type'] = 'display_data';\n",
              "          await google.colab.output.renderOutput(dataTable, element);\n",
              "          const docLink = document.createElement('div');\n",
              "          docLink.innerHTML = docLinkHtml;\n",
              "          element.appendChild(docLink);\n",
              "        }\n",
              "      </script>\n",
              "    </div>\n",
              "  </div>\n",
              "  "
            ],
            "text/plain": [
              "                 Open       High        Low      Close  Adj Close     Volume  \\\n",
              "Date                                                                           \n",
              "2000-01-03   0.936384   1.004464   0.907924   0.999442   0.850644  535796800   \n",
              "2000-01-04   0.966518   0.987723   0.903460   0.915179   0.778926  512377600   \n",
              "2000-01-05   0.926339   0.987165   0.919643   0.928571   0.790324  778321600   \n",
              "2000-01-06   0.947545   0.955357   0.848214   0.848214   0.721931  767972800   \n",
              "2000-01-07   0.861607   0.901786   0.852679   0.888393   0.756127  460734400   \n",
              "...               ...        ...        ...        ...        ...        ...   \n",
              "2014-12-24  28.145000  28.177500  28.002501  28.002501  25.167875   57918400   \n",
              "2014-12-26  28.025000  28.629999  28.002501  28.497499  25.612764  134884000   \n",
              "2014-12-29  28.447500  28.692499  28.424999  28.477501  25.594790  110395600   \n",
              "2014-12-30  28.410000  28.480000  28.027500  28.129999  25.282467  119526000   \n",
              "2014-12-31  28.205000  28.282499  27.552500  27.594999  24.801630  165613600   \n",
              "\n",
              "                  SMA   returns  \n",
              "Date                             \n",
              "2000-01-03        NaN  0.067342  \n",
              "2000-01-04        NaN -0.053117  \n",
              "2000-01-05        NaN  0.002410  \n",
              "2000-01-06        NaN -0.104830  \n",
              "2000-01-07        NaN  0.031088  \n",
              "...               ...       ...  \n",
              "2014-12-24  23.937804 -0.005063  \n",
              "2014-12-26  23.985532  0.016860  \n",
              "2014-12-29  24.034225  0.001055  \n",
              "2014-12-30  24.080814 -0.009856  \n",
              "2014-12-31  24.123896 -0.021627  \n",
              "\n",
              "[3773 rows x 8 columns]"
            ]
          },
          "execution_count": 109,
          "metadata": {},
          "output_type": "execute_result"
        }
      ],
      "source": [
        "data_prep_MA('AAPL',lookback,start,end,'s')"
      ]
    },
    {
      "cell_type": "code",
      "execution_count": 110,
      "metadata": {
        "id": "HhbgWLc97G4d"
      },
      "outputs": [],
      "source": [
        "def tests_MA(symbol,lookback,start,end,smoothing_choice,print_results=False,plot_dist=False):\n",
        "  if smoothing_choice=='s':\n",
        "    column='SMA'\n",
        "  elif smoothing_choice=='e':\n",
        "    column='EMA'\n",
        "  else:\n",
        "    print(\"invalid MA choice\")\n",
        "  df = data_prep_MA(symbol,lookback,start,end,smoothing_choice)\n",
        "  above_ma = df[df['Open'] > df[column].shift(1)]['returns']\n",
        "  below_ma = df[df['Open'] < df[column].shift(1)]['returns']\n",
        "  if plot_dist:\n",
        "    plt.hist(above_ma,bins=30,color=\"green\",alpha=0.5)\n",
        "    plt.hist(below_ma,bins=30,color=\"red\",alpha=0.5)\n",
        "    plt.show()\n",
        "  \n",
        "  _, p_value1 = shapiro(above_ma)\n",
        "  _, p_value2 = shapiro(below_ma)\n",
        "  if p_value1 > 0.01 and p_value2 > 0.01:\n",
        "    if print_results:\n",
        "      print(\"returns are normally distributed\")\n",
        "      print(\"we can run a t-test\")\n",
        "    stat, p_value = ttest_ind(above_ma, below_ma, equal_var=True)\n",
        "  else:\n",
        "    if print_results:\n",
        "      print(\"returns are not normally distributed\")\n",
        "      print(\"we can run a Wilcox Rank Sum test\")    \n",
        "    stat, p_value = ranksums(above_ma, below_ma)\n",
        "  if print_results:\n",
        "    print(f\"p value for {symbol} is {p_value}\")\n",
        "    if p_value>0.01:\n",
        "      print(\"null hypothesis cannot be rejected\")\n",
        "    else:\n",
        "      print(\"null hypothesis is rejected\")\n",
        "  return p_value"
      ]
    },
    {
      "cell_type": "code",
      "execution_count": null,
      "metadata": {
        "id": "kgbfREZK9u4J"
      },
      "outputs": [],
      "source": [
        "EMA_hypothesis_rejected=dict.fromkeys(sectors)\n",
        "for sector in sectors:\n",
        "  EMA_hypothesis_rejected[sector]={}\n",
        "  for stock in eval(sector+'_stocks'):\n",
        "    EMA_hypothesis_rejected[sector][stock]={}\n",
        "    for lookback in lookbacks:\n",
        "      EMA_hypothesis_rejected[sector][stock][lookback]={}\n",
        "      for ma_type in ['s','e']:\n",
        "        p_value = tests(stock,lookback,start,end)\n",
        "        if p_value<0.01:\n",
        "          EMA_hypothesis_rejected[sector][stock][lookback][ma_type]=p_value"
      ]
    }
  ],
  "metadata": {
    "colab": {
      "authorship_tag": "ABX9TyMGt2YP1bB63T/6QtA2sBJN",
      "include_colab_link": true,
      "provenance": []
    },
    "kernelspec": {
      "display_name": "Python 3",
      "language": "python",
      "name": "python3"
    },
    "language_info": {
      "name": "python",
      "version": "3.10.7 (v3.10.7:6cc6b13308, Sep  5 2022, 14:02:52) [Clang 13.0.0 (clang-1300.0.29.30)]"
    },
    "vscode": {
      "interpreter": {
        "hash": "aee8b7b246df8f9039afb4144a1f6fd8d2ca17a180786b69acc140d282b71a49"
      }
    }
  },
  "nbformat": 4,
  "nbformat_minor": 0
}
